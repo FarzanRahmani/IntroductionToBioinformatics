{
  "nbformat": 4,
  "nbformat_minor": 0,
  "metadata": {
    "colab": {
      "provenance": []
    },
    "kernelspec": {
      "name": "python3",
      "display_name": "Python 3"
    },
    "language_info": {
      "name": "python"
    }
  },
  "cells": [
    {
      "cell_type": "code",
      "execution_count": null,
      "metadata": {
        "colab": {
          "base_uri": "https://localhost:8080/"
        },
        "id": "bGnjujYuonEJ",
        "outputId": "bcdf57dc-0d9a-47dd-d614-ab48145a6a6c"
      },
      "outputs": [
        {
          "output_type": "stream",
          "name": "stdout",
          "text": [
            "Collecting biopython\n",
            "  Downloading biopython-1.84-cp310-cp310-manylinux_2_17_x86_64.manylinux2014_x86_64.whl.metadata (12 kB)\n",
            "Requirement already satisfied: numpy in /usr/local/lib/python3.10/dist-packages (from biopython) (1.26.4)\n",
            "Downloading biopython-1.84-cp310-cp310-manylinux_2_17_x86_64.manylinux2014_x86_64.whl (3.2 MB)\n",
            "\u001b[2K   \u001b[90m━━━━━━━━━━━━━━━━━━━━━━━━━━━━━━━━━━━━━━━━\u001b[0m \u001b[32m3.2/3.2 MB\u001b[0m \u001b[31m25.5 MB/s\u001b[0m eta \u001b[36m0:00:00\u001b[0m\n",
            "\u001b[?25hInstalling collected packages: biopython\n",
            "Successfully installed biopython-1.84\n"
          ]
        }
      ],
      "source": [
        "!pip install biopython"
      ]
    },
    {
      "cell_type": "code",
      "source": [
        "!unzip GCA_000005845.2_ASM584v2_genomic.zip"
      ],
      "metadata": {
        "colab": {
          "base_uri": "https://localhost:8080/"
        },
        "id": "bHv7Pk6mo5Qn",
        "outputId": "45173e7f-1230-4efd-b308-1e051d97ba4b"
      },
      "execution_count": null,
      "outputs": [
        {
          "output_type": "stream",
          "name": "stdout",
          "text": [
            "Archive:  GCA_000005845.2_ASM584v2_genomic.zip\n",
            "  inflating: GCA_000005845.2_ASM584v2_genomic.fna  \n"
          ]
        }
      ]
    },
    {
      "cell_type": "code",
      "source": [
        "!ls -la"
      ],
      "metadata": {
        "colab": {
          "base_uri": "https://localhost:8080/"
        },
        "id": "ZAlEql-MpBr2",
        "outputId": "fd56c3df-4c74-4461-8ce6-6427eb7f91a2"
      },
      "execution_count": null,
      "outputs": [
        {
          "output_type": "stream",
          "name": "stdout",
          "text": [
            "total 6012\n",
            "drwxr-xr-x 1 root root    4096 Sep 30 15:54 .\n",
            "drwxr-xr-x 1 root root    4096 Sep 30 15:52 ..\n",
            "drwxr-xr-x 4 root root    4096 Sep 25 18:24 .config\n",
            "-rw-r--r-- 1 root root 4699742 Sep 30 11:28 GCA_000005845.2_ASM584v2_genomic.fna\n",
            "-rw-r--r-- 1 root root 1436154 Sep 30 15:54 GCA_000005845.2_ASM584v2_genomic.zip\n",
            "drwxr-xr-x 1 root root    4096 Sep 25 18:24 sample_data\n"
          ]
        }
      ]
    },
    {
      "cell_type": "code",
      "source": [
        "from Bio import SeqIO\n",
        "import numpy as np\n",
        "\n",
        "# Load the genome sequence from the .fna file\n",
        "fasta_file = \"GCA_000005845.2_ASM584v2_genomic.fna\"\n",
        "\n",
        "def read_genome(file_path):\n",
        "    \"\"\"Reads the genome sequence from the given .fna file.\"\"\"\n",
        "    genome = \"\"\n",
        "    for record in SeqIO.parse(file_path, \"fasta\"):\n",
        "        genome += str(record.seq)\n",
        "    return genome\n",
        "\n",
        "def find_origin_of_replication(genome, window_size=1000, step_size=500):\n",
        "    \"\"\"Find regions with a high T/C ratio, which may suggest origin of replication.\"\"\"\n",
        "    genome_length = len(genome)\n",
        "    origin_regions = []\n",
        "\n",
        "    # Slide a window along the genome to calculate T/C ratio\n",
        "    for i in range(0, genome_length - window_size, step_size):\n",
        "        window_seq = genome[i:i+window_size]\n",
        "        count_T = window_seq.count('T')\n",
        "        count_C = window_seq.count('C')\n",
        "\n",
        "        # Calculate T/C ratio (avoid division by zero)\n",
        "        tc_ratio = count_T / (count_C + 1e-6)\n",
        "\n",
        "        if tc_ratio > 2:  # Set a threshold for the ratio\n",
        "            origin_regions.append((i, i + window_size, tc_ratio))\n",
        "\n",
        "    # Sort regions by T/C ratio in descending order\n",
        "    origin_regions.sort(key=lambda x: x[2], reverse=True)\n",
        "\n",
        "    return origin_regions\n",
        "\n",
        "def main():\n",
        "    genome = read_genome(fasta_file)\n",
        "    origin_regions = find_origin_of_replication(genome)\n",
        "\n",
        "    print(\"Potential origin of replication regions (start, end, T/C ratio):\")\n",
        "    for region in origin_regions:\n",
        "        print(f\"Start: {region[0]}, End: {region[1]}, T/C Ratio: {region[2]:.2f}\")\n",
        "\n",
        "if __name__ == \"__main__\":\n",
        "    main()"
      ],
      "metadata": {
        "colab": {
          "base_uri": "https://localhost:8080/"
        },
        "id": "YzlKW41_vWzy",
        "outputId": "91110047-b7d2-4a0f-e760-d802b7b96cc3"
      },
      "execution_count": null,
      "outputs": [
        {
          "output_type": "stream",
          "name": "stdout",
          "text": [
            "Potential origin of replication regions (start, end, T/C ratio):\n",
            "Start: 583000, End: 584000, T/C Ratio: 2.97\n",
            "Start: 4479500, End: 4480500, T/C Ratio: 2.76\n",
            "Start: 2469000, End: 2470000, T/C Ratio: 2.69\n",
            "Start: 583500, End: 584500, T/C Ratio: 2.68\n",
            "Start: 3798500, End: 3799500, T/C Ratio: 2.68\n",
            "Start: 1544500, End: 1545500, T/C Ratio: 2.60\n",
            "Start: 1092500, End: 1093500, T/C Ratio: 2.58\n",
            "Start: 2469500, End: 2470500, T/C Ratio: 2.55\n",
            "Start: 1064000, End: 1065000, T/C Ratio: 2.52\n",
            "Start: 4282000, End: 4283000, T/C Ratio: 2.51\n",
            "Start: 527000, End: 528000, T/C Ratio: 2.45\n",
            "Start: 4251000, End: 4252000, T/C Ratio: 2.45\n",
            "Start: 1434000, End: 1435000, T/C Ratio: 2.44\n",
            "Start: 570000, End: 571000, T/C Ratio: 2.42\n",
            "Start: 4476000, End: 4477000, T/C Ratio: 2.42\n",
            "Start: 331500, End: 332500, T/C Ratio: 2.42\n",
            "Start: 4504500, End: 4505500, T/C Ratio: 2.40\n",
            "Start: 1197500, End: 1198500, T/C Ratio: 2.38\n",
            "Start: 584000, End: 585000, T/C Ratio: 2.37\n",
            "Start: 1530000, End: 1531000, T/C Ratio: 2.37\n",
            "Start: 1433500, End: 1434500, T/C Ratio: 2.36\n",
            "Start: 1529500, End: 1530500, T/C Ratio: 2.34\n",
            "Start: 2468500, End: 2469500, T/C Ratio: 2.33\n",
            "Start: 4505000, End: 4506000, T/C Ratio: 2.32\n",
            "Start: 1211500, End: 1212500, T/C Ratio: 2.31\n",
            "Start: 569500, End: 570500, T/C Ratio: 2.31\n",
            "Start: 4556000, End: 4557000, T/C Ratio: 2.29\n",
            "Start: 4250500, End: 4251500, T/C Ratio: 2.29\n",
            "Start: 1424000, End: 1425000, T/C Ratio: 2.28\n",
            "Start: 3797000, End: 3798000, T/C Ratio: 2.28\n",
            "Start: 1544000, End: 1545000, T/C Ratio: 2.26\n",
            "Start: 1212000, End: 1213000, T/C Ratio: 2.24\n",
            "Start: 4503500, End: 4504500, T/C Ratio: 2.22\n",
            "Start: 528500, End: 529500, T/C Ratio: 2.22\n",
            "Start: 3804000, End: 3805000, T/C Ratio: 2.21\n",
            "Start: 4504000, End: 4505000, T/C Ratio: 2.20\n",
            "Start: 1198000, End: 1199000, T/C Ratio: 2.20\n",
            "Start: 3799000, End: 3800000, T/C Ratio: 2.20\n",
            "Start: 4260500, End: 4261500, T/C Ratio: 2.19\n",
            "Start: 4437500, End: 4438500, T/C Ratio: 2.19\n",
            "Start: 4260000, End: 4261000, T/C Ratio: 2.19\n",
            "Start: 1545000, End: 1546000, T/C Ratio: 2.19\n",
            "Start: 3798000, End: 3799000, T/C Ratio: 2.18\n",
            "Start: 2774000, End: 2775000, T/C Ratio: 2.18\n",
            "Start: 3800500, End: 3801500, T/C Ratio: 2.15\n",
            "Start: 736000, End: 737000, T/C Ratio: 2.14\n",
            "Start: 1423500, End: 1424500, T/C Ratio: 2.13\n",
            "Start: 4480000, End: 4481000, T/C Ratio: 2.12\n",
            "Start: 2773500, End: 2774500, T/C Ratio: 2.12\n",
            "Start: 3634000, End: 3635000, T/C Ratio: 2.10\n",
            "Start: 1197000, End: 1198000, T/C Ratio: 2.09\n",
            "Start: 3623500, End: 3624500, T/C Ratio: 2.09\n",
            "Start: 4571500, End: 4572500, T/C Ratio: 2.08\n",
            "Start: 1093000, End: 1094000, T/C Ratio: 2.08\n",
            "Start: 1219500, End: 1220500, T/C Ratio: 2.07\n",
            "Start: 3804500, End: 3805500, T/C Ratio: 2.07\n",
            "Start: 1064500, End: 1065500, T/C Ratio: 2.06\n",
            "Start: 3769000, End: 3770000, T/C Ratio: 2.06\n",
            "Start: 1216000, End: 1217000, T/C Ratio: 2.06\n",
            "Start: 2991000, End: 2992000, T/C Ratio: 2.05\n",
            "Start: 582500, End: 583500, T/C Ratio: 2.05\n",
            "Start: 2995000, End: 2996000, T/C Ratio: 2.05\n",
            "Start: 568500, End: 569500, T/C Ratio: 2.05\n",
            "Start: 3623000, End: 3624000, T/C Ratio: 2.04\n",
            "Start: 4221500, End: 4222500, T/C Ratio: 2.03\n",
            "Start: 997500, End: 998500, T/C Ratio: 2.03\n",
            "Start: 3797500, End: 3798500, T/C Ratio: 2.03\n",
            "Start: 569000, End: 570000, T/C Ratio: 2.03\n",
            "Start: 2991500, End: 2992500, T/C Ratio: 2.02\n",
            "Start: 2784500, End: 2785500, T/C Ratio: 2.02\n",
            "Start: 4476500, End: 4477500, T/C Ratio: 2.01\n"
          ]
        }
      ]
    },
    {
      "cell_type": "code",
      "source": [
        "from Bio import SeqIO\n",
        "from collections import Counter\n",
        "\n",
        "def find_ori(sequence, window_size=1000, step_size=500):\n",
        "    # Look for AT-rich regions\n",
        "    at_content = []\n",
        "    for i in range(0, len(sequence) - window_size, step_size):\n",
        "        window = sequence[i:i+window_size]\n",
        "        at_count = window.count('A') + window.count('T')\n",
        "        at_content.append((i, at_count / window_size))\n",
        "\n",
        "    # Find regions with highest AT content\n",
        "    at_rich_regions = sorted(at_content, key=lambda x: x[1], reverse=True)[:10]\n",
        "\n",
        "    # Look for DnaA box motifs near AT-rich regions\n",
        "    dnaA_box = \"TTATCCACA\"  # Consensus DnaA box sequence\n",
        "    potential_ori = []\n",
        "\n",
        "    for start, _ in at_rich_regions:\n",
        "        region = sequence[max(0, start-500):start+1500]\n",
        "        dnaA_count = region.count(dnaA_box)\n",
        "        if dnaA_count > 0:\n",
        "            potential_ori.append((start, dnaA_count))\n",
        "\n",
        "    return sorted(potential_ori, key=lambda x: x[1], reverse=True)\n",
        "\n",
        "# Read the genome file\n",
        "genome_file = \"GCA_000005845.2_ASM584v2_genomic.fna\"\n",
        "for record in SeqIO.parse(genome_file, \"fasta\"):\n",
        "    sequence = str(record.seq)\n",
        "\n",
        "    print(f\"Analyzing sequence: {record.id}\")\n",
        "    potential_ori_sites = find_ori(sequence)\n",
        "\n",
        "    print(\"Potential origin of replication sites:\")\n",
        "    for position, dnaA_count in potential_ori_sites:\n",
        "        print(f\"Position: {position}, DnaA box count: {dnaA_count}\")\n",
        "\n",
        "    if not potential_ori_sites:\n",
        "        print(\"No potential origin of replication sites found.\")\n",
        "    print(\"\\n\")"
      ],
      "metadata": {
        "colab": {
          "base_uri": "https://localhost:8080/"
        },
        "id": "ODvtzv8roqtA",
        "outputId": "326ba348-c416-4598-b2cf-8396dcc18360"
      },
      "execution_count": null,
      "outputs": [
        {
          "output_type": "stream",
          "name": "stdout",
          "text": [
            "Analyzing sequence: U00096.3\n",
            "Potential origin of replication sites:\n",
            "Position: 2995000, DnaA box count: 1\n",
            "\n",
            "\n"
          ]
        }
      ]
    },
    {
      "cell_type": "code",
      "source": [
        "from Bio import SeqIO\n",
        "import re\n",
        "\n",
        "# Load the genome from the FASTA file\n",
        "fasta_file = 'GCA_000005845.2_ASM584v2_genomic.fna'\n",
        "\n",
        "# Define the DnaA box consensus motif (this may need to be adapted)\n",
        "dnaa_box_motifs = [\n",
        "    'TTATCCACA',  # Canonical DnaA box\n",
        "    'TTATCCAC'    # Slightly shorter variant\n",
        "]\n",
        "\n",
        "# Read the genome sequence from the FASTA file\n",
        "def read_genome(file):\n",
        "    genome_seq = \"\"\n",
        "    for record in SeqIO.parse(file, \"fasta\"):\n",
        "        genome_seq += str(record.seq)\n",
        "    return genome_seq\n",
        "\n",
        "# Search for DnaA box motifs in the genome\n",
        "def find_dnaa_boxes(sequence, motifs):\n",
        "    motif_positions = []\n",
        "    for motif in motifs:\n",
        "        # Use regular expressions to find all positions of the motif\n",
        "        for match in re.finditer(motif, sequence):\n",
        "            motif_positions.append((match.start(), match.end(), motif))\n",
        "    return motif_positions\n",
        "\n",
        "# Main function\n",
        "if __name__ == '__main__':\n",
        "    genome_sequence = read_genome(fasta_file)\n",
        "    dnaa_boxes = find_dnaa_boxes(genome_sequence, dnaa_box_motifs)\n",
        "\n",
        "    # Display results\n",
        "    if dnaa_boxes:\n",
        "        print(\"DnaA box motifs found at the following positions:\")\n",
        "        for start, end, motif in dnaa_boxes:\n",
        "            print(f\"Motif: {motif}, Start: {start}, End: {end}\")\n",
        "    else:\n",
        "        print(\"No DnaA box motifs found.\")"
      ],
      "metadata": {
        "colab": {
          "base_uri": "https://localhost:8080/"
        },
        "id": "LTE3NAtDpe-o",
        "outputId": "37353912-a645-40bf-fc18-228079deac8d"
      },
      "execution_count": null,
      "outputs": [
        {
          "output_type": "stream",
          "name": "stdout",
          "text": [
            "DnaA box motifs found at the following positions:\n",
            "Motif: TTATCCACA, Start: 984231, End: 984240\n",
            "Motif: TTATCCACA, Start: 1478111, End: 1478120\n",
            "Motif: TTATCCACA, Start: 1526905, End: 1526914\n",
            "Motif: TTATCCACA, Start: 1544606, End: 1544615\n",
            "Motif: TTATCCACA, Start: 2303999, End: 2304008\n",
            "Motif: TTATCCACA, Start: 2331358, End: 2331367\n",
            "Motif: TTATCCACA, Start: 2344702, End: 2344711\n",
            "Motif: TTATCCACA, Start: 2969345, End: 2969354\n",
            "Motif: TTATCCACA, Start: 2995467, End: 2995476\n",
            "Motif: TTATCCACA, Start: 3105552, End: 3105561\n",
            "Motif: TTATCCACA, Start: 3181556, End: 3181565\n",
            "Motif: TTATCCACA, Start: 3204644, End: 3204653\n",
            "Motif: TTATCCACA, Start: 3333932, End: 3333941\n",
            "Motif: TTATCCACA, Start: 3600889, End: 3600898\n",
            "Motif: TTATCCACA, Start: 3664727, End: 3664736\n",
            "Motif: TTATCCACA, Start: 3883938, End: 3883947\n",
            "Motif: TTATCCACA, Start: 3925980, End: 3925989\n",
            "Motif: TTATCCACA, Start: 4046833, End: 4046842\n",
            "Motif: TTATCCACA, Start: 4313474, End: 4313483\n",
            "Motif: TTATCCACA, Start: 4392743, End: 4392752\n",
            "Motif: TTATCCACA, Start: 4462686, End: 4462695\n",
            "Motif: TTATCCACA, Start: 4462763, End: 4462772\n",
            "Motif: TTATCCAC, Start: 211630, End: 211638\n",
            "Motif: TTATCCAC, Start: 306969, End: 306977\n",
            "Motif: TTATCCAC, Start: 384608, End: 384616\n",
            "Motif: TTATCCAC, Start: 587331, End: 587339\n",
            "Motif: TTATCCAC, Start: 648300, End: 648308\n",
            "Motif: TTATCCAC, Start: 719543, End: 719551\n",
            "Motif: TTATCCAC, Start: 811875, End: 811883\n",
            "Motif: TTATCCAC, Start: 813106, End: 813114\n",
            "Motif: TTATCCAC, Start: 831367, End: 831375\n",
            "Motif: TTATCCAC, Start: 925118, End: 925126\n",
            "Motif: TTATCCAC, Start: 974084, End: 974092\n",
            "Motif: TTATCCAC, Start: 983568, End: 983576\n",
            "Motif: TTATCCAC, Start: 984231, End: 984239\n",
            "Motif: TTATCCAC, Start: 1042693, End: 1042701\n",
            "Motif: TTATCCAC, Start: 1292379, End: 1292387\n",
            "Motif: TTATCCAC, Start: 1295629, End: 1295637\n",
            "Motif: TTATCCAC, Start: 1447263, End: 1447271\n",
            "Motif: TTATCCAC, Start: 1478111, End: 1478119\n",
            "Motif: TTATCCAC, Start: 1506192, End: 1506200\n",
            "Motif: TTATCCAC, Start: 1526905, End: 1526913\n",
            "Motif: TTATCCAC, Start: 1544606, End: 1544614\n",
            "Motif: TTATCCAC, Start: 1602476, End: 1602484\n",
            "Motif: TTATCCAC, Start: 1647315, End: 1647323\n",
            "Motif: TTATCCAC, Start: 1739499, End: 1739507\n",
            "Motif: TTATCCAC, Start: 1746191, End: 1746199\n",
            "Motif: TTATCCAC, Start: 1865771, End: 1865779\n",
            "Motif: TTATCCAC, Start: 1936420, End: 1936428\n",
            "Motif: TTATCCAC, Start: 1947987, End: 1947995\n",
            "Motif: TTATCCAC, Start: 1990663, End: 1990671\n",
            "Motif: TTATCCAC, Start: 2017440, End: 2017448\n",
            "Motif: TTATCCAC, Start: 2068316, End: 2068324\n",
            "Motif: TTATCCAC, Start: 2169735, End: 2169743\n",
            "Motif: TTATCCAC, Start: 2196734, End: 2196742\n",
            "Motif: TTATCCAC, Start: 2213064, End: 2213072\n",
            "Motif: TTATCCAC, Start: 2303999, End: 2304007\n",
            "Motif: TTATCCAC, Start: 2320062, End: 2320070\n",
            "Motif: TTATCCAC, Start: 2331358, End: 2331366\n",
            "Motif: TTATCCAC, Start: 2344702, End: 2344710\n",
            "Motif: TTATCCAC, Start: 2448432, End: 2448440\n",
            "Motif: TTATCCAC, Start: 2476430, End: 2476438\n",
            "Motif: TTATCCAC, Start: 2545932, End: 2545940\n",
            "Motif: TTATCCAC, Start: 2555090, End: 2555098\n",
            "Motif: TTATCCAC, Start: 2622760, End: 2622768\n",
            "Motif: TTATCCAC, Start: 2653845, End: 2653853\n",
            "Motif: TTATCCAC, Start: 2705238, End: 2705246\n",
            "Motif: TTATCCAC, Start: 2738341, End: 2738349\n",
            "Motif: TTATCCAC, Start: 2836586, End: 2836594\n",
            "Motif: TTATCCAC, Start: 2849343, End: 2849351\n",
            "Motif: TTATCCAC, Start: 2852322, End: 2852330\n",
            "Motif: TTATCCAC, Start: 2969345, End: 2969353\n",
            "Motif: TTATCCAC, Start: 2995467, End: 2995475\n",
            "Motif: TTATCCAC, Start: 3022537, End: 3022545\n",
            "Motif: TTATCCAC, Start: 3037693, End: 3037701\n",
            "Motif: TTATCCAC, Start: 3094274, End: 3094282\n",
            "Motif: TTATCCAC, Start: 3105552, End: 3105560\n",
            "Motif: TTATCCAC, Start: 3181556, End: 3181564\n",
            "Motif: TTATCCAC, Start: 3204644, End: 3204652\n",
            "Motif: TTATCCAC, Start: 3333932, End: 3333940\n",
            "Motif: TTATCCAC, Start: 3395410, End: 3395418\n",
            "Motif: TTATCCAC, Start: 3479474, End: 3479482\n",
            "Motif: TTATCCAC, Start: 3534624, End: 3534632\n",
            "Motif: TTATCCAC, Start: 3545110, End: 3545118\n",
            "Motif: TTATCCAC, Start: 3574228, End: 3574236\n",
            "Motif: TTATCCAC, Start: 3585627, End: 3585635\n",
            "Motif: TTATCCAC, Start: 3600889, End: 3600897\n",
            "Motif: TTATCCAC, Start: 3664727, End: 3664735\n",
            "Motif: TTATCCAC, Start: 3674611, End: 3674619\n",
            "Motif: TTATCCAC, Start: 3691111, End: 3691119\n",
            "Motif: TTATCCAC, Start: 3700875, End: 3700883\n",
            "Motif: TTATCCAC, Start: 3715219, End: 3715227\n",
            "Motif: TTATCCAC, Start: 3719772, End: 3719780\n",
            "Motif: TTATCCAC, Start: 3820853, End: 3820861\n",
            "Motif: TTATCCAC, Start: 3841896, End: 3841904\n",
            "Motif: TTATCCAC, Start: 3856487, End: 3856495\n",
            "Motif: TTATCCAC, Start: 3883938, End: 3883946\n",
            "Motif: TTATCCAC, Start: 3920436, End: 3920444\n",
            "Motif: TTATCCAC, Start: 3925980, End: 3925988\n",
            "Motif: TTATCCAC, Start: 3948132, End: 3948140\n",
            "Motif: TTATCCAC, Start: 3982349, End: 3982357\n",
            "Motif: TTATCCAC, Start: 3987349, End: 3987357\n",
            "Motif: TTATCCAC, Start: 4046833, End: 4046841\n",
            "Motif: TTATCCAC, Start: 4061508, End: 4061516\n",
            "Motif: TTATCCAC, Start: 4142441, End: 4142449\n",
            "Motif: TTATCCAC, Start: 4221759, End: 4221767\n",
            "Motif: TTATCCAC, Start: 4241241, End: 4241249\n",
            "Motif: TTATCCAC, Start: 4245787, End: 4245795\n",
            "Motif: TTATCCAC, Start: 4273458, End: 4273466\n",
            "Motif: TTATCCAC, Start: 4310039, End: 4310047\n",
            "Motif: TTATCCAC, Start: 4313474, End: 4313482\n",
            "Motif: TTATCCAC, Start: 4392743, End: 4392751\n",
            "Motif: TTATCCAC, Start: 4462686, End: 4462694\n",
            "Motif: TTATCCAC, Start: 4462763, End: 4462771\n",
            "Motif: TTATCCAC, Start: 4480763, End: 4480771\n",
            "Motif: TTATCCAC, Start: 4596153, End: 4596161\n",
            "Motif: TTATCCAC, Start: 4619429, End: 4619437\n",
            "Motif: TTATCCAC, Start: 4624310, End: 4624318\n"
          ]
        }
      ]
    },
    {
      "cell_type": "markdown",
      "source": [
        "draw the GC skewed chart ((G-C)/(G+C)) and analyze it when falls"
      ],
      "metadata": {
        "id": "0CVOm2j10J6v"
      }
    },
    {
      "cell_type": "code",
      "source": [],
      "metadata": {
        "id": "PczorKovu0n_"
      },
      "execution_count": null,
      "outputs": []
    }
  ]
}