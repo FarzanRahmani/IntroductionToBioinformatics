{
  "nbformat": 4,
  "nbformat_minor": 0,
  "metadata": {
    "colab": {
      "provenance": []
    },
    "kernelspec": {
      "name": "ir",
      "display_name": "R"
    },
    "language_info": {
      "name": "R"
    }
  },
  "cells": [
    {
      "cell_type": "code",
      "execution_count": 1,
      "metadata": {
        "colab": {
          "base_uri": "https://localhost:8080/"
        },
        "collapsed": true,
        "id": "SyCMWkHAG67g",
        "outputId": "1f79c71a-3dd3-43a3-dc68-d5ec037b70be"
      },
      "outputs": [
        {
          "output_type": "stream",
          "name": "stderr",
          "text": [
            "Installing package into ‘/usr/local/lib/R/site-library’\n",
            "(as ‘lib’ is unspecified)\n",
            "\n",
            "'getOption(\"repos\")' replaces Bioconductor standard repositories, see\n",
            "'help(\"repositories\", package = \"BiocManager\")' for details.\n",
            "Replacement repositories:\n",
            "    CRAN: https://cran.rstudio.com\n",
            "\n",
            "Bioconductor version 3.20 (BiocManager 1.30.25), R 4.4.2 (2024-10-31)\n",
            "\n",
            "Installing package(s) 'BiocVersion', 'GEOquery'\n",
            "\n",
            "also installing the dependencies ‘zlibbioc’, ‘matrixStats’, ‘XVector’, ‘UCSC.utils’, ‘GenomeInfoDbData’, ‘abind’, ‘SparseArray’, ‘BiocGenerics’, ‘statmod’, ‘XML’, ‘R.oo’, ‘R.methodsS3’, ‘MatrixGenerics’, ‘GenomicRanges’, ‘IRanges’, ‘GenomeInfoDb’, ‘S4Arrays’, ‘DelayedArray’, ‘Biobase’, ‘limma’, ‘rentrez’, ‘R.utils’, ‘SummarizedExperiment’, ‘S4Vectors’\n",
            "\n",
            "\n",
            "Old packages: 'openssl'\n",
            "\n"
          ]
        }
      ],
      "source": [
        "if (!requireNamespace(\"BiocManager\", quietly = TRUE))\n",
        "    install.packages(\"BiocManager\")\n",
        "\n",
        "BiocManager::install(\"GEOquery\")"
      ]
    },
    {
      "cell_type": "code",
      "source": [
        "library(GEOquery)\n",
        "install.packages(\"dplyr\")\n",
        "library(dplyr)\n",
        "library(tidyr)\n",
        "install.packages(\"tibble\")  # فقط در صورتی که بسته را نصب نکرده باشید\n",
        "library(tibble)"
      ],
      "metadata": {
        "colab": {
          "base_uri": "https://localhost:8080/"
        },
        "collapsed": true,
        "id": "mtF6jvtJKctO",
        "outputId": "b8581df2-c715-4a71-f07c-e2c989818a43"
      },
      "execution_count": 2,
      "outputs": [
        {
          "output_type": "stream",
          "name": "stderr",
          "text": [
            "Loading required package: Biobase\n",
            "\n",
            "Loading required package: BiocGenerics\n",
            "\n",
            "\n",
            "Attaching package: ‘BiocGenerics’\n",
            "\n",
            "\n",
            "The following objects are masked from ‘package:stats’:\n",
            "\n",
            "    IQR, mad, sd, var, xtabs\n",
            "\n",
            "\n",
            "The following objects are masked from ‘package:base’:\n",
            "\n",
            "    anyDuplicated, aperm, append, as.data.frame, basename, cbind,\n",
            "    colnames, dirname, do.call, duplicated, eval, evalq, Filter, Find,\n",
            "    get, grep, grepl, intersect, is.unsorted, lapply, Map, mapply,\n",
            "    match, mget, order, paste, pmax, pmax.int, pmin, pmin.int,\n",
            "    Position, rank, rbind, Reduce, rownames, sapply, saveRDS, setdiff,\n",
            "    table, tapply, union, unique, unsplit, which.max, which.min\n",
            "\n",
            "\n",
            "Welcome to Bioconductor\n",
            "\n",
            "    Vignettes contain introductory material; view with\n",
            "    'browseVignettes()'. To cite Bioconductor, see\n",
            "    'citation(\"Biobase\")', and for packages 'citation(\"pkgname\")'.\n",
            "\n",
            "\n",
            "Setting options('download.file.method.GEOquery'='auto')\n",
            "\n",
            "Setting options('GEOquery.inmemory.gpl'=FALSE)\n",
            "\n",
            "Installing package into ‘/usr/local/lib/R/site-library’\n",
            "(as ‘lib’ is unspecified)\n",
            "\n",
            "\n",
            "Attaching package: ‘dplyr’\n",
            "\n",
            "\n",
            "The following object is masked from ‘package:Biobase’:\n",
            "\n",
            "    combine\n",
            "\n",
            "\n",
            "The following objects are masked from ‘package:BiocGenerics’:\n",
            "\n",
            "    combine, intersect, setdiff, union\n",
            "\n",
            "\n",
            "The following objects are masked from ‘package:stats’:\n",
            "\n",
            "    filter, lag\n",
            "\n",
            "\n",
            "The following objects are masked from ‘package:base’:\n",
            "\n",
            "    intersect, setdiff, setequal, union\n",
            "\n",
            "\n",
            "Installing package into ‘/usr/local/lib/R/site-library’\n",
            "(as ‘lib’ is unspecified)\n",
            "\n"
          ]
        }
      ]
    },
    {
      "cell_type": "code",
      "source": [
        "# Download the dataset from GEO\n",
        "getGEOSuppFiles(\"GSE33812\")\n",
        "untar(\"/content/GSE33812/GSE33812_RAW.tar\", exdir = \"GSE33812_RAW2\")"
      ],
      "metadata": {
        "colab": {
          "base_uri": "https://localhost:8080/",
          "height": 160
        },
        "collapsed": true,
        "id": "Oz3aJshWKqwH",
        "outputId": "163f9d94-f40a-4408-cadf-9b20bb288587"
      },
      "execution_count": 3,
      "outputs": [
        {
          "output_type": "display_data",
          "data": {
            "text/html": [
              "<table class=\"dataframe\">\n",
              "<caption>A data.frame: 2 × 10</caption>\n",
              "<thead>\n",
              "\t<tr><th></th><th scope=col>size</th><th scope=col>isdir</th><th scope=col>mode</th><th scope=col>mtime</th><th scope=col>ctime</th><th scope=col>atime</th><th scope=col>uid</th><th scope=col>gid</th><th scope=col>uname</th><th scope=col>grname</th></tr>\n",
              "\t<tr><th></th><th scope=col>&lt;dbl&gt;</th><th scope=col>&lt;lgl&gt;</th><th scope=col>&lt;octmode&gt;</th><th scope=col>&lt;dttm&gt;</th><th scope=col>&lt;dttm&gt;</th><th scope=col>&lt;dttm&gt;</th><th scope=col>&lt;int&gt;</th><th scope=col>&lt;int&gt;</th><th scope=col>&lt;chr&gt;</th><th scope=col>&lt;chr&gt;</th></tr>\n",
              "</thead>\n",
              "<tbody>\n",
              "\t<tr><th scope=row>/content/GSE33812/GSE33812_RAW.tar</th><td>47370240</td><td>FALSE</td><td>644</td><td>2025-02-05 03:43:16</td><td>2025-02-05 03:43:16</td><td>2025-02-05 03:43:11</td><td>0</td><td>0</td><td>root</td><td>root</td></tr>\n",
              "\t<tr><th scope=row>/content/GSE33812/GSE33812_sorted_Mvalues.txt.gz</th><td>   12541</td><td>FALSE</td><td>644</td><td>2025-02-05 03:43:17</td><td>2025-02-05 03:43:17</td><td>2025-02-05 03:43:16</td><td>0</td><td>0</td><td>root</td><td>root</td></tr>\n",
              "</tbody>\n",
              "</table>\n"
            ],
            "text/markdown": "\nA data.frame: 2 × 10\n\n| <!--/--> | size &lt;dbl&gt; | isdir &lt;lgl&gt; | mode &lt;octmode&gt; | mtime &lt;dttm&gt; | ctime &lt;dttm&gt; | atime &lt;dttm&gt; | uid &lt;int&gt; | gid &lt;int&gt; | uname &lt;chr&gt; | grname &lt;chr&gt; |\n|---|---|---|---|---|---|---|---|---|---|---|\n| /content/GSE33812/GSE33812_RAW.tar | 47370240 | FALSE | 644 | 2025-02-05 03:43:16 | 2025-02-05 03:43:16 | 2025-02-05 03:43:11 | 0 | 0 | root | root |\n| /content/GSE33812/GSE33812_sorted_Mvalues.txt.gz |    12541 | FALSE | 644 | 2025-02-05 03:43:17 | 2025-02-05 03:43:17 | 2025-02-05 03:43:16 | 0 | 0 | root | root |\n\n",
            "text/latex": "A data.frame: 2 × 10\n\\begin{tabular}{r|llllllllll}\n  & size & isdir & mode & mtime & ctime & atime & uid & gid & uname & grname\\\\\n  & <dbl> & <lgl> & <octmode> & <dttm> & <dttm> & <dttm> & <int> & <int> & <chr> & <chr>\\\\\n\\hline\n\t/content/GSE33812/GSE33812\\_RAW.tar & 47370240 & FALSE & 644 & 2025-02-05 03:43:16 & 2025-02-05 03:43:16 & 2025-02-05 03:43:11 & 0 & 0 & root & root\\\\\n\t/content/GSE33812/GSE33812\\_sorted\\_Mvalues.txt.gz &    12541 & FALSE & 644 & 2025-02-05 03:43:17 & 2025-02-05 03:43:17 & 2025-02-05 03:43:16 & 0 & 0 & root & root\\\\\n\\end{tabular}\n",
            "text/plain": [
              "                                                 size     isdir mode\n",
              "/content/GSE33812/GSE33812_RAW.tar               47370240 FALSE 644 \n",
              "/content/GSE33812/GSE33812_sorted_Mvalues.txt.gz    12541 FALSE 644 \n",
              "                                                 mtime              \n",
              "/content/GSE33812/GSE33812_RAW.tar               2025-02-05 03:43:16\n",
              "/content/GSE33812/GSE33812_sorted_Mvalues.txt.gz 2025-02-05 03:43:17\n",
              "                                                 ctime              \n",
              "/content/GSE33812/GSE33812_RAW.tar               2025-02-05 03:43:16\n",
              "/content/GSE33812/GSE33812_sorted_Mvalues.txt.gz 2025-02-05 03:43:17\n",
              "                                                 atime               uid gid\n",
              "/content/GSE33812/GSE33812_RAW.tar               2025-02-05 03:43:11 0   0  \n",
              "/content/GSE33812/GSE33812_sorted_Mvalues.txt.gz 2025-02-05 03:43:16 0   0  \n",
              "                                                 uname grname\n",
              "/content/GSE33812/GSE33812_RAW.tar               root  root  \n",
              "/content/GSE33812/GSE33812_sorted_Mvalues.txt.gz root  root  "
            ]
          },
          "metadata": {}
        }
      ]
    },
    {
      "cell_type": "code",
      "source": [
        "list.files(\"GSE33812_RAW2\")"
      ],
      "metadata": {
        "colab": {
          "base_uri": "https://localhost:8080/",
          "height": 34
        },
        "id": "-Lntky60Kuhj",
        "outputId": "a6a64b1e-24aa-4def-c52b-cfdee08fdbb8"
      },
      "execution_count": 4,
      "outputs": [
        {
          "output_type": "display_data",
          "data": {
            "text/html": [
              "<style>\n",
              ".list-inline {list-style: none; margin:0; padding: 0}\n",
              ".list-inline>li {display: inline-block}\n",
              ".list-inline>li:not(:last-child)::after {content: \"\\00b7\"; padding: 0 .5ex}\n",
              "</style>\n",
              "<ol class=list-inline><li>'GPL4133_old_annotations.txt.gz'</li><li>'GSM836205.txt.gz'</li><li>'GSM836206.txt.gz'</li><li>'GSM836207.txt.gz'</li><li>'GSM836208.txt.gz'</li><li>'GSM836209.txt.gz'</li></ol>\n"
            ],
            "text/markdown": "1. 'GPL4133_old_annotations.txt.gz'\n2. 'GSM836205.txt.gz'\n3. 'GSM836206.txt.gz'\n4. 'GSM836207.txt.gz'\n5. 'GSM836208.txt.gz'\n6. 'GSM836209.txt.gz'\n\n\n",
            "text/latex": "\\begin{enumerate*}\n\\item 'GPL4133\\_old\\_annotations.txt.gz'\n\\item 'GSM836205.txt.gz'\n\\item 'GSM836206.txt.gz'\n\\item 'GSM836207.txt.gz'\n\\item 'GSM836208.txt.gz'\n\\item 'GSM836209.txt.gz'\n\\end{enumerate*}\n",
            "text/plain": [
              "[1] \"GPL4133_old_annotations.txt.gz\" \"GSM836205.txt.gz\"              \n",
              "[3] \"GSM836206.txt.gz\"               \"GSM836207.txt.gz\"              \n",
              "[5] \"GSM836208.txt.gz\"               \"GSM836209.txt.gz\"              "
            ]
          },
          "metadata": {}
        }
      ]
    },
    {
      "cell_type": "code",
      "source": [
        "# لیست تمام فایل‌های داده\n",
        "files <- list.files(\"GSE33812_RAW2\", pattern = \"GSM.*.txt.gz\", full.names = TRUE)\n",
        "\n",
        "# ایجاد یک لیست برای ذخیره داده‌های پردازش‌شده\n",
        "data_list <- lapply(files, function(file) {\n",
        "  # Extract sampleID from the file name (assuming the pattern is \"GSM####\")\n",
        "  sampleID <- gsub(\".*/(GSM\\\\d+).txt.gz\", \"\\\\1\", file)\n",
        "\n",
        "  # Read the file and add the sampleID column\n",
        "  data_sample <- read.table(gzfile(file), header = TRUE, sep = \"\\t\", quote = \"\", comment.char = \"\")\n",
        "  data_sample$sampleID <- sampleID  # Add the sampleID column\n",
        "\n",
        "  return(data_sample)\n",
        "})\n",
        "\n",
        "# ترکیب همه داده‌ها در یک dataframe\n",
        "data <- do.call(rbind, data_list)\n",
        "\n",
        "# مشاهده چند ردیف اول از داده‌ها\n",
        "head(data)"
      ],
      "metadata": {
        "colab": {
          "base_uri": "https://localhost:8080/",
          "height": 306
        },
        "id": "JksnLv6mMmW1",
        "outputId": "f3909a32-8b0e-4745-cabd-a9995778b58d"
      },
      "execution_count": 6,
      "outputs": [
        {
          "output_type": "display_data",
          "data": {
            "text/html": [
              "<table class=\"dataframe\">\n",
              "<caption>A data.frame: 6 × 52</caption>\n",
              "<thead>\n",
              "\t<tr><th></th><th scope=col>FeatureNum</th><th scope=col>Row</th><th scope=col>Col</th><th scope=col>accessions</th><th scope=col>ProbeUID</th><th scope=col>ControlType</th><th scope=col>ProbeName</th><th scope=col>GeneName</th><th scope=col>SystematicName</th><th scope=col>Description</th><th scope=col>⋯</th><th scope=col>rIsBGNonUnifOL</th><th scope=col>gIsFeatPopnOL</th><th scope=col>rIsFeatPopnOL</th><th scope=col>gIsBGPopnOL</th><th scope=col>rIsBGPopnOL</th><th scope=col>gIsPosAndSignif</th><th scope=col>rIsPosAndSignif</th><th scope=col>gIsWellAboveBG</th><th scope=col>rIsWellAboveBG</th><th scope=col>sampleID</th></tr>\n",
              "\t<tr><th></th><th scope=col>&lt;int&gt;</th><th scope=col>&lt;int&gt;</th><th scope=col>&lt;int&gt;</th><th scope=col>&lt;chr&gt;</th><th scope=col>&lt;int&gt;</th><th scope=col>&lt;int&gt;</th><th scope=col>&lt;chr&gt;</th><th scope=col>&lt;chr&gt;</th><th scope=col>&lt;chr&gt;</th><th scope=col>&lt;chr&gt;</th><th scope=col>⋯</th><th scope=col>&lt;int&gt;</th><th scope=col>&lt;int&gt;</th><th scope=col>&lt;int&gt;</th><th scope=col>&lt;int&gt;</th><th scope=col>&lt;int&gt;</th><th scope=col>&lt;int&gt;</th><th scope=col>&lt;int&gt;</th><th scope=col>&lt;int&gt;</th><th scope=col>&lt;int&gt;</th><th scope=col>&lt;chr&gt;</th></tr>\n",
              "</thead>\n",
              "<tbody>\n",
              "\t<tr><th scope=row>1</th><td>1</td><td>1</td><td>1</td><td></td><td>0</td><td>1</td><td>GE_BrightCorner</td><td>GE_BrightCorner</td><td>GE_BrightCorner</td><td></td><td>⋯</td><td>0</td><td>1</td><td>1</td><td>1</td><td>0</td><td>1</td><td>1</td><td>1</td><td>1</td><td>GSM836205</td></tr>\n",
              "\t<tr><th scope=row>2</th><td>2</td><td>1</td><td>2</td><td></td><td>1</td><td>1</td><td>DarkCorner     </td><td>DarkCorner     </td><td>DarkCorner     </td><td></td><td>⋯</td><td>0</td><td>0</td><td>0</td><td>0</td><td>0</td><td>0</td><td>0</td><td>0</td><td>0</td><td>GSM836205</td></tr>\n",
              "\t<tr><th scope=row>3</th><td>3</td><td>1</td><td>3</td><td></td><td>1</td><td>1</td><td>DarkCorner     </td><td>DarkCorner     </td><td>DarkCorner     </td><td></td><td>⋯</td><td>0</td><td>1</td><td>0</td><td>0</td><td>0</td><td>1</td><td>0</td><td>0</td><td>0</td><td>GSM836205</td></tr>\n",
              "\t<tr><th scope=row>4</th><td>4</td><td>1</td><td>4</td><td></td><td>1</td><td>1</td><td>DarkCorner     </td><td>DarkCorner     </td><td>DarkCorner     </td><td></td><td>⋯</td><td>0</td><td>0</td><td>0</td><td>0</td><td>0</td><td>0</td><td>0</td><td>0</td><td>0</td><td>GSM836205</td></tr>\n",
              "\t<tr><th scope=row>5</th><td>5</td><td>1</td><td>5</td><td></td><td>1</td><td>1</td><td>DarkCorner     </td><td>DarkCorner     </td><td>DarkCorner     </td><td></td><td>⋯</td><td>0</td><td>0</td><td>0</td><td>0</td><td>0</td><td>0</td><td>0</td><td>0</td><td>0</td><td>GSM836205</td></tr>\n",
              "\t<tr><th scope=row>6</th><td>6</td><td>1</td><td>6</td><td></td><td>1</td><td>1</td><td>DarkCorner     </td><td>DarkCorner     </td><td>DarkCorner     </td><td></td><td>⋯</td><td>0</td><td>0</td><td>0</td><td>0</td><td>0</td><td>0</td><td>0</td><td>0</td><td>0</td><td>GSM836205</td></tr>\n",
              "</tbody>\n",
              "</table>\n"
            ],
            "text/markdown": "\nA data.frame: 6 × 52\n\n| <!--/--> | FeatureNum &lt;int&gt; | Row &lt;int&gt; | Col &lt;int&gt; | accessions &lt;chr&gt; | ProbeUID &lt;int&gt; | ControlType &lt;int&gt; | ProbeName &lt;chr&gt; | GeneName &lt;chr&gt; | SystematicName &lt;chr&gt; | Description &lt;chr&gt; | ⋯ ⋯ | rIsBGNonUnifOL &lt;int&gt; | gIsFeatPopnOL &lt;int&gt; | rIsFeatPopnOL &lt;int&gt; | gIsBGPopnOL &lt;int&gt; | rIsBGPopnOL &lt;int&gt; | gIsPosAndSignif &lt;int&gt; | rIsPosAndSignif &lt;int&gt; | gIsWellAboveBG &lt;int&gt; | rIsWellAboveBG &lt;int&gt; | sampleID &lt;chr&gt; |\n|---|---|---|---|---|---|---|---|---|---|---|---|---|---|---|---|---|---|---|---|---|---|\n| 1 | 1 | 1 | 1 | <!----> | 0 | 1 | GE_BrightCorner | GE_BrightCorner | GE_BrightCorner | <!----> | ⋯ | 0 | 1 | 1 | 1 | 0 | 1 | 1 | 1 | 1 | GSM836205 |\n| 2 | 2 | 1 | 2 | <!----> | 1 | 1 | DarkCorner      | DarkCorner      | DarkCorner      | <!----> | ⋯ | 0 | 0 | 0 | 0 | 0 | 0 | 0 | 0 | 0 | GSM836205 |\n| 3 | 3 | 1 | 3 | <!----> | 1 | 1 | DarkCorner      | DarkCorner      | DarkCorner      | <!----> | ⋯ | 0 | 1 | 0 | 0 | 0 | 1 | 0 | 0 | 0 | GSM836205 |\n| 4 | 4 | 1 | 4 | <!----> | 1 | 1 | DarkCorner      | DarkCorner      | DarkCorner      | <!----> | ⋯ | 0 | 0 | 0 | 0 | 0 | 0 | 0 | 0 | 0 | GSM836205 |\n| 5 | 5 | 1 | 5 | <!----> | 1 | 1 | DarkCorner      | DarkCorner      | DarkCorner      | <!----> | ⋯ | 0 | 0 | 0 | 0 | 0 | 0 | 0 | 0 | 0 | GSM836205 |\n| 6 | 6 | 1 | 6 | <!----> | 1 | 1 | DarkCorner      | DarkCorner      | DarkCorner      | <!----> | ⋯ | 0 | 0 | 0 | 0 | 0 | 0 | 0 | 0 | 0 | GSM836205 |\n\n",
            "text/latex": "A data.frame: 6 × 52\n\\begin{tabular}{r|lllllllllllllllllllll}\n  & FeatureNum & Row & Col & accessions & ProbeUID & ControlType & ProbeName & GeneName & SystematicName & Description & ⋯ & rIsBGNonUnifOL & gIsFeatPopnOL & rIsFeatPopnOL & gIsBGPopnOL & rIsBGPopnOL & gIsPosAndSignif & rIsPosAndSignif & gIsWellAboveBG & rIsWellAboveBG & sampleID\\\\\n  & <int> & <int> & <int> & <chr> & <int> & <int> & <chr> & <chr> & <chr> & <chr> & ⋯ & <int> & <int> & <int> & <int> & <int> & <int> & <int> & <int> & <int> & <chr>\\\\\n\\hline\n\t1 & 1 & 1 & 1 &  & 0 & 1 & GE\\_BrightCorner & GE\\_BrightCorner & GE\\_BrightCorner &  & ⋯ & 0 & 1 & 1 & 1 & 0 & 1 & 1 & 1 & 1 & GSM836205\\\\\n\t2 & 2 & 1 & 2 &  & 1 & 1 & DarkCorner      & DarkCorner      & DarkCorner      &  & ⋯ & 0 & 0 & 0 & 0 & 0 & 0 & 0 & 0 & 0 & GSM836205\\\\\n\t3 & 3 & 1 & 3 &  & 1 & 1 & DarkCorner      & DarkCorner      & DarkCorner      &  & ⋯ & 0 & 1 & 0 & 0 & 0 & 1 & 0 & 0 & 0 & GSM836205\\\\\n\t4 & 4 & 1 & 4 &  & 1 & 1 & DarkCorner      & DarkCorner      & DarkCorner      &  & ⋯ & 0 & 0 & 0 & 0 & 0 & 0 & 0 & 0 & 0 & GSM836205\\\\\n\t5 & 5 & 1 & 5 &  & 1 & 1 & DarkCorner      & DarkCorner      & DarkCorner      &  & ⋯ & 0 & 0 & 0 & 0 & 0 & 0 & 0 & 0 & 0 & GSM836205\\\\\n\t6 & 6 & 1 & 6 &  & 1 & 1 & DarkCorner      & DarkCorner      & DarkCorner      &  & ⋯ & 0 & 0 & 0 & 0 & 0 & 0 & 0 & 0 & 0 & GSM836205\\\\\n\\end{tabular}\n",
            "text/plain": [
              "  FeatureNum Row Col accessions ProbeUID ControlType ProbeName      \n",
              "1 1          1   1              0        1           GE_BrightCorner\n",
              "2 2          1   2              1        1           DarkCorner     \n",
              "3 3          1   3              1        1           DarkCorner     \n",
              "4 4          1   4              1        1           DarkCorner     \n",
              "5 5          1   5              1        1           DarkCorner     \n",
              "6 6          1   6              1        1           DarkCorner     \n",
              "  GeneName        SystematicName  Description ⋯ rIsBGNonUnifOL gIsFeatPopnOL\n",
              "1 GE_BrightCorner GE_BrightCorner             ⋯ 0              1            \n",
              "2 DarkCorner      DarkCorner                  ⋯ 0              0            \n",
              "3 DarkCorner      DarkCorner                  ⋯ 0              1            \n",
              "4 DarkCorner      DarkCorner                  ⋯ 0              0            \n",
              "5 DarkCorner      DarkCorner                  ⋯ 0              0            \n",
              "6 DarkCorner      DarkCorner                  ⋯ 0              0            \n",
              "  rIsFeatPopnOL gIsBGPopnOL rIsBGPopnOL gIsPosAndSignif rIsPosAndSignif\n",
              "1 1             1           0           1               1              \n",
              "2 0             0           0           0               0              \n",
              "3 0             0           0           1               0              \n",
              "4 0             0           0           0               0              \n",
              "5 0             0           0           0               0              \n",
              "6 0             0           0           0               0              \n",
              "  gIsWellAboveBG rIsWellAboveBG sampleID \n",
              "1 1              1              GSM836205\n",
              "2 0              0              GSM836205\n",
              "3 0              0              GSM836205\n",
              "4 0              0              GSM836205\n",
              "5 0              0              GSM836205\n",
              "6 0              0              GSM836205"
            ]
          },
          "metadata": {}
        }
      ]
    },
    {
      "cell_type": "code",
      "source": [
        "# Write the final expression matrix to a CSV file\n",
        "write.csv(data, file = \"data.csv\", row.names = TRUE)"
      ],
      "metadata": {
        "id": "bx3POS-hPeZU"
      },
      "execution_count": 43,
      "outputs": []
    },
    {
      "cell_type": "code",
      "source": [
        "# Get the unique gene names\n",
        "unique_gene_names <- unique(data$GeneName)\n",
        "# Print the number of unique gene names\n",
        "num_unique_genes <- length(unique_gene_names)\n",
        "write.csv(unique_gene_names, file = \"unique_gene_names.csv\", row.names = TRUE)"
      ],
      "metadata": {
        "id": "LmGmrLAUHRbo"
      },
      "execution_count": null,
      "outputs": []
    },
    {
      "cell_type": "code",
      "source": [
        "nrow(data)"
      ],
      "metadata": {
        "colab": {
          "base_uri": "https://localhost:8080/",
          "height": 34
        },
        "id": "UMt0S-dbMv9E",
        "outputId": "f252cf7d-2c53-449c-aae6-07ee0f3e3bdf"
      },
      "execution_count": 7,
      "outputs": [
        {
          "output_type": "display_data",
          "data": {
            "text/html": [
              "225090"
            ],
            "text/markdown": "225090",
            "text/latex": "225090",
            "text/plain": [
              "[1] 225090"
            ]
          },
          "metadata": {}
        }
      ]
    },
    {
      "cell_type": "code",
      "source": [
        "summary(data)"
      ],
      "metadata": {
        "colab": {
          "base_uri": "https://localhost:8080/",
          "height": 1000
        },
        "collapsed": true,
        "id": "vPmynDtdMyh7",
        "outputId": "cfd8bd16-27bb-4e30-e0ba-8dad22cdd280"
      },
      "execution_count": 9,
      "outputs": [
        {
          "output_type": "display_data",
          "data": {
            "text/plain": [
              "   FeatureNum         Row             Col         accessions       \n",
              " Min.   :    1   Min.   :  1.0   Min.   : 1.00   Length:225090     \n",
              " 1st Qu.:11302   1st Qu.:133.0   1st Qu.:22.00   Class :character  \n",
              " Median :22603   Median :266.0   Median :43.00   Mode  :character  \n",
              " Mean   :22608   Mean   :266.5   Mean   :43.01                     \n",
              " 3rd Qu.:33914   3rd Qu.:399.0   3rd Qu.:64.00                     \n",
              " Max.   :45220   Max.   :532.0   Max.   :85.00                     \n",
              " NA's   :15      NA's   :15      NA's   :15                        \n",
              "    ProbeUID      ControlType        ProbeName           GeneName        \n",
              " Min.   :    0   Min.   :-1.00000   Length:225090      Length:225090     \n",
              " 1st Qu.: 7652   1st Qu.: 0.00000   Class :character   Class :character  \n",
              " Median :18590   Median : 0.00000   Mode  :character   Mode  :character  \n",
              " Mean   :18993   Mean   : 0.02961                                        \n",
              " 3rd Qu.:29839   3rd Qu.: 0.00000                                        \n",
              " Max.   :41092   Max.   : 1.00000                                        \n",
              " NA's   :15      NA's   :15                                              \n",
              " SystematicName     Description        PValueLogRatio  \n",
              " Length:225090      Length:225090      Min.   :0.0000  \n",
              " Class :character   Class :character   1st Qu.:0.1040  \n",
              " Mode  :character   Mode  :character   Median :0.4090  \n",
              "                                       Mean   :0.4435  \n",
              "                                       3rd Qu.:0.7570  \n",
              "                                       Max.   :1.0000  \n",
              "                                       NA's   :15      \n",
              " Normalized.Exprssion.Ratio..By.rank.consistant.lowess.       M            \n",
              " Min.   :   0.005                                       Min.   :-7.534000  \n",
              " 1st Qu.:   0.878                                       1st Qu.:-0.188000  \n",
              " Median :   1.000                                       Median : 0.001000  \n",
              " Mean   :   1.092                                       Mean   : 0.000125  \n",
              " 3rd Qu.:   1.174                                       3rd Qu.: 0.231000  \n",
              " Max.   :1056.202                                       Max.   :10.045000  \n",
              " NA's   :15                                             NA's   :15         \n",
              "      A             gBGSubSignal.gBGUsed rBGSubSignall.rBGUsed\n",
              " Length:225090      Min.   :  -0.273     Min.   :  -0.230     \n",
              " Class :character   1st Qu.:   0.548     1st Qu.:   0.598     \n",
              " Mode  :character   Median :   3.552     Median :   3.582     \n",
              "                    Mean   :  64.375     Mean   :  85.923     \n",
              "                    3rd Qu.:  25.668     3rd Qu.:  26.452     \n",
              "                    Max.   :4457.362     Max.   :6001.382     \n",
              "                    NA's   :15           NA's   :15           \n",
              " gProcessedSignal    rProcessedSignal     gMeanSignal         rMeanSignal      \n",
              " Min.   :     2.32   Min.   :     1.79   Min.   :    25.73   Min.   :    54.9  \n",
              " 1st Qu.:    32.10   1st Qu.:    32.03   1st Qu.:    65.84   1st Qu.:   113.4  \n",
              " Median :   197.77   Median :   196.01   Median :   191.64   Median :   326.4  \n",
              " Mean   :  4034.76   Mean   :  4157.11   Mean   :  2734.14   Mean   :  6193.7  \n",
              " 3rd Qu.:  1449.29   3rd Qu.:  1447.06   3rd Qu.:  1121.94   3rd Qu.:  1951.3  \n",
              " Max.   :275998.80   Max.   :252627.80   Max.   :172197.80   Max.   :417383.3  \n",
              " NA's   :15          NA's   :15          NA's   :15          NA's   :15        \n",
              "  gBGSubSignal        rBGSubSignal         gBGUsed         rBGUsed     \n",
              " Min.   :   -11.71   Min.   :   -17.4   Min.   :31.60   Min.   :64.57  \n",
              " 1st Qu.:    23.14   1st Qu.:    42.4   1st Qu.:38.91   1st Qu.:69.32  \n",
              " Median :   149.29   Median :   255.2   Median :42.45   Median :70.88  \n",
              " Mean   :  2691.85   Mean   :  6122.6   Mean   :42.29   Mean   :71.05  \n",
              " 3rd Qu.:  1079.29   3rd Qu.:  1880.3   3rd Qu.:45.79   3rd Qu.:72.68  \n",
              " Max.   :172155.00   Max.   :417311.0   Max.   :50.57   Max.   :77.35  \n",
              " NA's   :15          NA's   :15         NA's   :15      NA's   :15     \n",
              "   Locuslink      Unigene.Cluster    ENTREZ_GENE_ID_NAME UNIPROT_ACCESSION \n",
              " Min.   :     1   Length:225090      Length:225090       Length:225090     \n",
              " 1st Qu.:  5281   Class :character   Class :character    Class :character  \n",
              " Median : 10772   Mode  :character   Mode  :character    Mode  :character  \n",
              " Mean   : 45878                                                            \n",
              " 3rd Qu.: 64064                                                            \n",
              " Max.   :445815                                                            \n",
              " NA's   :95475                                                             \n",
              "  UNIPROT_ID        GOTERM_BP_2        GOTERM_CC_2        GOTERM_MF_2       \n",
              " Length:225090      Length:225090      Length:225090      Length:225090     \n",
              " Class :character   Class :character   Class :character   Class :character  \n",
              " Mode  :character   Mode  :character   Mode  :character   Mode  :character  \n",
              "                                                                            \n",
              "                                                                            \n",
              "                                                                            \n",
              "                                                                            \n",
              " GOTERM_BP_3        GOTERM_CC_3        GOTERM_MF_3        KEGG_PATHWAY      \n",
              " Length:225090      Length:225090      Length:225090      Length:225090     \n",
              " Class :character   Class :character   Class :character   Class :character  \n",
              " Mode  :character   Mode  :character   Mode  :character   Mode  :character  \n",
              "                                                                            \n",
              "                                                                            \n",
              "                                                                            \n",
              "                                                                            \n",
              "   BIOCARTA          gIsSaturated  rIsSaturated gIsFeatNonUnifOL  \n",
              " Length:225090      Min.   :0     Min.   :0     Min.   :0.000000  \n",
              " Class :character   1st Qu.:0     1st Qu.:0     1st Qu.:0.000000  \n",
              " Mode  :character   Median :0     Median :0     Median :0.000000  \n",
              "                    Mean   :0     Mean   :0     Mean   :0.000169  \n",
              "                    3rd Qu.:0     3rd Qu.:0     3rd Qu.:0.000000  \n",
              "                    Max.   :0     Max.   :0     Max.   :1.000000  \n",
              "                    NA's   :15    NA's   :15    NA's   :15        \n",
              " rIsFeatNonUnifOL   gIsBGNonUnifOL    rIsBGNonUnifOL    gIsFeatPopnOL     \n",
              " Min.   :0.000000   Min.   :0.0e+00   Min.   :0.0e+00   Min.   :0.000000  \n",
              " 1st Qu.:0.000000   1st Qu.:0.0e+00   1st Qu.:0.0e+00   1st Qu.:0.000000  \n",
              " Median :0.000000   Median :0.0e+00   Median :0.0e+00   Median :0.000000  \n",
              " Mean   :0.000178   Mean   :4.9e-05   Mean   :6.2e-05   Mean   :0.002741  \n",
              " 3rd Qu.:0.000000   3rd Qu.:0.0e+00   3rd Qu.:0.0e+00   3rd Qu.:0.000000  \n",
              " Max.   :1.000000   Max.   :1.0e+00   Max.   :1.0e+00   Max.   :1.000000  \n",
              " NA's   :15         NA's   :15        NA's   :15        NA's   :15        \n",
              " rIsFeatPopnOL       gIsBGPopnOL       rIsBGPopnOL      gIsPosAndSignif \n",
              " Min.   :0.000000   Min.   :0.00000   Min.   :0.00000   Min.   :0.0000  \n",
              " 1st Qu.:0.000000   1st Qu.:0.00000   1st Qu.:0.00000   1st Qu.:1.0000  \n",
              " Median :0.000000   Median :0.00000   Median :0.00000   Median :1.0000  \n",
              " Mean   :0.003221   Mean   :0.01151   Mean   :0.02516   Mean   :0.9056  \n",
              " 3rd Qu.:0.000000   3rd Qu.:0.00000   3rd Qu.:0.00000   3rd Qu.:1.0000  \n",
              " Max.   :1.000000   Max.   :1.00000   Max.   :1.00000   Max.   :1.0000  \n",
              " NA's   :15         NA's   :15        NA's   :15        NA's   :15      \n",
              " rIsPosAndSignif  gIsWellAboveBG   rIsWellAboveBG     sampleID        \n",
              " Min.   :0.0000   Min.   :0.0000   Min.   :0.0000   Length:225090     \n",
              " 1st Qu.:1.0000   1st Qu.:1.0000   1st Qu.:1.0000   Class :character  \n",
              " Median :1.0000   Median :1.0000   Median :1.0000   Mode  :character  \n",
              " Mean   :0.9106   Mean   :0.8078   Mean   :0.8197                     \n",
              " 3rd Qu.:1.0000   3rd Qu.:1.0000   3rd Qu.:1.0000                     \n",
              " Max.   :1.0000   Max.   :1.0000   Max.   :1.0000                     \n",
              " NA's   :15       NA's   :15       NA's   :15                         "
            ]
          },
          "metadata": {}
        }
      ]
    },
    {
      "cell_type": "code",
      "source": [
        "colnames(data)"
      ],
      "metadata": {
        "colab": {
          "base_uri": "https://localhost:8080/",
          "height": 139
        },
        "collapsed": true,
        "id": "g9Vuy1rfM0Xj",
        "outputId": "32a9ef4a-8eba-4653-aa01-361091e4d8ce"
      },
      "execution_count": 10,
      "outputs": [
        {
          "output_type": "display_data",
          "data": {
            "text/html": [
              "<style>\n",
              ".list-inline {list-style: none; margin:0; padding: 0}\n",
              ".list-inline>li {display: inline-block}\n",
              ".list-inline>li:not(:last-child)::after {content: \"\\00b7\"; padding: 0 .5ex}\n",
              "</style>\n",
              "<ol class=list-inline><li>'FeatureNum'</li><li>'Row'</li><li>'Col'</li><li>'accessions'</li><li>'ProbeUID'</li><li>'ControlType'</li><li>'ProbeName'</li><li>'GeneName'</li><li>'SystematicName'</li><li>'Description'</li><li>'PValueLogRatio'</li><li>'Normalized.Exprssion.Ratio..By.rank.consistant.lowess.'</li><li>'M'</li><li>'A'</li><li>'gBGSubSignal.gBGUsed'</li><li>'rBGSubSignall.rBGUsed'</li><li>'gProcessedSignal'</li><li>'rProcessedSignal'</li><li>'gMeanSignal'</li><li>'rMeanSignal'</li><li>'gBGSubSignal'</li><li>'rBGSubSignal'</li><li>'gBGUsed'</li><li>'rBGUsed'</li><li>'Locuslink'</li><li>'Unigene.Cluster'</li><li>'ENTREZ_GENE_ID_NAME'</li><li>'UNIPROT_ACCESSION'</li><li>'UNIPROT_ID'</li><li>'GOTERM_BP_2'</li><li>'GOTERM_CC_2'</li><li>'GOTERM_MF_2'</li><li>'GOTERM_BP_3'</li><li>'GOTERM_CC_3'</li><li>'GOTERM_MF_3'</li><li>'KEGG_PATHWAY'</li><li>'BIOCARTA'</li><li>'gIsSaturated'</li><li>'rIsSaturated'</li><li>'gIsFeatNonUnifOL'</li><li>'rIsFeatNonUnifOL'</li><li>'gIsBGNonUnifOL'</li><li>'rIsBGNonUnifOL'</li><li>'gIsFeatPopnOL'</li><li>'rIsFeatPopnOL'</li><li>'gIsBGPopnOL'</li><li>'rIsBGPopnOL'</li><li>'gIsPosAndSignif'</li><li>'rIsPosAndSignif'</li><li>'gIsWellAboveBG'</li><li>'rIsWellAboveBG'</li><li>'sampleID'</li></ol>\n"
            ],
            "text/markdown": "1. 'FeatureNum'\n2. 'Row'\n3. 'Col'\n4. 'accessions'\n5. 'ProbeUID'\n6. 'ControlType'\n7. 'ProbeName'\n8. 'GeneName'\n9. 'SystematicName'\n10. 'Description'\n11. 'PValueLogRatio'\n12. 'Normalized.Exprssion.Ratio..By.rank.consistant.lowess.'\n13. 'M'\n14. 'A'\n15. 'gBGSubSignal.gBGUsed'\n16. 'rBGSubSignall.rBGUsed'\n17. 'gProcessedSignal'\n18. 'rProcessedSignal'\n19. 'gMeanSignal'\n20. 'rMeanSignal'\n21. 'gBGSubSignal'\n22. 'rBGSubSignal'\n23. 'gBGUsed'\n24. 'rBGUsed'\n25. 'Locuslink'\n26. 'Unigene.Cluster'\n27. 'ENTREZ_GENE_ID_NAME'\n28. 'UNIPROT_ACCESSION'\n29. 'UNIPROT_ID'\n30. 'GOTERM_BP_2'\n31. 'GOTERM_CC_2'\n32. 'GOTERM_MF_2'\n33. 'GOTERM_BP_3'\n34. 'GOTERM_CC_3'\n35. 'GOTERM_MF_3'\n36. 'KEGG_PATHWAY'\n37. 'BIOCARTA'\n38. 'gIsSaturated'\n39. 'rIsSaturated'\n40. 'gIsFeatNonUnifOL'\n41. 'rIsFeatNonUnifOL'\n42. 'gIsBGNonUnifOL'\n43. 'rIsBGNonUnifOL'\n44. 'gIsFeatPopnOL'\n45. 'rIsFeatPopnOL'\n46. 'gIsBGPopnOL'\n47. 'rIsBGPopnOL'\n48. 'gIsPosAndSignif'\n49. 'rIsPosAndSignif'\n50. 'gIsWellAboveBG'\n51. 'rIsWellAboveBG'\n52. 'sampleID'\n\n\n",
            "text/latex": "\\begin{enumerate*}\n\\item 'FeatureNum'\n\\item 'Row'\n\\item 'Col'\n\\item 'accessions'\n\\item 'ProbeUID'\n\\item 'ControlType'\n\\item 'ProbeName'\n\\item 'GeneName'\n\\item 'SystematicName'\n\\item 'Description'\n\\item 'PValueLogRatio'\n\\item 'Normalized.Exprssion.Ratio..By.rank.consistant.lowess.'\n\\item 'M'\n\\item 'A'\n\\item 'gBGSubSignal.gBGUsed'\n\\item 'rBGSubSignall.rBGUsed'\n\\item 'gProcessedSignal'\n\\item 'rProcessedSignal'\n\\item 'gMeanSignal'\n\\item 'rMeanSignal'\n\\item 'gBGSubSignal'\n\\item 'rBGSubSignal'\n\\item 'gBGUsed'\n\\item 'rBGUsed'\n\\item 'Locuslink'\n\\item 'Unigene.Cluster'\n\\item 'ENTREZ\\_GENE\\_ID\\_NAME'\n\\item 'UNIPROT\\_ACCESSION'\n\\item 'UNIPROT\\_ID'\n\\item 'GOTERM\\_BP\\_2'\n\\item 'GOTERM\\_CC\\_2'\n\\item 'GOTERM\\_MF\\_2'\n\\item 'GOTERM\\_BP\\_3'\n\\item 'GOTERM\\_CC\\_3'\n\\item 'GOTERM\\_MF\\_3'\n\\item 'KEGG\\_PATHWAY'\n\\item 'BIOCARTA'\n\\item 'gIsSaturated'\n\\item 'rIsSaturated'\n\\item 'gIsFeatNonUnifOL'\n\\item 'rIsFeatNonUnifOL'\n\\item 'gIsBGNonUnifOL'\n\\item 'rIsBGNonUnifOL'\n\\item 'gIsFeatPopnOL'\n\\item 'rIsFeatPopnOL'\n\\item 'gIsBGPopnOL'\n\\item 'rIsBGPopnOL'\n\\item 'gIsPosAndSignif'\n\\item 'rIsPosAndSignif'\n\\item 'gIsWellAboveBG'\n\\item 'rIsWellAboveBG'\n\\item 'sampleID'\n\\end{enumerate*}\n",
            "text/plain": [
              " [1] \"FeatureNum\"                                            \n",
              " [2] \"Row\"                                                   \n",
              " [3] \"Col\"                                                   \n",
              " [4] \"accessions\"                                            \n",
              " [5] \"ProbeUID\"                                              \n",
              " [6] \"ControlType\"                                           \n",
              " [7] \"ProbeName\"                                             \n",
              " [8] \"GeneName\"                                              \n",
              " [9] \"SystematicName\"                                        \n",
              "[10] \"Description\"                                           \n",
              "[11] \"PValueLogRatio\"                                        \n",
              "[12] \"Normalized.Exprssion.Ratio..By.rank.consistant.lowess.\"\n",
              "[13] \"M\"                                                     \n",
              "[14] \"A\"                                                     \n",
              "[15] \"gBGSubSignal.gBGUsed\"                                  \n",
              "[16] \"rBGSubSignall.rBGUsed\"                                 \n",
              "[17] \"gProcessedSignal\"                                      \n",
              "[18] \"rProcessedSignal\"                                      \n",
              "[19] \"gMeanSignal\"                                           \n",
              "[20] \"rMeanSignal\"                                           \n",
              "[21] \"gBGSubSignal\"                                          \n",
              "[22] \"rBGSubSignal\"                                          \n",
              "[23] \"gBGUsed\"                                               \n",
              "[24] \"rBGUsed\"                                               \n",
              "[25] \"Locuslink\"                                             \n",
              "[26] \"Unigene.Cluster\"                                       \n",
              "[27] \"ENTREZ_GENE_ID_NAME\"                                   \n",
              "[28] \"UNIPROT_ACCESSION\"                                     \n",
              "[29] \"UNIPROT_ID\"                                            \n",
              "[30] \"GOTERM_BP_2\"                                           \n",
              "[31] \"GOTERM_CC_2\"                                           \n",
              "[32] \"GOTERM_MF_2\"                                           \n",
              "[33] \"GOTERM_BP_3\"                                           \n",
              "[34] \"GOTERM_CC_3\"                                           \n",
              "[35] \"GOTERM_MF_3\"                                           \n",
              "[36] \"KEGG_PATHWAY\"                                          \n",
              "[37] \"BIOCARTA\"                                              \n",
              "[38] \"gIsSaturated\"                                          \n",
              "[39] \"rIsSaturated\"                                          \n",
              "[40] \"gIsFeatNonUnifOL\"                                      \n",
              "[41] \"rIsFeatNonUnifOL\"                                      \n",
              "[42] \"gIsBGNonUnifOL\"                                        \n",
              "[43] \"rIsBGNonUnifOL\"                                        \n",
              "[44] \"gIsFeatPopnOL\"                                         \n",
              "[45] \"rIsFeatPopnOL\"                                         \n",
              "[46] \"gIsBGPopnOL\"                                           \n",
              "[47] \"rIsBGPopnOL\"                                           \n",
              "[48] \"gIsPosAndSignif\"                                       \n",
              "[49] \"rIsPosAndSignif\"                                       \n",
              "[50] \"gIsWellAboveBG\"                                        \n",
              "[51] \"rIsWellAboveBG\"                                        \n",
              "[52] \"sampleID\"                                              "
            ]
          },
          "metadata": {}
        }
      ]
    },
    {
      "cell_type": "code",
      "source": [
        "# View the first row vertically\n",
        "row_to_print <- data[1, ]  # Extract the first row\n",
        "row_to_print_vertical <- as.data.frame(t(row_to_print))  # Transpose the row to make it vertical\n",
        "# Print the first row vertically\n",
        "print(row_to_print_vertical)"
      ],
      "metadata": {
        "colab": {
          "base_uri": "https://localhost:8080/"
        },
        "collapsed": true,
        "id": "Vi9MFvl6M6UX",
        "outputId": "ccd94ebb-5cd9-431f-a9dd-6e2527ccc452"
      },
      "execution_count": 12,
      "outputs": [
        {
          "output_type": "stream",
          "name": "stdout",
          "text": [
            "                                                                     1\n",
            "FeatureNum                                                           1\n",
            "Row                                                                  1\n",
            "Col                                                                  1\n",
            "accessions                                                            \n",
            "ProbeUID                                                             0\n",
            "ControlType                                                          1\n",
            "ProbeName                                              GE_BrightCorner\n",
            "GeneName                                               GE_BrightCorner\n",
            "SystematicName                                         GE_BrightCorner\n",
            "Description                                                           \n",
            "PValueLogRatio                                                   0.773\n",
            "Normalized.Exprssion.Ratio..By.rank.consistant.lowess.           1.042\n",
            "M                                                                0.059\n",
            "A                                                              15.774 \n",
            "gBGSubSignal.gBGUsed                                           805.576\n",
            "rBGSubSignall.rBGUsed                                         1310.155\n",
            "gProcessedSignal                                              61630.47\n",
            "rProcessedSignal                                              64192.05\n",
            "gMeanSignal                                                   34138.83\n",
            "rMeanSignal                                                    92124.8\n",
            "gBGSubSignal                                                   34096.5\n",
            "rBGSubSignal                                                   92054.5\n",
            "gBGUsed                                                         42.326\n",
            "rBGUsed                                                         70.262\n",
            "Locuslink                                                         <NA>\n",
            "Unigene.Cluster                                                       \n",
            "ENTREZ_GENE_ID_NAME                                                   \n",
            "UNIPROT_ACCESSION                                                     \n",
            "UNIPROT_ID                                                            \n",
            "GOTERM_BP_2                                                           \n",
            "GOTERM_CC_2                                                           \n",
            "GOTERM_MF_2                                                           \n",
            "GOTERM_BP_3                                                           \n",
            "GOTERM_CC_3                                                           \n",
            "GOTERM_MF_3                                                           \n",
            "KEGG_PATHWAY                                                          \n",
            "BIOCARTA                                                              \n",
            "gIsSaturated                                                         0\n",
            "rIsSaturated                                                         0\n",
            "gIsFeatNonUnifOL                                                     0\n",
            "rIsFeatNonUnifOL                                                     0\n",
            "gIsBGNonUnifOL                                                       0\n",
            "rIsBGNonUnifOL                                                       0\n",
            "gIsFeatPopnOL                                                        1\n",
            "rIsFeatPopnOL                                                        1\n",
            "gIsBGPopnOL                                                          1\n",
            "rIsBGPopnOL                                                          0\n",
            "gIsPosAndSignif                                                      1\n",
            "rIsPosAndSignif                                                      1\n",
            "gIsWellAboveBG                                                       1\n",
            "rIsWellAboveBG                                                       1\n",
            "sampleID                                                     GSM836205\n"
          ]
        }
      ]
    },
    {
      "cell_type": "markdown",
      "source": [
        "**remove duplicates**"
      ],
      "metadata": {
        "id": "iMQdYiiaTFtu"
      }
    },
    {
      "cell_type": "code",
      "source": [
        "# Identify all rows that are duplicates based on all columns except 'sampleID'\n",
        "duplicates <- data[duplicated(data[, !names(data) %in% \"sampleID\"]) |\n",
        "                   duplicated(data[, !names(data) %in% \"sampleID\"], fromLast = TRUE), ]\n",
        "\n",
        "# To get a summary of how many duplicate rows exist (excluding 'sampleID')\n",
        "nrow(duplicates)  # Total count of equal rows\n",
        "head(duplicates, 15)"
      ],
      "metadata": {
        "colab": {
          "base_uri": "https://localhost:8080/",
          "height": 605
        },
        "collapsed": true,
        "id": "wa04AzMCQlYA",
        "outputId": "41e40465-f718-4d48-9645-508dbbf9c8f0"
      },
      "execution_count": 28,
      "outputs": [
        {
          "output_type": "display_data",
          "data": {
            "text/html": [
              "15"
            ],
            "text/markdown": "15",
            "text/latex": "15",
            "text/plain": [
              "[1] 15"
            ]
          },
          "metadata": {}
        },
        {
          "output_type": "display_data",
          "data": {
            "text/html": [
              "<table class=\"dataframe\">\n",
              "<caption>A data.frame: 15 × 52</caption>\n",
              "<thead>\n",
              "\t<tr><th></th><th scope=col>FeatureNum</th><th scope=col>Row</th><th scope=col>Col</th><th scope=col>accessions</th><th scope=col>ProbeUID</th><th scope=col>ControlType</th><th scope=col>ProbeName</th><th scope=col>GeneName</th><th scope=col>SystematicName</th><th scope=col>Description</th><th scope=col>⋯</th><th scope=col>rIsBGNonUnifOL</th><th scope=col>gIsFeatPopnOL</th><th scope=col>rIsFeatPopnOL</th><th scope=col>gIsBGPopnOL</th><th scope=col>rIsBGPopnOL</th><th scope=col>gIsPosAndSignif</th><th scope=col>rIsPosAndSignif</th><th scope=col>gIsWellAboveBG</th><th scope=col>rIsWellAboveBG</th><th scope=col>sampleID</th></tr>\n",
              "\t<tr><th></th><th scope=col>&lt;int&gt;</th><th scope=col>&lt;int&gt;</th><th scope=col>&lt;int&gt;</th><th scope=col>&lt;chr&gt;</th><th scope=col>&lt;int&gt;</th><th scope=col>&lt;int&gt;</th><th scope=col>&lt;chr&gt;</th><th scope=col>&lt;chr&gt;</th><th scope=col>&lt;chr&gt;</th><th scope=col>&lt;chr&gt;</th><th scope=col>⋯</th><th scope=col>&lt;int&gt;</th><th scope=col>&lt;int&gt;</th><th scope=col>&lt;int&gt;</th><th scope=col>&lt;int&gt;</th><th scope=col>&lt;int&gt;</th><th scope=col>&lt;int&gt;</th><th scope=col>&lt;int&gt;</th><th scope=col>&lt;int&gt;</th><th scope=col>&lt;int&gt;</th><th scope=col>&lt;chr&gt;</th></tr>\n",
              "</thead>\n",
              "<tbody>\n",
              "\t<tr><th scope=row>45016</th><td>NA</td><td>NA</td><td>NA</td><td></td><td>NA</td><td>NA</td><td></td><td></td><td></td><td></td><td>⋯</td><td>NA</td><td>NA</td><td>NA</td><td>NA</td><td>NA</td><td>NA</td><td>NA</td><td>NA</td><td>NA</td><td>GSM836205</td></tr>\n",
              "\t<tr><th scope=row>45017</th><td>NA</td><td>NA</td><td>NA</td><td></td><td>NA</td><td>NA</td><td></td><td></td><td></td><td></td><td>⋯</td><td>NA</td><td>NA</td><td>NA</td><td>NA</td><td>NA</td><td>NA</td><td>NA</td><td>NA</td><td>NA</td><td>GSM836205</td></tr>\n",
              "\t<tr><th scope=row>45018</th><td>NA</td><td>NA</td><td>NA</td><td></td><td>NA</td><td>NA</td><td></td><td></td><td></td><td></td><td>⋯</td><td>NA</td><td>NA</td><td>NA</td><td>NA</td><td>NA</td><td>NA</td><td>NA</td><td>NA</td><td>NA</td><td>GSM836205</td></tr>\n",
              "\t<tr><th scope=row>90034</th><td>NA</td><td>NA</td><td>NA</td><td></td><td>NA</td><td>NA</td><td></td><td></td><td></td><td></td><td>⋯</td><td>NA</td><td>NA</td><td>NA</td><td>NA</td><td>NA</td><td>NA</td><td>NA</td><td>NA</td><td>NA</td><td>GSM836206</td></tr>\n",
              "\t<tr><th scope=row>90035</th><td>NA</td><td>NA</td><td>NA</td><td></td><td>NA</td><td>NA</td><td></td><td></td><td></td><td></td><td>⋯</td><td>NA</td><td>NA</td><td>NA</td><td>NA</td><td>NA</td><td>NA</td><td>NA</td><td>NA</td><td>NA</td><td>GSM836206</td></tr>\n",
              "\t<tr><th scope=row>90036</th><td>NA</td><td>NA</td><td>NA</td><td></td><td>NA</td><td>NA</td><td></td><td></td><td></td><td></td><td>⋯</td><td>NA</td><td>NA</td><td>NA</td><td>NA</td><td>NA</td><td>NA</td><td>NA</td><td>NA</td><td>NA</td><td>GSM836206</td></tr>\n",
              "\t<tr><th scope=row>135052</th><td>NA</td><td>NA</td><td>NA</td><td></td><td>NA</td><td>NA</td><td></td><td></td><td></td><td></td><td>⋯</td><td>NA</td><td>NA</td><td>NA</td><td>NA</td><td>NA</td><td>NA</td><td>NA</td><td>NA</td><td>NA</td><td>GSM836207</td></tr>\n",
              "\t<tr><th scope=row>135053</th><td>NA</td><td>NA</td><td>NA</td><td></td><td>NA</td><td>NA</td><td></td><td></td><td></td><td></td><td>⋯</td><td>NA</td><td>NA</td><td>NA</td><td>NA</td><td>NA</td><td>NA</td><td>NA</td><td>NA</td><td>NA</td><td>GSM836207</td></tr>\n",
              "\t<tr><th scope=row>135054</th><td>NA</td><td>NA</td><td>NA</td><td></td><td>NA</td><td>NA</td><td></td><td></td><td></td><td></td><td>⋯</td><td>NA</td><td>NA</td><td>NA</td><td>NA</td><td>NA</td><td>NA</td><td>NA</td><td>NA</td><td>NA</td><td>GSM836207</td></tr>\n",
              "\t<tr><th scope=row>180070</th><td>NA</td><td>NA</td><td>NA</td><td></td><td>NA</td><td>NA</td><td></td><td></td><td></td><td></td><td>⋯</td><td>NA</td><td>NA</td><td>NA</td><td>NA</td><td>NA</td><td>NA</td><td>NA</td><td>NA</td><td>NA</td><td>GSM836208</td></tr>\n",
              "\t<tr><th scope=row>180071</th><td>NA</td><td>NA</td><td>NA</td><td></td><td>NA</td><td>NA</td><td></td><td></td><td></td><td></td><td>⋯</td><td>NA</td><td>NA</td><td>NA</td><td>NA</td><td>NA</td><td>NA</td><td>NA</td><td>NA</td><td>NA</td><td>GSM836208</td></tr>\n",
              "\t<tr><th scope=row>180072</th><td>NA</td><td>NA</td><td>NA</td><td></td><td>NA</td><td>NA</td><td></td><td></td><td></td><td></td><td>⋯</td><td>NA</td><td>NA</td><td>NA</td><td>NA</td><td>NA</td><td>NA</td><td>NA</td><td>NA</td><td>NA</td><td>GSM836208</td></tr>\n",
              "\t<tr><th scope=row>225088</th><td>NA</td><td>NA</td><td>NA</td><td></td><td>NA</td><td>NA</td><td></td><td></td><td></td><td></td><td>⋯</td><td>NA</td><td>NA</td><td>NA</td><td>NA</td><td>NA</td><td>NA</td><td>NA</td><td>NA</td><td>NA</td><td>GSM836209</td></tr>\n",
              "\t<tr><th scope=row>225089</th><td>NA</td><td>NA</td><td>NA</td><td></td><td>NA</td><td>NA</td><td></td><td></td><td></td><td></td><td>⋯</td><td>NA</td><td>NA</td><td>NA</td><td>NA</td><td>NA</td><td>NA</td><td>NA</td><td>NA</td><td>NA</td><td>GSM836209</td></tr>\n",
              "\t<tr><th scope=row>225090</th><td>NA</td><td>NA</td><td>NA</td><td></td><td>NA</td><td>NA</td><td></td><td></td><td></td><td></td><td>⋯</td><td>NA</td><td>NA</td><td>NA</td><td>NA</td><td>NA</td><td>NA</td><td>NA</td><td>NA</td><td>NA</td><td>GSM836209</td></tr>\n",
              "</tbody>\n",
              "</table>\n"
            ],
            "text/markdown": "\nA data.frame: 15 × 52\n\n| <!--/--> | FeatureNum &lt;int&gt; | Row &lt;int&gt; | Col &lt;int&gt; | accessions &lt;chr&gt; | ProbeUID &lt;int&gt; | ControlType &lt;int&gt; | ProbeName &lt;chr&gt; | GeneName &lt;chr&gt; | SystematicName &lt;chr&gt; | Description &lt;chr&gt; | ⋯ ⋯ | rIsBGNonUnifOL &lt;int&gt; | gIsFeatPopnOL &lt;int&gt; | rIsFeatPopnOL &lt;int&gt; | gIsBGPopnOL &lt;int&gt; | rIsBGPopnOL &lt;int&gt; | gIsPosAndSignif &lt;int&gt; | rIsPosAndSignif &lt;int&gt; | gIsWellAboveBG &lt;int&gt; | rIsWellAboveBG &lt;int&gt; | sampleID &lt;chr&gt; |\n|---|---|---|---|---|---|---|---|---|---|---|---|---|---|---|---|---|---|---|---|---|---|\n| 45016 | NA | NA | NA | <!----> | NA | NA | <!----> | <!----> | <!----> | <!----> | ⋯ | NA | NA | NA | NA | NA | NA | NA | NA | NA | GSM836205 |\n| 45017 | NA | NA | NA | <!----> | NA | NA | <!----> | <!----> | <!----> | <!----> | ⋯ | NA | NA | NA | NA | NA | NA | NA | NA | NA | GSM836205 |\n| 45018 | NA | NA | NA | <!----> | NA | NA | <!----> | <!----> | <!----> | <!----> | ⋯ | NA | NA | NA | NA | NA | NA | NA | NA | NA | GSM836205 |\n| 90034 | NA | NA | NA | <!----> | NA | NA | <!----> | <!----> | <!----> | <!----> | ⋯ | NA | NA | NA | NA | NA | NA | NA | NA | NA | GSM836206 |\n| 90035 | NA | NA | NA | <!----> | NA | NA | <!----> | <!----> | <!----> | <!----> | ⋯ | NA | NA | NA | NA | NA | NA | NA | NA | NA | GSM836206 |\n| 90036 | NA | NA | NA | <!----> | NA | NA | <!----> | <!----> | <!----> | <!----> | ⋯ | NA | NA | NA | NA | NA | NA | NA | NA | NA | GSM836206 |\n| 135052 | NA | NA | NA | <!----> | NA | NA | <!----> | <!----> | <!----> | <!----> | ⋯ | NA | NA | NA | NA | NA | NA | NA | NA | NA | GSM836207 |\n| 135053 | NA | NA | NA | <!----> | NA | NA | <!----> | <!----> | <!----> | <!----> | ⋯ | NA | NA | NA | NA | NA | NA | NA | NA | NA | GSM836207 |\n| 135054 | NA | NA | NA | <!----> | NA | NA | <!----> | <!----> | <!----> | <!----> | ⋯ | NA | NA | NA | NA | NA | NA | NA | NA | NA | GSM836207 |\n| 180070 | NA | NA | NA | <!----> | NA | NA | <!----> | <!----> | <!----> | <!----> | ⋯ | NA | NA | NA | NA | NA | NA | NA | NA | NA | GSM836208 |\n| 180071 | NA | NA | NA | <!----> | NA | NA | <!----> | <!----> | <!----> | <!----> | ⋯ | NA | NA | NA | NA | NA | NA | NA | NA | NA | GSM836208 |\n| 180072 | NA | NA | NA | <!----> | NA | NA | <!----> | <!----> | <!----> | <!----> | ⋯ | NA | NA | NA | NA | NA | NA | NA | NA | NA | GSM836208 |\n| 225088 | NA | NA | NA | <!----> | NA | NA | <!----> | <!----> | <!----> | <!----> | ⋯ | NA | NA | NA | NA | NA | NA | NA | NA | NA | GSM836209 |\n| 225089 | NA | NA | NA | <!----> | NA | NA | <!----> | <!----> | <!----> | <!----> | ⋯ | NA | NA | NA | NA | NA | NA | NA | NA | NA | GSM836209 |\n| 225090 | NA | NA | NA | <!----> | NA | NA | <!----> | <!----> | <!----> | <!----> | ⋯ | NA | NA | NA | NA | NA | NA | NA | NA | NA | GSM836209 |\n\n",
            "text/latex": "A data.frame: 15 × 52\n\\begin{tabular}{r|lllllllllllllllllllll}\n  & FeatureNum & Row & Col & accessions & ProbeUID & ControlType & ProbeName & GeneName & SystematicName & Description & ⋯ & rIsBGNonUnifOL & gIsFeatPopnOL & rIsFeatPopnOL & gIsBGPopnOL & rIsBGPopnOL & gIsPosAndSignif & rIsPosAndSignif & gIsWellAboveBG & rIsWellAboveBG & sampleID\\\\\n  & <int> & <int> & <int> & <chr> & <int> & <int> & <chr> & <chr> & <chr> & <chr> & ⋯ & <int> & <int> & <int> & <int> & <int> & <int> & <int> & <int> & <int> & <chr>\\\\\n\\hline\n\t45016 & NA & NA & NA &  & NA & NA &  &  &  &  & ⋯ & NA & NA & NA & NA & NA & NA & NA & NA & NA & GSM836205\\\\\n\t45017 & NA & NA & NA &  & NA & NA &  &  &  &  & ⋯ & NA & NA & NA & NA & NA & NA & NA & NA & NA & GSM836205\\\\\n\t45018 & NA & NA & NA &  & NA & NA &  &  &  &  & ⋯ & NA & NA & NA & NA & NA & NA & NA & NA & NA & GSM836205\\\\\n\t90034 & NA & NA & NA &  & NA & NA &  &  &  &  & ⋯ & NA & NA & NA & NA & NA & NA & NA & NA & NA & GSM836206\\\\\n\t90035 & NA & NA & NA &  & NA & NA &  &  &  &  & ⋯ & NA & NA & NA & NA & NA & NA & NA & NA & NA & GSM836206\\\\\n\t90036 & NA & NA & NA &  & NA & NA &  &  &  &  & ⋯ & NA & NA & NA & NA & NA & NA & NA & NA & NA & GSM836206\\\\\n\t135052 & NA & NA & NA &  & NA & NA &  &  &  &  & ⋯ & NA & NA & NA & NA & NA & NA & NA & NA & NA & GSM836207\\\\\n\t135053 & NA & NA & NA &  & NA & NA &  &  &  &  & ⋯ & NA & NA & NA & NA & NA & NA & NA & NA & NA & GSM836207\\\\\n\t135054 & NA & NA & NA &  & NA & NA &  &  &  &  & ⋯ & NA & NA & NA & NA & NA & NA & NA & NA & NA & GSM836207\\\\\n\t180070 & NA & NA & NA &  & NA & NA &  &  &  &  & ⋯ & NA & NA & NA & NA & NA & NA & NA & NA & NA & GSM836208\\\\\n\t180071 & NA & NA & NA &  & NA & NA &  &  &  &  & ⋯ & NA & NA & NA & NA & NA & NA & NA & NA & NA & GSM836208\\\\\n\t180072 & NA & NA & NA &  & NA & NA &  &  &  &  & ⋯ & NA & NA & NA & NA & NA & NA & NA & NA & NA & GSM836208\\\\\n\t225088 & NA & NA & NA &  & NA & NA &  &  &  &  & ⋯ & NA & NA & NA & NA & NA & NA & NA & NA & NA & GSM836209\\\\\n\t225089 & NA & NA & NA &  & NA & NA &  &  &  &  & ⋯ & NA & NA & NA & NA & NA & NA & NA & NA & NA & GSM836209\\\\\n\t225090 & NA & NA & NA &  & NA & NA &  &  &  &  & ⋯ & NA & NA & NA & NA & NA & NA & NA & NA & NA & GSM836209\\\\\n\\end{tabular}\n",
            "text/plain": [
              "       FeatureNum Row Col accessions ProbeUID ControlType ProbeName GeneName\n",
              "45016  NA         NA  NA             NA       NA                            \n",
              "45017  NA         NA  NA             NA       NA                            \n",
              "45018  NA         NA  NA             NA       NA                            \n",
              "90034  NA         NA  NA             NA       NA                            \n",
              "90035  NA         NA  NA             NA       NA                            \n",
              "90036  NA         NA  NA             NA       NA                            \n",
              "135052 NA         NA  NA             NA       NA                            \n",
              "135053 NA         NA  NA             NA       NA                            \n",
              "135054 NA         NA  NA             NA       NA                            \n",
              "180070 NA         NA  NA             NA       NA                            \n",
              "180071 NA         NA  NA             NA       NA                            \n",
              "180072 NA         NA  NA             NA       NA                            \n",
              "225088 NA         NA  NA             NA       NA                            \n",
              "225089 NA         NA  NA             NA       NA                            \n",
              "225090 NA         NA  NA             NA       NA                            \n",
              "       SystematicName Description ⋯ rIsBGNonUnifOL gIsFeatPopnOL rIsFeatPopnOL\n",
              "45016                             ⋯ NA             NA            NA           \n",
              "45017                             ⋯ NA             NA            NA           \n",
              "45018                             ⋯ NA             NA            NA           \n",
              "90034                             ⋯ NA             NA            NA           \n",
              "90035                             ⋯ NA             NA            NA           \n",
              "90036                             ⋯ NA             NA            NA           \n",
              "135052                            ⋯ NA             NA            NA           \n",
              "135053                            ⋯ NA             NA            NA           \n",
              "135054                            ⋯ NA             NA            NA           \n",
              "180070                            ⋯ NA             NA            NA           \n",
              "180071                            ⋯ NA             NA            NA           \n",
              "180072                            ⋯ NA             NA            NA           \n",
              "225088                            ⋯ NA             NA            NA           \n",
              "225089                            ⋯ NA             NA            NA           \n",
              "225090                            ⋯ NA             NA            NA           \n",
              "       gIsBGPopnOL rIsBGPopnOL gIsPosAndSignif rIsPosAndSignif gIsWellAboveBG\n",
              "45016  NA          NA          NA              NA              NA            \n",
              "45017  NA          NA          NA              NA              NA            \n",
              "45018  NA          NA          NA              NA              NA            \n",
              "90034  NA          NA          NA              NA              NA            \n",
              "90035  NA          NA          NA              NA              NA            \n",
              "90036  NA          NA          NA              NA              NA            \n",
              "135052 NA          NA          NA              NA              NA            \n",
              "135053 NA          NA          NA              NA              NA            \n",
              "135054 NA          NA          NA              NA              NA            \n",
              "180070 NA          NA          NA              NA              NA            \n",
              "180071 NA          NA          NA              NA              NA            \n",
              "180072 NA          NA          NA              NA              NA            \n",
              "225088 NA          NA          NA              NA              NA            \n",
              "225089 NA          NA          NA              NA              NA            \n",
              "225090 NA          NA          NA              NA              NA            \n",
              "       rIsWellAboveBG sampleID \n",
              "45016  NA             GSM836205\n",
              "45017  NA             GSM836205\n",
              "45018  NA             GSM836205\n",
              "90034  NA             GSM836206\n",
              "90035  NA             GSM836206\n",
              "90036  NA             GSM836206\n",
              "135052 NA             GSM836207\n",
              "135053 NA             GSM836207\n",
              "135054 NA             GSM836207\n",
              "180070 NA             GSM836208\n",
              "180071 NA             GSM836208\n",
              "180072 NA             GSM836208\n",
              "225088 NA             GSM836209\n",
              "225089 NA             GSM836209\n",
              "225090 NA             GSM836209"
            ]
          },
          "metadata": {}
        }
      ]
    },
    {
      "cell_type": "code",
      "source": [
        "# Identify rows where all columns except 'sampleID' are NA\n",
        "null_rows <- data[apply(data[, !names(data) %in% \"sampleID\"], 1, function(x) all(is.na(x))), ]\n",
        "# مشاهده نتایج: نمایش ردیف‌های خالی\n",
        "print(null_rows)"
      ],
      "metadata": {
        "id": "tZkd3XTCT3np"
      },
      "execution_count": null,
      "outputs": []
    },
    {
      "cell_type": "code",
      "source": [
        "# Remove the duplicate rows from the data\n",
        "data <- data[!duplicated(data[, !names(data) %in% \"sampleID\"]) &\n",
        "                            !duplicated(data[, !names(data) %in% \"sampleID\"], fromLast = TRUE), ]\n",
        "\n",
        "print(paste(\"Number of rows removed: \", nrow(data)))"
      ],
      "metadata": {
        "colab": {
          "base_uri": "https://localhost:8080/"
        },
        "id": "smza5Z78SjUW",
        "outputId": "50516703-f0ef-4bf6-96a5-e88f7195ed5b"
      },
      "execution_count": 29,
      "outputs": [
        {
          "output_type": "stream",
          "name": "stdout",
          "text": [
            "[1] \"Number of rows removed:  225075\"\n"
          ]
        }
      ]
    },
    {
      "cell_type": "markdown",
      "source": [
        "**Filter Control Probes**"
      ],
      "metadata": {
        "id": "wqFj1BeoTVeA"
      }
    },
    {
      "cell_type": "code",
      "source": [
        "# حذف پروب‌های کنترلی\n",
        "data <- data[!grepl(\"GE_BrightCorner|DarkCorner|Control|Empty|Spike\", data$ProbeName), ]\n",
        "# بررسی تعداد پروب‌ها بعد از فیلتر\n",
        "nrow(data)"
      ],
      "metadata": {
        "colab": {
          "base_uri": "https://localhost:8080/",
          "height": 34
        },
        "id": "IdhO7t6dS7D6",
        "outputId": "4b992e2d-b6ca-4353-bc79-209b12f9f9fb"
      },
      "execution_count": 30,
      "outputs": [
        {
          "output_type": "display_data",
          "data": {
            "text/html": [
              "221985"
            ],
            "text/markdown": "221985",
            "text/latex": "221985",
            "text/plain": [
              "[1] 221985"
            ]
          },
          "metadata": {}
        }
      ]
    },
    {
      "cell_type": "markdown",
      "source": [
        "**Handle missing values**"
      ],
      "metadata": {
        "id": "T06lwV7fTlld"
      }
    },
    {
      "cell_type": "code",
      "source": [
        "sum(is.na(data))  # تعداد مقادیر گمشده"
      ],
      "metadata": {
        "colab": {
          "base_uri": "https://localhost:8080/",
          "height": 34
        },
        "id": "-yv05nkDTkUv",
        "outputId": "6bf67892-e915-4995-f360-150d27802ac9"
      },
      "execution_count": 31,
      "outputs": [
        {
          "output_type": "display_data",
          "data": {
            "text/html": [
              "92370"
            ],
            "text/markdown": "92370",
            "text/latex": "92370",
            "text/plain": [
              "[1] 92370"
            ]
          },
          "metadata": {}
        }
      ]
    },
    {
      "cell_type": "code",
      "source": [
        "colSums(is.na(data))"
      ],
      "metadata": {
        "colab": {
          "base_uri": "https://localhost:8080/",
          "height": 156
        },
        "id": "PPM6bQSiUF3C",
        "outputId": "a2e36b02-83c9-428d-f6ce-8ec13ac5b6c7"
      },
      "execution_count": 32,
      "outputs": [
        {
          "output_type": "display_data",
          "data": {
            "text/html": [
              "<style>\n",
              ".dl-inline {width: auto; margin:0; padding: 0}\n",
              ".dl-inline>dt, .dl-inline>dd {float: none; width: auto; display: inline-block}\n",
              ".dl-inline>dt::after {content: \":\\0020\"; padding-right: .5ex}\n",
              ".dl-inline>dt:not(:first-of-type) {padding-left: .5ex}\n",
              "</style><dl class=dl-inline><dt>FeatureNum</dt><dd>0</dd><dt>Row</dt><dd>0</dd><dt>Col</dt><dd>0</dd><dt>accessions</dt><dd>0</dd><dt>ProbeUID</dt><dd>0</dd><dt>ControlType</dt><dd>0</dd><dt>ProbeName</dt><dd>0</dd><dt>GeneName</dt><dd>0</dd><dt>SystematicName</dt><dd>0</dd><dt>Description</dt><dd>0</dd><dt>PValueLogRatio</dt><dd>0</dd><dt>Normalized.Exprssion.Ratio..By.rank.consistant.lowess.</dt><dd>0</dd><dt>M</dt><dd>0</dd><dt>A</dt><dd>0</dd><dt>gBGSubSignal.gBGUsed</dt><dd>0</dd><dt>rBGSubSignall.rBGUsed</dt><dd>0</dd><dt>gProcessedSignal</dt><dd>0</dd><dt>rProcessedSignal</dt><dd>0</dd><dt>gMeanSignal</dt><dd>0</dd><dt>rMeanSignal</dt><dd>0</dd><dt>gBGSubSignal</dt><dd>0</dd><dt>rBGSubSignal</dt><dd>0</dd><dt>gBGUsed</dt><dd>0</dd><dt>rBGUsed</dt><dd>0</dd><dt>Locuslink</dt><dd>92370</dd><dt>Unigene.Cluster</dt><dd>0</dd><dt>ENTREZ_GENE_ID_NAME</dt><dd>0</dd><dt>UNIPROT_ACCESSION</dt><dd>0</dd><dt>UNIPROT_ID</dt><dd>0</dd><dt>GOTERM_BP_2</dt><dd>0</dd><dt>GOTERM_CC_2</dt><dd>0</dd><dt>GOTERM_MF_2</dt><dd>0</dd><dt>GOTERM_BP_3</dt><dd>0</dd><dt>GOTERM_CC_3</dt><dd>0</dd><dt>GOTERM_MF_3</dt><dd>0</dd><dt>KEGG_PATHWAY</dt><dd>0</dd><dt>BIOCARTA</dt><dd>0</dd><dt>gIsSaturated</dt><dd>0</dd><dt>rIsSaturated</dt><dd>0</dd><dt>gIsFeatNonUnifOL</dt><dd>0</dd><dt>rIsFeatNonUnifOL</dt><dd>0</dd><dt>gIsBGNonUnifOL</dt><dd>0</dd><dt>rIsBGNonUnifOL</dt><dd>0</dd><dt>gIsFeatPopnOL</dt><dd>0</dd><dt>rIsFeatPopnOL</dt><dd>0</dd><dt>gIsBGPopnOL</dt><dd>0</dd><dt>rIsBGPopnOL</dt><dd>0</dd><dt>gIsPosAndSignif</dt><dd>0</dd><dt>rIsPosAndSignif</dt><dd>0</dd><dt>gIsWellAboveBG</dt><dd>0</dd><dt>rIsWellAboveBG</dt><dd>0</dd><dt>sampleID</dt><dd>0</dd></dl>\n"
            ],
            "text/markdown": "FeatureNum\n:   0Row\n:   0Col\n:   0accessions\n:   0ProbeUID\n:   0ControlType\n:   0ProbeName\n:   0GeneName\n:   0SystematicName\n:   0Description\n:   0PValueLogRatio\n:   0Normalized.Exprssion.Ratio..By.rank.consistant.lowess.\n:   0M\n:   0A\n:   0gBGSubSignal.gBGUsed\n:   0rBGSubSignall.rBGUsed\n:   0gProcessedSignal\n:   0rProcessedSignal\n:   0gMeanSignal\n:   0rMeanSignal\n:   0gBGSubSignal\n:   0rBGSubSignal\n:   0gBGUsed\n:   0rBGUsed\n:   0Locuslink\n:   92370Unigene.Cluster\n:   0ENTREZ_GENE_ID_NAME\n:   0UNIPROT_ACCESSION\n:   0UNIPROT_ID\n:   0GOTERM_BP_2\n:   0GOTERM_CC_2\n:   0GOTERM_MF_2\n:   0GOTERM_BP_3\n:   0GOTERM_CC_3\n:   0GOTERM_MF_3\n:   0KEGG_PATHWAY\n:   0BIOCARTA\n:   0gIsSaturated\n:   0rIsSaturated\n:   0gIsFeatNonUnifOL\n:   0rIsFeatNonUnifOL\n:   0gIsBGNonUnifOL\n:   0rIsBGNonUnifOL\n:   0gIsFeatPopnOL\n:   0rIsFeatPopnOL\n:   0gIsBGPopnOL\n:   0rIsBGPopnOL\n:   0gIsPosAndSignif\n:   0rIsPosAndSignif\n:   0gIsWellAboveBG\n:   0rIsWellAboveBG\n:   0sampleID\n:   0\n\n",
            "text/latex": "\\begin{description*}\n\\item[FeatureNum] 0\n\\item[Row] 0\n\\item[Col] 0\n\\item[accessions] 0\n\\item[ProbeUID] 0\n\\item[ControlType] 0\n\\item[ProbeName] 0\n\\item[GeneName] 0\n\\item[SystematicName] 0\n\\item[Description] 0\n\\item[PValueLogRatio] 0\n\\item[Normalized.Exprssion.Ratio..By.rank.consistant.lowess.] 0\n\\item[M] 0\n\\item[A] 0\n\\item[gBGSubSignal.gBGUsed] 0\n\\item[rBGSubSignall.rBGUsed] 0\n\\item[gProcessedSignal] 0\n\\item[rProcessedSignal] 0\n\\item[gMeanSignal] 0\n\\item[rMeanSignal] 0\n\\item[gBGSubSignal] 0\n\\item[rBGSubSignal] 0\n\\item[gBGUsed] 0\n\\item[rBGUsed] 0\n\\item[Locuslink] 92370\n\\item[Unigene.Cluster] 0\n\\item[ENTREZ\\textbackslash{}\\_GENE\\textbackslash{}\\_ID\\textbackslash{}\\_NAME] 0\n\\item[UNIPROT\\textbackslash{}\\_ACCESSION] 0\n\\item[UNIPROT\\textbackslash{}\\_ID] 0\n\\item[GOTERM\\textbackslash{}\\_BP\\textbackslash{}\\_2] 0\n\\item[GOTERM\\textbackslash{}\\_CC\\textbackslash{}\\_2] 0\n\\item[GOTERM\\textbackslash{}\\_MF\\textbackslash{}\\_2] 0\n\\item[GOTERM\\textbackslash{}\\_BP\\textbackslash{}\\_3] 0\n\\item[GOTERM\\textbackslash{}\\_CC\\textbackslash{}\\_3] 0\n\\item[GOTERM\\textbackslash{}\\_MF\\textbackslash{}\\_3] 0\n\\item[KEGG\\textbackslash{}\\_PATHWAY] 0\n\\item[BIOCARTA] 0\n\\item[gIsSaturated] 0\n\\item[rIsSaturated] 0\n\\item[gIsFeatNonUnifOL] 0\n\\item[rIsFeatNonUnifOL] 0\n\\item[gIsBGNonUnifOL] 0\n\\item[rIsBGNonUnifOL] 0\n\\item[gIsFeatPopnOL] 0\n\\item[rIsFeatPopnOL] 0\n\\item[gIsBGPopnOL] 0\n\\item[rIsBGPopnOL] 0\n\\item[gIsPosAndSignif] 0\n\\item[rIsPosAndSignif] 0\n\\item[gIsWellAboveBG] 0\n\\item[rIsWellAboveBG] 0\n\\item[sampleID] 0\n\\end{description*}\n",
            "text/plain": [
              "                                            FeatureNum \n",
              "                                                     0 \n",
              "                                                   Row \n",
              "                                                     0 \n",
              "                                                   Col \n",
              "                                                     0 \n",
              "                                            accessions \n",
              "                                                     0 \n",
              "                                              ProbeUID \n",
              "                                                     0 \n",
              "                                           ControlType \n",
              "                                                     0 \n",
              "                                             ProbeName \n",
              "                                                     0 \n",
              "                                              GeneName \n",
              "                                                     0 \n",
              "                                        SystematicName \n",
              "                                                     0 \n",
              "                                           Description \n",
              "                                                     0 \n",
              "                                        PValueLogRatio \n",
              "                                                     0 \n",
              "Normalized.Exprssion.Ratio..By.rank.consistant.lowess. \n",
              "                                                     0 \n",
              "                                                     M \n",
              "                                                     0 \n",
              "                                                     A \n",
              "                                                     0 \n",
              "                                  gBGSubSignal.gBGUsed \n",
              "                                                     0 \n",
              "                                 rBGSubSignall.rBGUsed \n",
              "                                                     0 \n",
              "                                      gProcessedSignal \n",
              "                                                     0 \n",
              "                                      rProcessedSignal \n",
              "                                                     0 \n",
              "                                           gMeanSignal \n",
              "                                                     0 \n",
              "                                           rMeanSignal \n",
              "                                                     0 \n",
              "                                          gBGSubSignal \n",
              "                                                     0 \n",
              "                                          rBGSubSignal \n",
              "                                                     0 \n",
              "                                               gBGUsed \n",
              "                                                     0 \n",
              "                                               rBGUsed \n",
              "                                                     0 \n",
              "                                             Locuslink \n",
              "                                                 92370 \n",
              "                                       Unigene.Cluster \n",
              "                                                     0 \n",
              "                                   ENTREZ_GENE_ID_NAME \n",
              "                                                     0 \n",
              "                                     UNIPROT_ACCESSION \n",
              "                                                     0 \n",
              "                                            UNIPROT_ID \n",
              "                                                     0 \n",
              "                                           GOTERM_BP_2 \n",
              "                                                     0 \n",
              "                                           GOTERM_CC_2 \n",
              "                                                     0 \n",
              "                                           GOTERM_MF_2 \n",
              "                                                     0 \n",
              "                                           GOTERM_BP_3 \n",
              "                                                     0 \n",
              "                                           GOTERM_CC_3 \n",
              "                                                     0 \n",
              "                                           GOTERM_MF_3 \n",
              "                                                     0 \n",
              "                                          KEGG_PATHWAY \n",
              "                                                     0 \n",
              "                                              BIOCARTA \n",
              "                                                     0 \n",
              "                                          gIsSaturated \n",
              "                                                     0 \n",
              "                                          rIsSaturated \n",
              "                                                     0 \n",
              "                                      gIsFeatNonUnifOL \n",
              "                                                     0 \n",
              "                                      rIsFeatNonUnifOL \n",
              "                                                     0 \n",
              "                                        gIsBGNonUnifOL \n",
              "                                                     0 \n",
              "                                        rIsBGNonUnifOL \n",
              "                                                     0 \n",
              "                                         gIsFeatPopnOL \n",
              "                                                     0 \n",
              "                                         rIsFeatPopnOL \n",
              "                                                     0 \n",
              "                                           gIsBGPopnOL \n",
              "                                                     0 \n",
              "                                           rIsBGPopnOL \n",
              "                                                     0 \n",
              "                                       gIsPosAndSignif \n",
              "                                                     0 \n",
              "                                       rIsPosAndSignif \n",
              "                                                     0 \n",
              "                                        gIsWellAboveBG \n",
              "                                                     0 \n",
              "                                        rIsWellAboveBG \n",
              "                                                     0 \n",
              "                                              sampleID \n",
              "                                                     0 "
            ]
          },
          "metadata": {}
        }
      ]
    },
    {
      "cell_type": "code",
      "source": [
        "data$Locuslink <- NULL\n",
        "sum(is.na(data))"
      ],
      "metadata": {
        "colab": {
          "base_uri": "https://localhost:8080/",
          "height": 34
        },
        "id": "gXI4irH4UDaD",
        "outputId": "c2aceaf5-f4f2-48da-dfb9-b966ca73ed86"
      },
      "execution_count": 33,
      "outputs": [
        {
          "output_type": "display_data",
          "data": {
            "text/html": [
              "0"
            ],
            "text/markdown": "0",
            "text/latex": "0",
            "text/plain": [
              "[1] 0"
            ]
          },
          "metadata": {}
        }
      ]
    },
    {
      "cell_type": "markdown",
      "source": [
        "**Create expression matrix**"
      ],
      "metadata": {
        "id": "eR5C-btrUVcw"
      }
    },
    {
      "cell_type": "code",
      "source": [
        "expression_data <- data %>%\n",
        "  select(GeneName, gProcessedSignal, rProcessedSignal, sampleID)"
      ],
      "metadata": {
        "id": "u2We1rHdUSsb"
      },
      "execution_count": 45,
      "outputs": []
    },
    {
      "cell_type": "code",
      "source": [
        "# Assuming 'expression_data' is your dataset\n",
        "\n",
        "# Step 1: Identify duplicates based on 'GeneName' and 'sampleID'\n",
        "duplicate_genes <- expression_data %>%\n",
        "  group_by(GeneName, sampleID) %>%  # Group by both 'GeneName' and 'sampleID'\n",
        "  filter(n() > 1) %>%  # Filter for rows where the combination appears more than once\n",
        "  distinct(GeneName, sampleID)  # Extract unique combinations of 'GeneName' and 'sampleID'\n",
        "\n",
        "# Step 2: Apply Trimmed Mean for each gene within each sample\n",
        "green_data_dup <- expression_data %>%\n",
        "  filter(paste(GeneName, sampleID) %in%\n",
        "           paste(duplicate_genes$GeneName, duplicate_genes$sampleID)) %>%  # Keep only duplicates\n",
        "  group_by(GeneName, sampleID) %>%  # Group by GeneName and sampleID\n",
        "  summarise(TrimmedMeanExpression = mean(gProcessedSignal, trim = 0.1, na.rm = TRUE))\n",
        "\n",
        "# Step 3: For non-duplicate genes, just keep their original values\n",
        "green_data_non_dup <- expression_data %>%\n",
        "  group_by(GeneName, sampleID) %>%\n",
        "  filter(n() == 1) %>%  # Keep rows where GeneName appears only once in the sample\n",
        "  select(GeneName, sampleID, TrimmedMeanExpression = gProcessedSignal)  # Keep the original value as TrimmedMeanExpression\n",
        "\n",
        "# Step 4: Combine the results for duplicate and non-duplicate genes\n",
        "final_expression <- bind_rows(green_data_dup,green_data_non_dup)\n",
        "\n",
        "# Step 5: Pivot the data to a wide format (GeneName as rows, sampleID as columns)\n",
        "green_data <- final_expression %>%\n",
        "  pivot_wider(names_from = sampleID, values_from = TrimmedMeanExpression)\n"
      ],
      "metadata": {
        "colab": {
          "base_uri": "https://localhost:8080/"
        },
        "collapsed": true,
        "id": "4f_p1fQH-sNF",
        "outputId": "f4ebdfc4-48de-486c-8e1d-e7e26b0a1b61"
      },
      "execution_count": 68,
      "outputs": [
        {
          "output_type": "stream",
          "name": "stderr",
          "text": [
            "\u001b[1m\u001b[22m`summarise()` has grouped output by 'GeneName'. You can override using the\n",
            "`.groups` argument.\n"
          ]
        }
      ]
    },
    {
      "cell_type": "code",
      "source": [
        "# Step 2: Apply Trimmed Mean for each gene within each sample\n",
        "red_data_dup <- expression_data %>%\n",
        "  filter(paste(GeneName, sampleID) %in%\n",
        "           paste(duplicate_genes$GeneName, duplicate_genes$sampleID)) %>%  # Keep only duplicates\n",
        "  group_by(GeneName, sampleID) %>%  # Group by GeneName and sampleID\n",
        "  summarise(TrimmedMeanExpression = mean(rProcessedSignal, trim = 0.1, na.rm = TRUE))\n",
        "\n",
        "# Step 3: For non-duplicate genes, just keep their original values\n",
        "red_data_non_dup <- expression_data %>%\n",
        "  group_by(GeneName, sampleID) %>%\n",
        "  filter(n() == 1) %>%  # Keep rows where GeneName appears only once in the sample\n",
        "  select(GeneName, sampleID, TrimmedMeanExpression = rProcessedSignal)  # Keep the original value as TrimmedMeanExpression\n",
        "\n",
        "# Step 4: Combine the results for duplicate and non-duplicate genes\n",
        "final_expression <- bind_rows(red_data_dup,red_data_non_dup)\n",
        "\n",
        "# Step 5: Pivot the data to a wide format (GeneName as rows, sampleID as columns)\n",
        "red_data <- final_expression %>%\n",
        "  pivot_wider(names_from = sampleID, values_from = TrimmedMeanExpression)\n",
        "\n",
        "# View the resulting table\n",
        "head(red_data)\n"
      ],
      "metadata": {
        "colab": {
          "base_uri": "https://localhost:8080/",
          "height": 320
        },
        "id": "yF-r42rW_Vsz",
        "outputId": "0f5eb39e-f72d-44e8-df70-152ae49dd52d"
      },
      "execution_count": 69,
      "outputs": [
        {
          "output_type": "stream",
          "name": "stderr",
          "text": [
            "\u001b[1m\u001b[22m`summarise()` has grouped output by 'GeneName'. You can override using the\n",
            "`.groups` argument.\n"
          ]
        },
        {
          "output_type": "display_data",
          "data": {
            "text/html": [
              "<table class=\"dataframe\">\n",
              "<caption>A grouped_df: 6 × 6</caption>\n",
              "<thead>\n",
              "\t<tr><th scope=col>GeneName</th><th scope=col>GSM836205</th><th scope=col>GSM836206</th><th scope=col>GSM836207</th><th scope=col>GSM836208</th><th scope=col>GSM836209</th></tr>\n",
              "\t<tr><th scope=col>&lt;chr&gt;</th><th scope=col>&lt;dbl&gt;</th><th scope=col>&lt;dbl&gt;</th><th scope=col>&lt;dbl&gt;</th><th scope=col>&lt;dbl&gt;</th><th scope=col>&lt;dbl&gt;</th></tr>\n",
              "</thead>\n",
              "<tbody>\n",
              "\t<tr><td>15E1.2</td><td> 411.3263</td><td> 568.1197</td><td> 589.5123</td><td> 407.9157</td><td> 447.4650</td></tr>\n",
              "\t<tr><td>2'-PDE</td><td> 141.4970</td><td> 196.3577</td><td> 170.4140</td><td> 146.7380</td><td> 145.0077</td></tr>\n",
              "\t<tr><td>39508 </td><td>   4.1725</td><td>  33.8945</td><td>  23.4145</td><td>   3.8425</td><td>  30.9545</td></tr>\n",
              "\t<tr><td>39509 </td><td> 902.8760</td><td> 903.9380</td><td>1386.6660</td><td>1247.0575</td><td> 838.3375</td></tr>\n",
              "\t<tr><td>39512 </td><td>4061.9665</td><td>5884.3040</td><td>4670.2785</td><td>4292.7935</td><td>4486.1630</td></tr>\n",
              "\t<tr><td>39513 </td><td>2271.3730</td><td>2792.2645</td><td>2245.2325</td><td>1761.7200</td><td>2029.0695</td></tr>\n",
              "</tbody>\n",
              "</table>\n"
            ],
            "text/markdown": "\nA grouped_df: 6 × 6\n\n| GeneName &lt;chr&gt; | GSM836205 &lt;dbl&gt; | GSM836206 &lt;dbl&gt; | GSM836207 &lt;dbl&gt; | GSM836208 &lt;dbl&gt; | GSM836209 &lt;dbl&gt; |\n|---|---|---|---|---|---|\n| 15E1.2 |  411.3263 |  568.1197 |  589.5123 |  407.9157 |  447.4650 |\n| 2'-PDE |  141.4970 |  196.3577 |  170.4140 |  146.7380 |  145.0077 |\n| 39508  |    4.1725 |   33.8945 |   23.4145 |    3.8425 |   30.9545 |\n| 39509  |  902.8760 |  903.9380 | 1386.6660 | 1247.0575 |  838.3375 |\n| 39512  | 4061.9665 | 5884.3040 | 4670.2785 | 4292.7935 | 4486.1630 |\n| 39513  | 2271.3730 | 2792.2645 | 2245.2325 | 1761.7200 | 2029.0695 |\n\n",
            "text/latex": "A grouped\\_df: 6 × 6\n\\begin{tabular}{llllll}\n GeneName & GSM836205 & GSM836206 & GSM836207 & GSM836208 & GSM836209\\\\\n <chr> & <dbl> & <dbl> & <dbl> & <dbl> & <dbl>\\\\\n\\hline\n\t 15E1.2 &  411.3263 &  568.1197 &  589.5123 &  407.9157 &  447.4650\\\\\n\t 2'-PDE &  141.4970 &  196.3577 &  170.4140 &  146.7380 &  145.0077\\\\\n\t 39508  &    4.1725 &   33.8945 &   23.4145 &    3.8425 &   30.9545\\\\\n\t 39509  &  902.8760 &  903.9380 & 1386.6660 & 1247.0575 &  838.3375\\\\\n\t 39512  & 4061.9665 & 5884.3040 & 4670.2785 & 4292.7935 & 4486.1630\\\\\n\t 39513  & 2271.3730 & 2792.2645 & 2245.2325 & 1761.7200 & 2029.0695\\\\\n\\end{tabular}\n",
            "text/plain": [
              "  GeneName GSM836205 GSM836206 GSM836207 GSM836208 GSM836209\n",
              "1 15E1.2    411.3263  568.1197  589.5123  407.9157  447.4650\n",
              "2 2'-PDE    141.4970  196.3577  170.4140  146.7380  145.0077\n",
              "3 39508       4.1725   33.8945   23.4145    3.8425   30.9545\n",
              "4 39509     902.8760  903.9380 1386.6660 1247.0575  838.3375\n",
              "5 39512    4061.9665 5884.3040 4670.2785 4292.7935 4486.1630\n",
              "6 39513    2271.3730 2792.2645 2245.2325 1761.7200 2029.0695"
            ]
          },
          "metadata": {}
        }
      ]
    },
    {
      "cell_type": "code",
      "source": [
        "# Step 3: Merge the green and red data into a single dataframe by GeneName\n",
        "final_data <- merge(green_data, red_data, by = \"GeneName\", suffixes = c(\"_green\", \"_red\"))\n",
        "\n",
        "# View the final expression matrix\n",
        "head(final_data)"
      ],
      "metadata": {
        "colab": {
          "base_uri": "https://localhost:8080/",
          "height": 306
        },
        "collapsed": true,
        "id": "Lqz0kgGA_z_U",
        "outputId": "bca79d9a-fcb3-4e4a-f0cd-74f1337df3ef"
      },
      "execution_count": 76,
      "outputs": [
        {
          "output_type": "display_data",
          "data": {
            "text/html": [
              "<table class=\"dataframe\">\n",
              "<caption>A data.frame: 6 × 11</caption>\n",
              "<thead>\n",
              "\t<tr><th></th><th scope=col>GeneName</th><th scope=col>GSM836205_green</th><th scope=col>GSM836206_green</th><th scope=col>GSM836207_green</th><th scope=col>GSM836208_green</th><th scope=col>GSM836209_green</th><th scope=col>GSM836205_red</th><th scope=col>GSM836206_red</th><th scope=col>GSM836207_red</th><th scope=col>GSM836208_red</th><th scope=col>GSM836209_red</th></tr>\n",
              "\t<tr><th></th><th scope=col>&lt;chr&gt;</th><th scope=col>&lt;dbl&gt;</th><th scope=col>&lt;dbl&gt;</th><th scope=col>&lt;dbl&gt;</th><th scope=col>&lt;dbl&gt;</th><th scope=col>&lt;dbl&gt;</th><th scope=col>&lt;dbl&gt;</th><th scope=col>&lt;dbl&gt;</th><th scope=col>&lt;dbl&gt;</th><th scope=col>&lt;dbl&gt;</th><th scope=col>&lt;dbl&gt;</th></tr>\n",
              "</thead>\n",
              "<tbody>\n",
              "\t<tr><th scope=row>1</th><td>15E1.2</td><td>412.1120</td><td>466.2163</td><td>472.5227</td><td>437.5120</td><td>445.8263</td><td>411.3263</td><td>568.1197</td><td> 589.5123</td><td> 407.9157</td><td>447.4650</td></tr>\n",
              "\t<tr><th scope=row>2</th><td>2'-PDE</td><td>135.6863</td><td>160.4447</td><td>149.2900</td><td>139.8413</td><td>127.0240</td><td>141.4970</td><td>196.3577</td><td> 170.4140</td><td> 146.7380</td><td>145.0077</td></tr>\n",
              "\t<tr><th scope=row>3</th><td>3.8-1 </td><td>  2.5500</td><td>  2.9610</td><td>  5.0560</td><td>  3.8010</td><td>  5.3220</td><td>  7.8380</td><td>  6.6710</td><td>   4.6980</td><td>   4.1320</td><td>  4.5740</td></tr>\n",
              "\t<tr><th scope=row>4</th><td>39508 </td><td> 16.4370</td><td> 18.3620</td><td> 12.2525</td><td> 16.1835</td><td> 19.0725</td><td>  4.1725</td><td> 33.8945</td><td>  23.4145</td><td>   3.8425</td><td> 30.9545</td></tr>\n",
              "\t<tr><th scope=row>5</th><td>39509 </td><td>557.3825</td><td>648.1950</td><td>686.6245</td><td>627.3595</td><td>615.2060</td><td>902.8760</td><td>903.9380</td><td>1386.6660</td><td>1247.0575</td><td>838.3375</td></tr>\n",
              "\t<tr><th scope=row>6</th><td>39510 </td><td>168.1120</td><td>186.8980</td><td>184.4350</td><td>186.2810</td><td>160.7080</td><td>209.7900</td><td>565.9530</td><td> 629.3900</td><td> 407.8720</td><td>125.2710</td></tr>\n",
              "</tbody>\n",
              "</table>\n"
            ],
            "text/markdown": "\nA data.frame: 6 × 11\n\n| <!--/--> | GeneName &lt;chr&gt; | GSM836205_green &lt;dbl&gt; | GSM836206_green &lt;dbl&gt; | GSM836207_green &lt;dbl&gt; | GSM836208_green &lt;dbl&gt; | GSM836209_green &lt;dbl&gt; | GSM836205_red &lt;dbl&gt; | GSM836206_red &lt;dbl&gt; | GSM836207_red &lt;dbl&gt; | GSM836208_red &lt;dbl&gt; | GSM836209_red &lt;dbl&gt; |\n|---|---|---|---|---|---|---|---|---|---|---|---|\n| 1 | 15E1.2 | 412.1120 | 466.2163 | 472.5227 | 437.5120 | 445.8263 | 411.3263 | 568.1197 |  589.5123 |  407.9157 | 447.4650 |\n| 2 | 2'-PDE | 135.6863 | 160.4447 | 149.2900 | 139.8413 | 127.0240 | 141.4970 | 196.3577 |  170.4140 |  146.7380 | 145.0077 |\n| 3 | 3.8-1  |   2.5500 |   2.9610 |   5.0560 |   3.8010 |   5.3220 |   7.8380 |   6.6710 |    4.6980 |    4.1320 |   4.5740 |\n| 4 | 39508  |  16.4370 |  18.3620 |  12.2525 |  16.1835 |  19.0725 |   4.1725 |  33.8945 |   23.4145 |    3.8425 |  30.9545 |\n| 5 | 39509  | 557.3825 | 648.1950 | 686.6245 | 627.3595 | 615.2060 | 902.8760 | 903.9380 | 1386.6660 | 1247.0575 | 838.3375 |\n| 6 | 39510  | 168.1120 | 186.8980 | 184.4350 | 186.2810 | 160.7080 | 209.7900 | 565.9530 |  629.3900 |  407.8720 | 125.2710 |\n\n",
            "text/latex": "A data.frame: 6 × 11\n\\begin{tabular}{r|lllllllllll}\n  & GeneName & GSM836205\\_green & GSM836206\\_green & GSM836207\\_green & GSM836208\\_green & GSM836209\\_green & GSM836205\\_red & GSM836206\\_red & GSM836207\\_red & GSM836208\\_red & GSM836209\\_red\\\\\n  & <chr> & <dbl> & <dbl> & <dbl> & <dbl> & <dbl> & <dbl> & <dbl> & <dbl> & <dbl> & <dbl>\\\\\n\\hline\n\t1 & 15E1.2 & 412.1120 & 466.2163 & 472.5227 & 437.5120 & 445.8263 & 411.3263 & 568.1197 &  589.5123 &  407.9157 & 447.4650\\\\\n\t2 & 2'-PDE & 135.6863 & 160.4447 & 149.2900 & 139.8413 & 127.0240 & 141.4970 & 196.3577 &  170.4140 &  146.7380 & 145.0077\\\\\n\t3 & 3.8-1  &   2.5500 &   2.9610 &   5.0560 &   3.8010 &   5.3220 &   7.8380 &   6.6710 &    4.6980 &    4.1320 &   4.5740\\\\\n\t4 & 39508  &  16.4370 &  18.3620 &  12.2525 &  16.1835 &  19.0725 &   4.1725 &  33.8945 &   23.4145 &    3.8425 &  30.9545\\\\\n\t5 & 39509  & 557.3825 & 648.1950 & 686.6245 & 627.3595 & 615.2060 & 902.8760 & 903.9380 & 1386.6660 & 1247.0575 & 838.3375\\\\\n\t6 & 39510  & 168.1120 & 186.8980 & 184.4350 & 186.2810 & 160.7080 & 209.7900 & 565.9530 &  629.3900 &  407.8720 & 125.2710\\\\\n\\end{tabular}\n",
            "text/plain": [
              "  GeneName GSM836205_green GSM836206_green GSM836207_green GSM836208_green\n",
              "1 15E1.2   412.1120        466.2163        472.5227        437.5120       \n",
              "2 2'-PDE   135.6863        160.4447        149.2900        139.8413       \n",
              "3 3.8-1      2.5500          2.9610          5.0560          3.8010       \n",
              "4 39508     16.4370         18.3620         12.2525         16.1835       \n",
              "5 39509    557.3825        648.1950        686.6245        627.3595       \n",
              "6 39510    168.1120        186.8980        184.4350        186.2810       \n",
              "  GSM836209_green GSM836205_red GSM836206_red GSM836207_red GSM836208_red\n",
              "1 445.8263        411.3263      568.1197       589.5123      407.9157    \n",
              "2 127.0240        141.4970      196.3577       170.4140      146.7380    \n",
              "3   5.3220          7.8380        6.6710         4.6980        4.1320    \n",
              "4  19.0725          4.1725       33.8945        23.4145        3.8425    \n",
              "5 615.2060        902.8760      903.9380      1386.6660     1247.0575    \n",
              "6 160.7080        209.7900      565.9530       629.3900      407.8720    \n",
              "  GSM836209_red\n",
              "1 447.4650     \n",
              "2 145.0077     \n",
              "3   4.5740     \n",
              "4  30.9545     \n",
              "5 838.3375     \n",
              "6 125.2710     "
            ]
          },
          "metadata": {}
        }
      ]
    },
    {
      "cell_type": "code",
      "source": [
        "sum(is.na(final_data))  # Check for NA"
      ],
      "metadata": {
        "colab": {
          "base_uri": "https://localhost:8080/",
          "height": 34
        },
        "id": "jf43TyLFALWm",
        "outputId": "d707cb57-0c31-4228-ab76-ebc8889b9430"
      },
      "execution_count": 77,
      "outputs": [
        {
          "output_type": "display_data",
          "data": {
            "text/html": [
              "0"
            ],
            "text/markdown": "0",
            "text/latex": "0",
            "text/plain": [
              "[1] 0"
            ]
          },
          "metadata": {}
        }
      ]
    },
    {
      "cell_type": "code",
      "source": [
        "summary(final_data)"
      ],
      "metadata": {
        "colab": {
          "base_uri": "https://localhost:8080/",
          "height": 503
        },
        "collapsed": true,
        "id": "_HisjcQeCRaj",
        "outputId": "31a4c5c2-722f-4673-b301-05b1520b7ac1"
      },
      "execution_count": 72,
      "outputs": [
        {
          "output_type": "display_data",
          "data": {
            "text/plain": [
              " GSM836205_green     GSM836206_green     GSM836207_green    \n",
              " Min.   :     2.32   Min.   :     2.64   Min.   :     4.19  \n",
              " 1st Qu.:    25.42   1st Qu.:    29.56   1st Qu.:    36.46  \n",
              " Median :   152.71   Median :   176.19   Median :   204.53  \n",
              " Mean   :  2769.90   Mean   :  3408.71   Mean   :  3476.07  \n",
              " 3rd Qu.:  1197.67   3rd Qu.:  1386.28   3rd Qu.:  1391.04  \n",
              " Max.   :195145.20   Max.   :193934.10   Max.   :234258.80  \n",
              " GSM836208_green     GSM836209_green     GSM836205_red      \n",
              " Min.   :     3.32   Min.   :     4.86   Min.   :     1.79  \n",
              " 1st Qu.:    37.23   1st Qu.:    35.98   1st Qu.:    25.49  \n",
              " Median :   191.41   Median :   190.24   Median :   152.55  \n",
              " Mean   :  3210.39   Mean   :  3178.97   Mean   :  2767.77  \n",
              " 3rd Qu.:  1254.45   3rd Qu.:  1229.62   3rd Qu.:  1184.76  \n",
              " Max.   :271853.20   Max.   :214365.60   Max.   :183058.70  \n",
              " GSM836206_red       GSM836207_red       GSM836208_red      \n",
              " Min.   :     2.18   Min.   :     3.81   Min.   :     3.53  \n",
              " 1st Qu.:    29.72   1st Qu.:    36.85   1st Qu.:    37.86  \n",
              " Median :   176.60   Median :   206.31   Median :   194.39  \n",
              " Mean   :  3344.29   Mean   :  3433.10   Mean   :  3224.97  \n",
              " 3rd Qu.:  1362.52   3rd Qu.:  1381.27   3rd Qu.:  1252.78  \n",
              " Max.   :224149.90   Max.   :242766.20   Max.   :239130.20  \n",
              " GSM836209_red      \n",
              " Min.   :     4.16  \n",
              " 1st Qu.:    36.48  \n",
              " Median :   192.70  \n",
              " Mean   :  3235.24  \n",
              " 3rd Qu.:  1239.64  \n",
              " Max.   :235419.80  "
            ]
          },
          "metadata": {}
        }
      ]
    },
    {
      "cell_type": "code",
      "source": [
        "# Step 1: Apply log2 transformation to the numeric columns (expression values) only\n",
        "final_data_log2 <- final_data\n",
        "\n",
        "# Apply log2 transformation to the columns excluding the GeneName column\n",
        "final_data_log2[, -1] <- log2(final_data[, -1])\n",
        "\n",
        "# Step 2: View the log2-transformed expression matrix\n",
        "head(final_data_log2)"
      ],
      "metadata": {
        "colab": {
          "base_uri": "https://localhost:8080/",
          "height": 306
        },
        "id": "BHTzxb8mCM82",
        "outputId": "24a896d6-626f-4e55-c520-29a776a23e41"
      },
      "execution_count": 79,
      "outputs": [
        {
          "output_type": "display_data",
          "data": {
            "text/html": [
              "<table class=\"dataframe\">\n",
              "<caption>A data.frame: 6 × 11</caption>\n",
              "<thead>\n",
              "\t<tr><th></th><th scope=col>GeneName</th><th scope=col>GSM836205_green</th><th scope=col>GSM836206_green</th><th scope=col>GSM836207_green</th><th scope=col>GSM836208_green</th><th scope=col>GSM836209_green</th><th scope=col>GSM836205_red</th><th scope=col>GSM836206_red</th><th scope=col>GSM836207_red</th><th scope=col>GSM836208_red</th><th scope=col>GSM836209_red</th></tr>\n",
              "\t<tr><th></th><th scope=col>&lt;chr&gt;</th><th scope=col>&lt;dbl&gt;</th><th scope=col>&lt;dbl&gt;</th><th scope=col>&lt;dbl&gt;</th><th scope=col>&lt;dbl&gt;</th><th scope=col>&lt;dbl&gt;</th><th scope=col>&lt;dbl&gt;</th><th scope=col>&lt;dbl&gt;</th><th scope=col>&lt;dbl&gt;</th><th scope=col>&lt;dbl&gt;</th><th scope=col>&lt;dbl&gt;</th></tr>\n",
              "</thead>\n",
              "<tbody>\n",
              "\t<tr><th scope=row>1</th><td>15E1.2</td><td>8.686893</td><td>8.864856</td><td>8.884240</td><td>8.773179</td><td>8.800338</td><td>8.684140</td><td>9.150051</td><td> 9.203378</td><td> 8.672127</td><td>8.805631</td></tr>\n",
              "\t<tr><th scope=row>2</th><td>2'-PDE</td><td>7.084132</td><td>7.325932</td><td>7.221974</td><td>7.127647</td><td>6.988957</td><td>7.144628</td><td>7.617340</td><td> 7.412900</td><td> 7.197099</td><td>7.179985</td></tr>\n",
              "\t<tr><th scope=row>3</th><td>3.8-1 </td><td>1.350497</td><td>1.566084</td><td>2.337996</td><td>1.926379</td><td>2.411969</td><td>2.970486</td><td>2.737903</td><td> 2.232047</td><td> 2.046840</td><td>2.193456</td></tr>\n",
              "\t<tr><th scope=row>4</th><td>39508 </td><td>4.038875</td><td>4.198651</td><td>3.615004</td><td>4.016452</td><td>4.253422</td><td>2.060912</td><td>5.082979</td><td> 4.549330</td><td> 1.942045</td><td>4.952077</td></tr>\n",
              "\t<tr><th scope=row>5</th><td>39509 </td><td>9.122524</td><td>9.340284</td><td>9.423378</td><td>9.293149</td><td>9.264926</td><td>9.818384</td><td>9.820080</td><td>10.437405</td><td>10.284312</td><td>9.711387</td></tr>\n",
              "\t<tr><th scope=row>6</th><td>39510 </td><td>7.393279</td><td>7.546107</td><td>7.526969</td><td>7.541337</td><td>7.328298</td><td>7.712802</td><td>9.144538</td><td> 9.297810</td><td> 8.671973</td><td>6.968909</td></tr>\n",
              "</tbody>\n",
              "</table>\n"
            ],
            "text/markdown": "\nA data.frame: 6 × 11\n\n| <!--/--> | GeneName &lt;chr&gt; | GSM836205_green &lt;dbl&gt; | GSM836206_green &lt;dbl&gt; | GSM836207_green &lt;dbl&gt; | GSM836208_green &lt;dbl&gt; | GSM836209_green &lt;dbl&gt; | GSM836205_red &lt;dbl&gt; | GSM836206_red &lt;dbl&gt; | GSM836207_red &lt;dbl&gt; | GSM836208_red &lt;dbl&gt; | GSM836209_red &lt;dbl&gt; |\n|---|---|---|---|---|---|---|---|---|---|---|---|\n| 1 | 15E1.2 | 8.686893 | 8.864856 | 8.884240 | 8.773179 | 8.800338 | 8.684140 | 9.150051 |  9.203378 |  8.672127 | 8.805631 |\n| 2 | 2'-PDE | 7.084132 | 7.325932 | 7.221974 | 7.127647 | 6.988957 | 7.144628 | 7.617340 |  7.412900 |  7.197099 | 7.179985 |\n| 3 | 3.8-1  | 1.350497 | 1.566084 | 2.337996 | 1.926379 | 2.411969 | 2.970486 | 2.737903 |  2.232047 |  2.046840 | 2.193456 |\n| 4 | 39508  | 4.038875 | 4.198651 | 3.615004 | 4.016452 | 4.253422 | 2.060912 | 5.082979 |  4.549330 |  1.942045 | 4.952077 |\n| 5 | 39509  | 9.122524 | 9.340284 | 9.423378 | 9.293149 | 9.264926 | 9.818384 | 9.820080 | 10.437405 | 10.284312 | 9.711387 |\n| 6 | 39510  | 7.393279 | 7.546107 | 7.526969 | 7.541337 | 7.328298 | 7.712802 | 9.144538 |  9.297810 |  8.671973 | 6.968909 |\n\n",
            "text/latex": "A data.frame: 6 × 11\n\\begin{tabular}{r|lllllllllll}\n  & GeneName & GSM836205\\_green & GSM836206\\_green & GSM836207\\_green & GSM836208\\_green & GSM836209\\_green & GSM836205\\_red & GSM836206\\_red & GSM836207\\_red & GSM836208\\_red & GSM836209\\_red\\\\\n  & <chr> & <dbl> & <dbl> & <dbl> & <dbl> & <dbl> & <dbl> & <dbl> & <dbl> & <dbl> & <dbl>\\\\\n\\hline\n\t1 & 15E1.2 & 8.686893 & 8.864856 & 8.884240 & 8.773179 & 8.800338 & 8.684140 & 9.150051 &  9.203378 &  8.672127 & 8.805631\\\\\n\t2 & 2'-PDE & 7.084132 & 7.325932 & 7.221974 & 7.127647 & 6.988957 & 7.144628 & 7.617340 &  7.412900 &  7.197099 & 7.179985\\\\\n\t3 & 3.8-1  & 1.350497 & 1.566084 & 2.337996 & 1.926379 & 2.411969 & 2.970486 & 2.737903 &  2.232047 &  2.046840 & 2.193456\\\\\n\t4 & 39508  & 4.038875 & 4.198651 & 3.615004 & 4.016452 & 4.253422 & 2.060912 & 5.082979 &  4.549330 &  1.942045 & 4.952077\\\\\n\t5 & 39509  & 9.122524 & 9.340284 & 9.423378 & 9.293149 & 9.264926 & 9.818384 & 9.820080 & 10.437405 & 10.284312 & 9.711387\\\\\n\t6 & 39510  & 7.393279 & 7.546107 & 7.526969 & 7.541337 & 7.328298 & 7.712802 & 9.144538 &  9.297810 &  8.671973 & 6.968909\\\\\n\\end{tabular}\n",
            "text/plain": [
              "  GeneName GSM836205_green GSM836206_green GSM836207_green GSM836208_green\n",
              "1 15E1.2   8.686893        8.864856        8.884240        8.773179       \n",
              "2 2'-PDE   7.084132        7.325932        7.221974        7.127647       \n",
              "3 3.8-1    1.350497        1.566084        2.337996        1.926379       \n",
              "4 39508    4.038875        4.198651        3.615004        4.016452       \n",
              "5 39509    9.122524        9.340284        9.423378        9.293149       \n",
              "6 39510    7.393279        7.546107        7.526969        7.541337       \n",
              "  GSM836209_green GSM836205_red GSM836206_red GSM836207_red GSM836208_red\n",
              "1 8.800338        8.684140      9.150051       9.203378      8.672127    \n",
              "2 6.988957        7.144628      7.617340       7.412900      7.197099    \n",
              "3 2.411969        2.970486      2.737903       2.232047      2.046840    \n",
              "4 4.253422        2.060912      5.082979       4.549330      1.942045    \n",
              "5 9.264926        9.818384      9.820080      10.437405     10.284312    \n",
              "6 7.328298        7.712802      9.144538       9.297810      8.671973    \n",
              "  GSM836209_red\n",
              "1 8.805631     \n",
              "2 7.179985     \n",
              "3 2.193456     \n",
              "4 4.952077     \n",
              "5 9.711387     \n",
              "6 6.968909     "
            ]
          },
          "metadata": {}
        }
      ]
    },
    {
      "cell_type": "code",
      "source": [
        "summary(final_data_log2)"
      ],
      "metadata": {
        "collapsed": true,
        "colab": {
          "base_uri": "https://localhost:8080/",
          "height": 382
        },
        "id": "JtoF6lDaCdlJ",
        "outputId": "1e013ddf-904e-48d9-cde5-df566b2cc10b"
      },
      "execution_count": 80,
      "outputs": [
        {
          "output_type": "display_data",
          "data": {
            "text/plain": [
              "   GeneName         GSM836205_green  GSM836206_green  GSM836207_green \n",
              " Length:30587       Min.   : 1.212   Min.   : 1.402   Min.   : 2.066  \n",
              " Class :character   1st Qu.: 4.668   1st Qu.: 4.886   1st Qu.: 5.188  \n",
              " Mode  :character   Median : 7.255   Median : 7.461   Median : 7.676  \n",
              "                    Mean   : 7.485   Mean   : 7.689   Mean   : 7.861  \n",
              "                    3rd Qu.:10.226   3rd Qu.:10.437   3rd Qu.:10.442  \n",
              "                    Max.   :17.574   Max.   :17.565   Max.   :17.838  \n",
              " GSM836208_green  GSM836209_green  GSM836205_red     GSM836206_red   \n",
              " Min.   : 1.731   Min.   : 2.281   Min.   : 0.8424   Min.   : 1.122  \n",
              " 1st Qu.: 5.218   1st Qu.: 5.169   1st Qu.: 4.6720   1st Qu.: 4.893  \n",
              " Median : 7.581   Median : 7.572   Median : 7.2531   Median : 7.464  \n",
              " Mean   : 7.779   Mean   : 7.779   Mean   : 7.4692   Mean   : 7.679  \n",
              " 3rd Qu.:10.293   3rd Qu.:10.264   3rd Qu.:10.2104   3rd Qu.:10.412  \n",
              " Max.   :18.052   Max.   :17.710   Max.   :17.4819   Max.   :17.774  \n",
              " GSM836207_red    GSM836208_red    GSM836209_red   \n",
              " Min.   : 1.930   Min.   : 1.821   Min.   : 2.057  \n",
              " 1st Qu.: 5.204   1st Qu.: 5.243   1st Qu.: 5.189  \n",
              " Median : 7.689   Median : 7.603   Median : 7.590  \n",
              " Mean   : 7.852   Mean   : 7.795   Mean   : 7.768  \n",
              " 3rd Qu.:10.432   3rd Qu.:10.291   3rd Qu.:10.276  \n",
              " Max.   :17.889   Max.   :17.867   Max.   :17.845  "
            ]
          },
          "metadata": {}
        }
      ]
    },
    {
      "cell_type": "code",
      "source": [
        "# Load the required library\n",
        "library(limma)\n",
        "\n",
        "# Assume final_expression_matrix_log2 is already available with your data (log2-transformed expression matrix)\n",
        "# Extract expression matrix (excluding GeneName as rownames)\n",
        "expression_matrix <- final_data_log2[, -1]\n",
        "row.names(expression_matrix) <- final_data_log2$GeneName  # Set row names to GeneName\n",
        "\n",
        "# Create metadata (colData) with conditions for each sample\n",
        "# Assuming the conditions are green and red for the two channels\n",
        "col_data <- data.frame(\n",
        "  condition = rep(c(\"green\", \"red\"), each = 5),  # Adjust these based on your actual conditions\n",
        "  row.names = colnames(expression_matrix)  # Sample names should match column names of expression_matrix\n",
        ")\n",
        "\n",
        "# Create design matrix to model the condition\n",
        "design <- model.matrix(~ condition, data = col_data)\n",
        "\n",
        "# Fit the linear model to the expression data\n",
        "fit <- lmFit(expression_matrix, design)\n",
        "\n",
        "# Apply empirical Bayes moderation\n",
        "fit <- eBayes(fit)\n",
        "\n",
        "# Extract results for differential expression\n",
        "results <- topTable(fit, coef = \"conditionred\", number = Inf, adjust = \"fdr\")\n",
        "\n",
        "# View the results\n",
        "head(results)\n"
      ],
      "metadata": {
        "colab": {
          "base_uri": "https://localhost:8080/",
          "height": 286
        },
        "id": "8bESDzH0AVN5",
        "outputId": "a5a41fa9-e4c1-4418-a094-9a47d6924df4"
      },
      "execution_count": 81,
      "outputs": [
        {
          "output_type": "display_data",
          "data": {
            "text/html": [
              "<table class=\"dataframe\">\n",
              "<caption>A data.frame: 6 × 6</caption>\n",
              "<thead>\n",
              "\t<tr><th></th><th scope=col>logFC</th><th scope=col>AveExpr</th><th scope=col>t</th><th scope=col>P.Value</th><th scope=col>adj.P.Val</th><th scope=col>B</th></tr>\n",
              "\t<tr><th></th><th scope=col>&lt;dbl&gt;</th><th scope=col>&lt;dbl&gt;</th><th scope=col>&lt;dbl&gt;</th><th scope=col>&lt;dbl&gt;</th><th scope=col>&lt;dbl&gt;</th><th scope=col>&lt;dbl&gt;</th></tr>\n",
              "</thead>\n",
              "<tbody>\n",
              "\t<tr><th scope=row>E1A_r60_a22</th><td>3.514793</td><td>15.24751</td><td>28.37765</td><td>3.501205e-11</td><td>4.792656e-07</td><td>12.37786</td></tr>\n",
              "\t<tr><th scope=row>DCP_22_0</th><td>3.522298</td><td>15.19104</td><td>27.95262</td><td>4.087718e-11</td><td>4.792656e-07</td><td>12.31968</td></tr>\n",
              "\t<tr><th scope=row>DCP_22_4</th><td>3.408842</td><td>14.40768</td><td>26.47121</td><td>7.144605e-11</td><td>4.792656e-07</td><td>12.10036</td></tr>\n",
              "\t<tr><th scope=row>DCP_22_2</th><td>3.434484</td><td>14.95367</td><td>26.44633</td><td>7.213764e-11</td><td>4.792656e-07</td><td>12.09644</td></tr>\n",
              "\t<tr><th scope=row>DCP_22_6</th><td>3.396627</td><td>13.67475</td><td>26.23413</td><td>7.834466e-11</td><td>4.792656e-07</td><td>12.06269</td></tr>\n",
              "\t<tr><th scope=row>DCP_22_7</th><td>3.370446</td><td>12.60764</td><td>23.21671</td><td>2.733109e-10</td><td>1.393293e-06</td><td>11.51015</td></tr>\n",
              "</tbody>\n",
              "</table>\n"
            ],
            "text/markdown": "\nA data.frame: 6 × 6\n\n| <!--/--> | logFC &lt;dbl&gt; | AveExpr &lt;dbl&gt; | t &lt;dbl&gt; | P.Value &lt;dbl&gt; | adj.P.Val &lt;dbl&gt; | B &lt;dbl&gt; |\n|---|---|---|---|---|---|---|\n| E1A_r60_a22 | 3.514793 | 15.24751 | 28.37765 | 3.501205e-11 | 4.792656e-07 | 12.37786 |\n| DCP_22_0 | 3.522298 | 15.19104 | 27.95262 | 4.087718e-11 | 4.792656e-07 | 12.31968 |\n| DCP_22_4 | 3.408842 | 14.40768 | 26.47121 | 7.144605e-11 | 4.792656e-07 | 12.10036 |\n| DCP_22_2 | 3.434484 | 14.95367 | 26.44633 | 7.213764e-11 | 4.792656e-07 | 12.09644 |\n| DCP_22_6 | 3.396627 | 13.67475 | 26.23413 | 7.834466e-11 | 4.792656e-07 | 12.06269 |\n| DCP_22_7 | 3.370446 | 12.60764 | 23.21671 | 2.733109e-10 | 1.393293e-06 | 11.51015 |\n\n",
            "text/latex": "A data.frame: 6 × 6\n\\begin{tabular}{r|llllll}\n  & logFC & AveExpr & t & P.Value & adj.P.Val & B\\\\\n  & <dbl> & <dbl> & <dbl> & <dbl> & <dbl> & <dbl>\\\\\n\\hline\n\tE1A\\_r60\\_a22 & 3.514793 & 15.24751 & 28.37765 & 3.501205e-11 & 4.792656e-07 & 12.37786\\\\\n\tDCP\\_22\\_0 & 3.522298 & 15.19104 & 27.95262 & 4.087718e-11 & 4.792656e-07 & 12.31968\\\\\n\tDCP\\_22\\_4 & 3.408842 & 14.40768 & 26.47121 & 7.144605e-11 & 4.792656e-07 & 12.10036\\\\\n\tDCP\\_22\\_2 & 3.434484 & 14.95367 & 26.44633 & 7.213764e-11 & 4.792656e-07 & 12.09644\\\\\n\tDCP\\_22\\_6 & 3.396627 & 13.67475 & 26.23413 & 7.834466e-11 & 4.792656e-07 & 12.06269\\\\\n\tDCP\\_22\\_7 & 3.370446 & 12.60764 & 23.21671 & 2.733109e-10 & 1.393293e-06 & 11.51015\\\\\n\\end{tabular}\n",
            "text/plain": [
              "            logFC    AveExpr  t        P.Value      adj.P.Val    B       \n",
              "E1A_r60_a22 3.514793 15.24751 28.37765 3.501205e-11 4.792656e-07 12.37786\n",
              "DCP_22_0    3.522298 15.19104 27.95262 4.087718e-11 4.792656e-07 12.31968\n",
              "DCP_22_4    3.408842 14.40768 26.47121 7.144605e-11 4.792656e-07 12.10036\n",
              "DCP_22_2    3.434484 14.95367 26.44633 7.213764e-11 4.792656e-07 12.09644\n",
              "DCP_22_6    3.396627 13.67475 26.23413 7.834466e-11 4.792656e-07 12.06269\n",
              "DCP_22_7    3.370446 12.60764 23.21671 2.733109e-10 1.393293e-06 11.51015"
            ]
          },
          "metadata": {}
        }
      ]
    },
    {
      "cell_type": "code",
      "source": [
        "# Filter significant genes (adjusted p-value < 0.05, log2 fold change > 1 or < -1)\n",
        "significant_results <- results[which(results$adj.P.Val < 0.05 & abs(results$logFC) > 2), ]\n",
        "# Save results to CSV\n",
        "write.csv(significant_results, \"limma_differential_expression_results.csv\")"
      ],
      "metadata": {
        "id": "OHJ8kfAkF8-X"
      },
      "execution_count": 84,
      "outputs": []
    },
    {
      "cell_type": "code",
      "source": [
        "nrow(significant_results)"
      ],
      "metadata": {
        "colab": {
          "base_uri": "https://localhost:8080/",
          "height": 34
        },
        "id": "SA1mjzBOGfSe",
        "outputId": "1cc82d83-e810-4e28-d43b-243e624e0596"
      },
      "execution_count": 85,
      "outputs": [
        {
          "output_type": "display_data",
          "data": {
            "text/html": [
              "82"
            ],
            "text/markdown": "82",
            "text/latex": "82",
            "text/plain": [
              "[1] 82"
            ]
          },
          "metadata": {}
        }
      ]
    }
  ]
}