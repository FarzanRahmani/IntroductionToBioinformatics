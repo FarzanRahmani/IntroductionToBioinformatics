{
  "cells": [
    {
      "cell_type": "markdown",
      "metadata": {
        "id": "CYumDZKBCLvh"
      },
      "source": [
        "<div dir=ltr align=center>In the name of God</div>\n",
        "<br>\n",
        "<font size=6><div dir=ltr align=center>\n",
        "<font size=5>\n",
        "Introduction to Bioinformatics\n",
        "<br>\n",
        "<font size=4>\n",
        "sharif university of technology, CE department\n",
        "</font>\n",
        "<br>\n",
        "<font size=3>\n",
        "Dr. Sharifi-Zarchi\n",
        "</font>\n",
        "<br>\n",
        "<br>\n",
        "<font size=6>\n",
        "Homework 2\n",
        "</font><br>\n",
        "<font size=4>"
      ]
    },
    {
      "cell_type": "markdown",
      "metadata": {
        "id": "sHhV53bpCO2D"
      },
      "source": [
        "**Student Name:** Farzan Rahmani\n",
        "\n",
        "**Student ID:** 403210725"
      ]
    },
    {
      "cell_type": "markdown",
      "metadata": {
        "id": "075lhnorFyOp"
      },
      "source": [
        "# Exploring SRR12506197: Understanding Sequencing File Formats and Extracting Information\n",
        "\n",
        "In this analysis, we are working with a sequencing data file identified as **SRR12506197**. Our objective is to gain a deeper understanding of the sequencing file format and explore the types of information we can extract from it. Through this file, we will analyze data quality, sequence orientation, and other key characteristics that are essential for bioinformatics workflows.\n"
      ]
    },
    {
      "cell_type": "markdown",
      "metadata": {
        "id": "LFnWHx_rGn9N"
      },
      "source": [
        "# Installing and Setting Up Required Tools\n",
        "\n",
        "To work with sequencing data, we need to install a few essential bioinformatics tools:\n",
        "\n",
        "1. **Entrez Direct**: A command-line tool from NCBI(National Center for Biotechnology Information), which allows us to access NCBI databases, retrieve biological data, and perform various search operations.\n",
        "2. **SRA Toolkit**: A toolkit for accessing and managing sequencing data from the Sequence Read Archive (SRA), enabling us to download and manipulate sequencing files.\n",
        "3. **FastQC**: A quality control tool for high-throughput sequence data, which helps assess the quality of sequencing reads.\n",
        "\n",
        "In this code section:\n",
        "- We use shell commands to install these tools.\n",
        "- We set up an environment variable to add Entrez Direct to the system's PATH, making its commands accessible for further use.\n"
      ]
    },
    {
      "cell_type": "code",
      "execution_count": 1,
      "metadata": {
        "id": "MK6qY1fwCEKX",
        "colab": {
          "base_uri": "https://localhost:8080/"
        },
        "outputId": "3c5b13c7-cbf9-4d21-f0fe-c94deca6ae9a"
      },
      "outputs": [
        {
          "output_type": "stream",
          "name": "stdout",
          "text": [
            "\n",
            "Entrez Direct has been successfully downloaded and installed.\n",
            "\n",
            "In order to complete the configuration process, please execute the following:\n",
            "\n",
            "  echo \"export PATH=/root/edirect:\\${PATH}\" >> ${HOME}/.bashrc\n",
            "\n",
            "or manually edit the PATH variable assignment in your .bashrc file.\n",
            "\n",
            "Would you like to do that automatically now? [y/N]\n",
            "OK, done.\n",
            "\n",
            "To activate EDirect for this terminal session, please execute the following:\n",
            "\n",
            "export PATH=${HOME}/edirect:${PATH}\n",
            "\n",
            "53 packages can be upgraded. Run 'apt list --upgradable' to see them.\n",
            "\u001b[1;33mW: \u001b[0mSkipping acquire of configured file 'main/source/Sources' as repository 'https://r2u.stat.illinois.edu/ubuntu jammy InRelease' does not seem to provide it (sources.list entry misspelt?)\u001b[0m\n",
            "The following additional packages will be installed:\n",
            "  blends-common libkdf5-2 libncbi-vdb2 libncbi-wvdb2 med-config menu\n",
            "Suggested packages:\n",
            "  blends-doc menu-l10n gksu | kde-runtime | ktsuss\n",
            "The following NEW packages will be installed:\n",
            "  blends-common libkdf5-2 libncbi-vdb2 libncbi-wvdb2 med-config menu\n",
            "  sra-toolkit\n",
            "0 upgraded, 7 newly installed, 0 to remove and 53 not upgraded.\n",
            "Need to get 8,290 kB of archives.\n",
            "After this operation, 23.0 MB of additional disk space will be used.\n",
            "debconf: unable to initialize frontend: Dialog\n",
            "debconf: (No usable dialog-like program is installed, so the dialog based frontend cannot be used. at /usr/share/perl5/Debconf/FrontEnd/Dialog.pm line 78, <> line 7.)\n",
            "debconf: falling back to frontend: Readline\n",
            "debconf: unable to initialize frontend: Readline\n",
            "debconf: (This frontend requires a controlling tty.)\n",
            "debconf: falling back to frontend: Teletype\n",
            "dpkg-preconfigure: unable to re-open stdin: \n",
            "Selecting previously unselected package menu.\n",
            "(Reading database ... 123630 files and directories currently installed.)\n",
            "Preparing to unpack .../0-menu_2.1.47ubuntu4_amd64.deb ...\n",
            "Unpacking menu (2.1.47ubuntu4) ...\n",
            "Selecting previously unselected package blends-common.\n",
            "Preparing to unpack .../1-blends-common_0.7.4ubuntu1_all.deb ...\n",
            "Unpacking blends-common (0.7.4ubuntu1) ...\n",
            "Selecting previously unselected package libkdf5-2.\n",
            "Preparing to unpack .../2-libkdf5-2_2.11.2+dfsg-4build2_amd64.deb ...\n",
            "Unpacking libkdf5-2 (2.11.2+dfsg-4build2) ...\n",
            "Selecting previously unselected package libncbi-vdb2.\n",
            "Preparing to unpack .../3-libncbi-vdb2_2.11.2+dfsg-4build2_amd64.deb ...\n",
            "Unpacking libncbi-vdb2 (2.11.2+dfsg-4build2) ...\n",
            "Selecting previously unselected package libncbi-wvdb2.\n",
            "Preparing to unpack .../4-libncbi-wvdb2_2.11.2+dfsg-4build2_amd64.deb ...\n",
            "Unpacking libncbi-wvdb2 (2.11.2+dfsg-4build2) ...\n",
            "Selecting previously unselected package sra-toolkit.\n",
            "Preparing to unpack .../5-sra-toolkit_2.11.3+dfsg-1ubuntu1_amd64.deb ...\n",
            "Unpacking sra-toolkit (2.11.3+dfsg-1ubuntu1) ...\n",
            "Selecting previously unselected package med-config.\n",
            "Preparing to unpack .../6-med-config_3.7.1_all.deb ...\n",
            "Unpacking med-config (3.7.1) ...\n",
            "Setting up libncbi-vdb2 (2.11.2+dfsg-4build2) ...\n",
            "Setting up libkdf5-2 (2.11.2+dfsg-4build2) ...\n",
            "Setting up libncbi-wvdb2 (2.11.2+dfsg-4build2) ...\n",
            "Setting up menu (2.1.47ubuntu4) ...\n",
            "Setting up blends-common (0.7.4ubuntu1) ...\n",
            "Setting up sra-toolkit (2.11.3+dfsg-1ubuntu1) ...\n",
            "Setting up med-config (3.7.1) ...\n",
            "debconf: unable to initialize frontend: Dialog\n",
            "debconf: (No usable dialog-like program is installed, so the dialog based frontend cannot be used. at /usr/share/perl5/Debconf/FrontEnd/Dialog.pm line 78.)\n",
            "debconf: falling back to frontend: Readline\n",
            "Adding group `med' (GID 107) ...\n",
            "Done.\n",
            "Processing triggers for man-db (2.10.2-1) ...\n",
            "Processing triggers for libc-bin (2.35-0ubuntu3.4) ...\n",
            "/sbin/ldconfig.real: /usr/local/lib/libur_loader.so.0 is not a symbolic link\n",
            "\n",
            "/sbin/ldconfig.real: /usr/local/lib/libtcm_debug.so.1 is not a symbolic link\n",
            "\n",
            "/sbin/ldconfig.real: /usr/local/lib/libtbbbind_2_5.so.3 is not a symbolic link\n",
            "\n",
            "/sbin/ldconfig.real: /usr/local/lib/libtbbmalloc_proxy.so.2 is not a symbolic link\n",
            "\n",
            "/sbin/ldconfig.real: /usr/local/lib/libur_adapter_opencl.so.0 is not a symbolic link\n",
            "\n",
            "/sbin/ldconfig.real: /usr/local/lib/libtbbbind_2_0.so.3 is not a symbolic link\n",
            "\n",
            "/sbin/ldconfig.real: /usr/local/lib/libtbbbind.so.3 is not a symbolic link\n",
            "\n",
            "/sbin/ldconfig.real: /usr/local/lib/libtbb.so.12 is not a symbolic link\n",
            "\n",
            "/sbin/ldconfig.real: /usr/local/lib/libtcm.so.1 is not a symbolic link\n",
            "\n",
            "/sbin/ldconfig.real: /usr/local/lib/libur_adapter_level_zero.so.0 is not a symbolic link\n",
            "\n",
            "/sbin/ldconfig.real: /usr/local/lib/libtbbmalloc.so.2 is not a symbolic link\n",
            "\n",
            "/sbin/ldconfig.real: /usr/local/lib/libhwloc.so.15 is not a symbolic link\n",
            "\n",
            "/sbin/ldconfig.real: /usr/local/lib/libumf.so.0 is not a symbolic link\n",
            "\n",
            "Processing triggers for menu (2.1.47ubuntu4) ...\n",
            "The following additional packages will be installed:\n",
            "  default-jre default-jre-headless fonts-dejavu-core fonts-dejavu-extra\n",
            "  libapache-pom-java libargs4j-java libatk-wrapper-java\n",
            "  libatk-wrapper-java-jni libcommons-compress-java libcommons-io-java\n",
            "  libcommons-jexl2-java libcommons-lang3-java libcommons-logging-java\n",
            "  libcommons-math3-java libcommons-parent-java libfindbin-libs-perl\n",
            "  libfontenc1 libhtsjdk-java libjbzip2-java libjson-simple-java libngs-java\n",
            "  libngs-sdk-dev libngs-sdk2 libsis-base-java libsis-base-jni\n",
            "  libsis-jhdf5-java libsis-jhdf5-jni libsnappy-java libsnappy-jni libxkbfile1\n",
            "  libxtst6 libxxf86dga1 openjdk-11-jre x11-utils\n",
            "Suggested packages:\n",
            "  libxz-java libcommons-io-java-doc libcommons-lang3-java-doc\n",
            "  libavalon-framework-java libcommons-logging-java-doc\n",
            "  libexcalibur-logkit-java liblog4j1.2-java picard-tools libjson-simple-doc\n",
            "  mesa-utils\n",
            "The following NEW packages will be installed:\n",
            "  default-jre default-jre-headless fastqc fonts-dejavu-core fonts-dejavu-extra\n",
            "  libapache-pom-java libargs4j-java libatk-wrapper-java\n",
            "  libatk-wrapper-java-jni libcommons-compress-java libcommons-io-java\n",
            "  libcommons-jexl2-java libcommons-lang3-java libcommons-logging-java\n",
            "  libcommons-math3-java libcommons-parent-java libfindbin-libs-perl\n",
            "  libfontenc1 libhtsjdk-java libjbzip2-java libjson-simple-java libngs-java\n",
            "  libngs-sdk-dev libngs-sdk2 libsis-base-java libsis-base-jni\n",
            "  libsis-jhdf5-java libsis-jhdf5-jni libsnappy-java libsnappy-jni libxkbfile1\n",
            "  libxtst6 libxxf86dga1 openjdk-11-jre x11-utils\n",
            "0 upgraded, 35 newly installed, 0 to remove and 53 not upgraded.\n",
            "Need to get 11.8 MB of archives.\n",
            "After this operation, 24.8 MB of additional disk space will be used.\n",
            "debconf: unable to initialize frontend: Dialog\n",
            "debconf: (No usable dialog-like program is installed, so the dialog based frontend cannot be used. at /usr/share/perl5/Debconf/FrontEnd/Dialog.pm line 78, <> line 35.)\n",
            "debconf: falling back to frontend: Readline\n",
            "debconf: unable to initialize frontend: Readline\n",
            "debconf: (This frontend requires a controlling tty.)\n",
            "debconf: falling back to frontend: Teletype\n",
            "dpkg-preconfigure: unable to re-open stdin: \n",
            "Selecting previously unselected package default-jre-headless.\n",
            "(Reading database ... 123980 files and directories currently installed.)\n",
            "Preparing to unpack .../00-default-jre-headless_2%3a1.11-72build2_amd64.deb ...\n",
            "Unpacking default-jre-headless (2:1.11-72build2) ...\n",
            "Selecting previously unselected package libxtst6:amd64.\n",
            "Preparing to unpack .../01-libxtst6_2%3a1.2.3-1build4_amd64.deb ...\n",
            "Unpacking libxtst6:amd64 (2:1.2.3-1build4) ...\n",
            "Selecting previously unselected package openjdk-11-jre:amd64.\n",
            "Preparing to unpack .../02-openjdk-11-jre_11.0.25+9-1ubuntu1~22.04_amd64.deb ...\n",
            "Unpacking openjdk-11-jre:amd64 (11.0.25+9-1ubuntu1~22.04) ...\n",
            "Selecting previously unselected package default-jre.\n",
            "Preparing to unpack .../03-default-jre_2%3a1.11-72build2_amd64.deb ...\n",
            "Unpacking default-jre (2:1.11-72build2) ...\n",
            "Selecting previously unselected package libcommons-math3-java.\n",
            "Preparing to unpack .../04-libcommons-math3-java_3.6.1-3_all.deb ...\n",
            "Unpacking libcommons-math3-java (3.6.1-3) ...\n",
            "Selecting previously unselected package libjbzip2-java.\n",
            "Preparing to unpack .../05-libjbzip2-java_0.9.1-7_all.deb ...\n",
            "Unpacking libjbzip2-java (0.9.1-7) ...\n",
            "Selecting previously unselected package libapache-pom-java.\n",
            "Preparing to unpack .../06-libapache-pom-java_18-1_all.deb ...\n",
            "Unpacking libapache-pom-java (18-1) ...\n",
            "Selecting previously unselected package libcommons-parent-java.\n",
            "Preparing to unpack .../07-libcommons-parent-java_43-1_all.deb ...\n",
            "Unpacking libcommons-parent-java (43-1) ...\n",
            "Selecting previously unselected package libcommons-compress-java.\n",
            "Preparing to unpack .../08-libcommons-compress-java_1.21-1_all.deb ...\n",
            "Unpacking libcommons-compress-java (1.21-1) ...\n",
            "Selecting previously unselected package libcommons-logging-java.\n",
            "Preparing to unpack .../09-libcommons-logging-java_1.2-2_all.deb ...\n",
            "Unpacking libcommons-logging-java (1.2-2) ...\n",
            "Selecting previously unselected package libcommons-jexl2-java.\n",
            "Preparing to unpack .../10-libcommons-jexl2-java_2.1.1-5_all.deb ...\n",
            "Unpacking libcommons-jexl2-java (2.1.1-5) ...\n",
            "Selecting previously unselected package libjson-simple-java.\n",
            "Preparing to unpack .../11-libjson-simple-java_2.3.0-1_all.deb ...\n",
            "Unpacking libjson-simple-java (2.3.0-1) ...\n",
            "Selecting previously unselected package libngs-sdk2:amd64.\n",
            "Preparing to unpack .../12-libngs-sdk2_2.11.2-3_amd64.deb ...\n",
            "Unpacking libngs-sdk2:amd64 (2.11.2-3) ...\n",
            "Selecting previously unselected package libngs-sdk-dev:amd64.\n",
            "Preparing to unpack .../13-libngs-sdk-dev_2.11.2-3_amd64.deb ...\n",
            "Unpacking libngs-sdk-dev:amd64 (2.11.2-3) ...\n",
            "Selecting previously unselected package libngs-java:amd64.\n",
            "Preparing to unpack .../14-libngs-java_2.11.2-3_amd64.deb ...\n",
            "Unpacking libngs-java:amd64 (2.11.2-3) ...\n",
            "Selecting previously unselected package libsnappy-jni.\n",
            "Preparing to unpack .../15-libsnappy-jni_1.1.8.3-1_amd64.deb ...\n",
            "Unpacking libsnappy-jni (1.1.8.3-1) ...\n",
            "Selecting previously unselected package libsnappy-java.\n",
            "Preparing to unpack .../16-libsnappy-java_1.1.8.3-1_all.deb ...\n",
            "Unpacking libsnappy-java (1.1.8.3-1) ...\n",
            "Selecting previously unselected package libhtsjdk-java.\n",
            "Preparing to unpack .../17-libhtsjdk-java_2.24.1+dfsg-1_all.deb ...\n",
            "Unpacking libhtsjdk-java (2.24.1+dfsg-1) ...\n",
            "Selecting previously unselected package libfindbin-libs-perl.\n",
            "Preparing to unpack .../18-libfindbin-libs-perl_2.190.02-1_all.deb ...\n",
            "Unpacking libfindbin-libs-perl (2.190.02-1) ...\n",
            "Selecting previously unselected package libargs4j-java.\n",
            "Preparing to unpack .../19-libargs4j-java_2.33-1.1_all.deb ...\n",
            "Unpacking libargs4j-java (2.33-1.1) ...\n",
            "Selecting previously unselected package libcommons-io-java.\n",
            "Preparing to unpack .../20-libcommons-io-java_2.11.0-2_all.deb ...\n",
            "Unpacking libcommons-io-java (2.11.0-2) ...\n",
            "Selecting previously unselected package libcommons-lang3-java.\n",
            "Preparing to unpack .../21-libcommons-lang3-java_3.11-1_all.deb ...\n",
            "Unpacking libcommons-lang3-java (3.11-1) ...\n",
            "Selecting previously unselected package libsis-base-jni.\n",
            "Preparing to unpack .../22-libsis-base-jni_18.09~pre1+git20180928.45fbd31+dfsg-3_amd64.deb ...\n",
            "Unpacking libsis-base-jni (18.09~pre1+git20180928.45fbd31+dfsg-3) ...\n",
            "Selecting previously unselected package libsis-base-java.\n",
            "Preparing to unpack .../23-libsis-base-java_18.09~pre1+git20180928.45fbd31+dfsg-3_all.deb ...\n",
            "Unpacking libsis-base-java (18.09~pre1+git20180928.45fbd31+dfsg-3) ...\n",
            "Selecting previously unselected package libsis-jhdf5-jni.\n",
            "Preparing to unpack .../24-libsis-jhdf5-jni_19.04.0+dfsg-4_amd64.deb ...\n",
            "Unpacking libsis-jhdf5-jni (19.04.0+dfsg-4) ...\n",
            "Selecting previously unselected package libsis-jhdf5-java.\n",
            "Preparing to unpack .../25-libsis-jhdf5-java_19.04.0+dfsg-4_all.deb ...\n",
            "Unpacking libsis-jhdf5-java (19.04.0+dfsg-4) ...\n",
            "Selecting previously unselected package fastqc.\n",
            "Preparing to unpack .../26-fastqc_0.11.9+dfsg-5_all.deb ...\n",
            "Unpacking fastqc (0.11.9+dfsg-5) ...\n",
            "Selecting previously unselected package fonts-dejavu-core.\n",
            "Preparing to unpack .../27-fonts-dejavu-core_2.37-2build1_all.deb ...\n",
            "Unpacking fonts-dejavu-core (2.37-2build1) ...\n",
            "Selecting previously unselected package fonts-dejavu-extra.\n",
            "Preparing to unpack .../28-fonts-dejavu-extra_2.37-2build1_all.deb ...\n",
            "Unpacking fonts-dejavu-extra (2.37-2build1) ...\n",
            "Selecting previously unselected package libfontenc1:amd64.\n",
            "Preparing to unpack .../29-libfontenc1_1%3a1.1.4-1build3_amd64.deb ...\n",
            "Unpacking libfontenc1:amd64 (1:1.1.4-1build3) ...\n",
            "Selecting previously unselected package libxkbfile1:amd64.\n",
            "Preparing to unpack .../30-libxkbfile1_1%3a1.1.0-1build3_amd64.deb ...\n",
            "Unpacking libxkbfile1:amd64 (1:1.1.0-1build3) ...\n",
            "Selecting previously unselected package libxxf86dga1:amd64.\n",
            "Preparing to unpack .../31-libxxf86dga1_2%3a1.1.5-0ubuntu3_amd64.deb ...\n",
            "Unpacking libxxf86dga1:amd64 (2:1.1.5-0ubuntu3) ...\n",
            "Selecting previously unselected package x11-utils.\n",
            "Preparing to unpack .../32-x11-utils_7.7+5build2_amd64.deb ...\n",
            "Unpacking x11-utils (7.7+5build2) ...\n",
            "Selecting previously unselected package libatk-wrapper-java.\n",
            "Preparing to unpack .../33-libatk-wrapper-java_0.38.0-5build1_all.deb ...\n",
            "Unpacking libatk-wrapper-java (0.38.0-5build1) ...\n",
            "Selecting previously unselected package libatk-wrapper-java-jni:amd64.\n",
            "Preparing to unpack .../34-libatk-wrapper-java-jni_0.38.0-5build1_amd64.deb ...\n",
            "Unpacking libatk-wrapper-java-jni:amd64 (0.38.0-5build1) ...\n",
            "Setting up default-jre-headless (2:1.11-72build2) ...\n",
            "Setting up libxtst6:amd64 (2:1.2.3-1build4) ...\n",
            "Setting up libngs-sdk2:amd64 (2.11.2-3) ...\n",
            "Setting up libxxf86dga1:amd64 (2:1.1.5-0ubuntu3) ...\n",
            "Setting up openjdk-11-jre:amd64 (11.0.25+9-1ubuntu1~22.04) ...\n",
            "Setting up libfindbin-libs-perl (2.190.02-1) ...\n",
            "Setting up default-jre (2:1.11-72build2) ...\n",
            "Setting up libjson-simple-java (2.3.0-1) ...\n",
            "Setting up libsis-base-jni (18.09~pre1+git20180928.45fbd31+dfsg-3) ...\n",
            "Setting up libfontenc1:amd64 (1:1.1.4-1build3) ...\n",
            "Setting up libapache-pom-java (18-1) ...\n",
            "Setting up fonts-dejavu-core (2.37-2build1) ...\n",
            "Setting up libjbzip2-java (0.9.1-7) ...\n",
            "Setting up libngs-sdk-dev:amd64 (2.11.2-3) ...\n",
            "Setting up fonts-dejavu-extra (2.37-2build1) ...\n",
            "Setting up libcommons-math3-java (3.6.1-3) ...\n",
            "Setting up libsis-jhdf5-jni (19.04.0+dfsg-4) ...\n",
            "Setting up libxkbfile1:amd64 (1:1.1.0-1build3) ...\n",
            "Setting up libngs-java:amd64 (2.11.2-3) ...\n",
            "Setting up libsnappy-jni (1.1.8.3-1) ...\n",
            "Setting up libargs4j-java (2.33-1.1) ...\n",
            "Setting up libcommons-parent-java (43-1) ...\n",
            "Setting up libcommons-logging-java (1.2-2) ...\n",
            "Setting up libcommons-jexl2-java (2.1.1-5) ...\n",
            "Setting up libcommons-lang3-java (3.11-1) ...\n",
            "Setting up x11-utils (7.7+5build2) ...\n",
            "Setting up libsnappy-java (1.1.8.3-1) ...\n",
            "Setting up libatk-wrapper-java (0.38.0-5build1) ...\n",
            "Setting up libcommons-compress-java (1.21-1) ...\n",
            "Setting up libcommons-io-java (2.11.0-2) ...\n",
            "Setting up libatk-wrapper-java-jni:amd64 (0.38.0-5build1) ...\n",
            "Setting up libsis-base-java (18.09~pre1+git20180928.45fbd31+dfsg-3) ...\n",
            "Setting up libhtsjdk-java (2.24.1+dfsg-1) ...\n",
            "Setting up libsis-jhdf5-java (19.04.0+dfsg-4) ...\n",
            "Setting up fastqc (0.11.9+dfsg-5) ...\n",
            "Processing triggers for man-db (2.10.2-1) ...\n",
            "Processing triggers for menu (2.1.47ubuntu4) ...\n",
            "Processing triggers for fontconfig (2.13.1-4.2ubuntu5) ...\n",
            "Processing triggers for hicolor-icon-theme (0.17-2) ...\n",
            "Processing triggers for libc-bin (2.35-0ubuntu3.4) ...\n",
            "/sbin/ldconfig.real: /usr/local/lib/libur_loader.so.0 is not a symbolic link\n",
            "\n",
            "/sbin/ldconfig.real: /usr/local/lib/libtcm_debug.so.1 is not a symbolic link\n",
            "\n",
            "/sbin/ldconfig.real: /usr/local/lib/libtbbbind_2_5.so.3 is not a symbolic link\n",
            "\n",
            "/sbin/ldconfig.real: /usr/local/lib/libtbbmalloc_proxy.so.2 is not a symbolic link\n",
            "\n",
            "/sbin/ldconfig.real: /usr/local/lib/libur_adapter_opencl.so.0 is not a symbolic link\n",
            "\n",
            "/sbin/ldconfig.real: /usr/local/lib/libtbbbind_2_0.so.3 is not a symbolic link\n",
            "\n",
            "/sbin/ldconfig.real: /usr/local/lib/libtbbbind.so.3 is not a symbolic link\n",
            "\n",
            "/sbin/ldconfig.real: /usr/local/lib/libtbb.so.12 is not a symbolic link\n",
            "\n",
            "/sbin/ldconfig.real: /usr/local/lib/libtcm.so.1 is not a symbolic link\n",
            "\n",
            "/sbin/ldconfig.real: /usr/local/lib/libur_adapter_level_zero.so.0 is not a symbolic link\n",
            "\n",
            "/sbin/ldconfig.real: /usr/local/lib/libtbbmalloc.so.2 is not a symbolic link\n",
            "\n",
            "/sbin/ldconfig.real: /usr/local/lib/libhwloc.so.15 is not a symbolic link\n",
            "\n",
            "/sbin/ldconfig.real: /usr/local/lib/libumf.so.0 is not a symbolic link\n",
            "\n"
          ]
        }
      ],
      "source": [
        "!yes | sh -c \"$(curl -fsSL https://ftp.ncbi.nlm.nih.gov/entrez/entrezdirect/install-edirect.sh)\"\n",
        "!sudo apt  -qq  update\n",
        "!sudo apt  -qq  install sra-toolkit\n",
        "!sudo apt  -qq  install fastqc"
      ]
    },
    {
      "cell_type": "code",
      "execution_count": 3,
      "metadata": {
        "id": "4UtcZTeSChBV"
      },
      "outputs": [],
      "source": [
        "import os\n",
        "\n",
        "os.environ[\"PATH\"] += \":/root/edirect\""
      ]
    },
    {
      "cell_type": "markdown",
      "metadata": {
        "id": "TNSpMrWwG99u"
      },
      "source": [
        "# Importing Required Libraries\n",
        "import the libraries needed for your analysis:"
      ]
    },
    {
      "cell_type": "code",
      "execution_count": 4,
      "metadata": {
        "id": "5EApkYBWCYMX"
      },
      "outputs": [],
      "source": [
        "#your code\n",
        "import os\n",
        "import pandas as pd\n",
        "import matplotlib.pyplot as plt\n",
        "from collections import Counter"
      ]
    },
    {
      "cell_type": "markdown",
      "metadata": {
        "id": "gO1qAn0wHaW7"
      },
      "source": [
        "# Searching the SRA Database and Fetching Run Information\n",
        "\n",
        "In this step, you’ll search the SRA (Sequence Read Archive) database for the sample **SRR12506197**. Using `esearch` and `efetch`, you will retrieve metadata about this run and save it as a CSV file named `runinfo.csv`. This file will provide basic information about the sequencing run, which will be used in the next steps."
      ]
    },
    {
      "cell_type": "code",
      "execution_count": 5,
      "metadata": {
        "id": "AOTPHu3cCmUJ"
      },
      "outputs": [],
      "source": [
        "#your code\n",
        "\n",
        "# Using Entrez Direct commands to search and fetch run information\n",
        "!esearch -db sra -query \"SRR12506197\" | efetch -format runinfo > runinfo.csv"
      ]
    },
    {
      "cell_type": "markdown",
      "metadata": {
        "id": "0PYzSZUHH9Pp"
      },
      "source": [
        "# Loading and Exploring Run Information\n",
        "\n",
        "In this part, you’ll load the `runinfo.csv` file to explore what information it contains about the sequencing run. Follow these steps:\n",
        "\n",
        "1. **Load the CSV File**: Use `pd.read_csv()` to load `runinfo.csv` into a DataFrame, making it easier to view and manipulate the data.\n",
        "   \n",
        "2. **Check Available Columns**: Print the column names to see the different types of information available in the file. This helps identify useful metadata for the sample.\n",
        "\n",
        "3. **Select Key Fields**: Extract and print the **TaxID** and **ScientificName** columns. These fields provide the taxonomic identifier and the scientific name of the organism in the sample."
      ]
    },
    {
      "cell_type": "code",
      "execution_count": 7,
      "metadata": {
        "id": "lcxGqlk4CpqR",
        "colab": {
          "base_uri": "https://localhost:8080/"
        },
        "outputId": "473074be-a823-4572-9a89-315314c94a30"
      },
      "outputs": [
        {
          "output_type": "stream",
          "name": "stdout",
          "text": [
            "Available columns in runinfo.csv: ['Run', 'ReleaseDate', 'LoadDate', 'spots', 'bases', 'spots_with_mates', 'avgLength', 'size_MB', 'AssemblyName', 'download_path', 'Experiment', 'LibraryName', 'LibraryStrategy', 'LibrarySelection', 'LibrarySource', 'LibraryLayout', 'InsertSize', 'InsertDev', 'Platform', 'Model', 'SRAStudy', 'BioProject', 'Study_Pubmed_id', 'ProjectID', 'Sample', 'BioSample', 'SampleType', 'TaxID', 'ScientificName', 'SampleName', 'g1k_pop_code', 'source', 'g1k_analysis_group', 'Subject_ID', 'Sex', 'Disease', 'Tumor', 'Affection_Status', 'Analyte_Type', 'Histological_Type', 'Body_Site', 'CenterName', 'Submission', 'dbgap_study_accession', 'Consent', 'RunHash', 'ReadHash']\n",
            "\n",
            "TaxID: 562, Scientific Name: Escherichia coli\n"
          ]
        }
      ],
      "source": [
        "#your code\n",
        "\n",
        "# Loading the CSV file\n",
        "run_info = pd.read_csv(\"runinfo.csv\")\n",
        "\n",
        "# Checking available columns\n",
        "print(\"Available columns in runinfo.csv:\", run_info.columns.tolist())\n",
        "print()\n",
        "\n",
        "# Extracting and printing key fields\n",
        "tax_id = run_info['TaxID'].iloc[0]\n",
        "scientific_name = run_info['ScientificName'].iloc[0]\n",
        "print(f\"TaxID: {tax_id}, Scientific Name: {scientific_name}\")"
      ]
    },
    {
      "cell_type": "code",
      "source": [
        "run_info"
      ],
      "metadata": {
        "colab": {
          "base_uri": "https://localhost:8080/",
          "height": 164
        },
        "id": "aAVnL0xlDcbr",
        "outputId": "9daaed4d-a50d-4d37-c9c1-f402c71f0e82"
      },
      "execution_count": 8,
      "outputs": [
        {
          "output_type": "execute_result",
          "data": {
            "text/plain": [
              "           Run          ReleaseDate             LoadDate   spots       bases  \\\n",
              "0  SRR12506197  2020-08-27 00:12:12  2020-08-24 02:59:43  275897  2537077839   \n",
              "\n",
              "   spots_with_mates  avgLength  size_MB  AssemblyName  \\\n",
              "0                 0       9195     2209           NaN   \n",
              "\n",
              "                                       download_path  ... Affection_Status  \\\n",
              "0  https://sra-downloadb.be-md.ncbi.nlm.nih.gov/s...  ...              NaN   \n",
              "\n",
              "  Analyte_Type Histological_Type Body_Site           CenterName  Submission  \\\n",
              "0          NaN               NaN       NaN  UNIVERSITY OF OTAGO  SRA1116206   \n",
              "\n",
              "   dbgap_study_accession  Consent                           RunHash  \\\n",
              "0                    NaN   public  994358BDB32715C081751D050C93C1A3   \n",
              "\n",
              "                           ReadHash  \n",
              "0  1871B90219C190EC809441407C5F1B8A  \n",
              "\n",
              "[1 rows x 47 columns]"
            ],
            "text/html": [
              "\n",
              "  <div id=\"df-97fe8a15-fcfb-492f-a58a-ea697a5725c0\" class=\"colab-df-container\">\n",
              "    <div>\n",
              "<style scoped>\n",
              "    .dataframe tbody tr th:only-of-type {\n",
              "        vertical-align: middle;\n",
              "    }\n",
              "\n",
              "    .dataframe tbody tr th {\n",
              "        vertical-align: top;\n",
              "    }\n",
              "\n",
              "    .dataframe thead th {\n",
              "        text-align: right;\n",
              "    }\n",
              "</style>\n",
              "<table border=\"1\" class=\"dataframe\">\n",
              "  <thead>\n",
              "    <tr style=\"text-align: right;\">\n",
              "      <th></th>\n",
              "      <th>Run</th>\n",
              "      <th>ReleaseDate</th>\n",
              "      <th>LoadDate</th>\n",
              "      <th>spots</th>\n",
              "      <th>bases</th>\n",
              "      <th>spots_with_mates</th>\n",
              "      <th>avgLength</th>\n",
              "      <th>size_MB</th>\n",
              "      <th>AssemblyName</th>\n",
              "      <th>download_path</th>\n",
              "      <th>...</th>\n",
              "      <th>Affection_Status</th>\n",
              "      <th>Analyte_Type</th>\n",
              "      <th>Histological_Type</th>\n",
              "      <th>Body_Site</th>\n",
              "      <th>CenterName</th>\n",
              "      <th>Submission</th>\n",
              "      <th>dbgap_study_accession</th>\n",
              "      <th>Consent</th>\n",
              "      <th>RunHash</th>\n",
              "      <th>ReadHash</th>\n",
              "    </tr>\n",
              "  </thead>\n",
              "  <tbody>\n",
              "    <tr>\n",
              "      <th>0</th>\n",
              "      <td>SRR12506197</td>\n",
              "      <td>2020-08-27 00:12:12</td>\n",
              "      <td>2020-08-24 02:59:43</td>\n",
              "      <td>275897</td>\n",
              "      <td>2537077839</td>\n",
              "      <td>0</td>\n",
              "      <td>9195</td>\n",
              "      <td>2209</td>\n",
              "      <td>NaN</td>\n",
              "      <td>https://sra-downloadb.be-md.ncbi.nlm.nih.gov/s...</td>\n",
              "      <td>...</td>\n",
              "      <td>NaN</td>\n",
              "      <td>NaN</td>\n",
              "      <td>NaN</td>\n",
              "      <td>NaN</td>\n",
              "      <td>UNIVERSITY OF OTAGO</td>\n",
              "      <td>SRA1116206</td>\n",
              "      <td>NaN</td>\n",
              "      <td>public</td>\n",
              "      <td>994358BDB32715C081751D050C93C1A3</td>\n",
              "      <td>1871B90219C190EC809441407C5F1B8A</td>\n",
              "    </tr>\n",
              "  </tbody>\n",
              "</table>\n",
              "<p>1 rows × 47 columns</p>\n",
              "</div>\n",
              "    <div class=\"colab-df-buttons\">\n",
              "\n",
              "  <div class=\"colab-df-container\">\n",
              "    <button class=\"colab-df-convert\" onclick=\"convertToInteractive('df-97fe8a15-fcfb-492f-a58a-ea697a5725c0')\"\n",
              "            title=\"Convert this dataframe to an interactive table.\"\n",
              "            style=\"display:none;\">\n",
              "\n",
              "  <svg xmlns=\"http://www.w3.org/2000/svg\" height=\"24px\" viewBox=\"0 -960 960 960\">\n",
              "    <path d=\"M120-120v-720h720v720H120Zm60-500h600v-160H180v160Zm220 220h160v-160H400v160Zm0 220h160v-160H400v160ZM180-400h160v-160H180v160Zm440 0h160v-160H620v160ZM180-180h160v-160H180v160Zm440 0h160v-160H620v160Z\"/>\n",
              "  </svg>\n",
              "    </button>\n",
              "\n",
              "  <style>\n",
              "    .colab-df-container {\n",
              "      display:flex;\n",
              "      gap: 12px;\n",
              "    }\n",
              "\n",
              "    .colab-df-convert {\n",
              "      background-color: #E8F0FE;\n",
              "      border: none;\n",
              "      border-radius: 50%;\n",
              "      cursor: pointer;\n",
              "      display: none;\n",
              "      fill: #1967D2;\n",
              "      height: 32px;\n",
              "      padding: 0 0 0 0;\n",
              "      width: 32px;\n",
              "    }\n",
              "\n",
              "    .colab-df-convert:hover {\n",
              "      background-color: #E2EBFA;\n",
              "      box-shadow: 0px 1px 2px rgba(60, 64, 67, 0.3), 0px 1px 3px 1px rgba(60, 64, 67, 0.15);\n",
              "      fill: #174EA6;\n",
              "    }\n",
              "\n",
              "    .colab-df-buttons div {\n",
              "      margin-bottom: 4px;\n",
              "    }\n",
              "\n",
              "    [theme=dark] .colab-df-convert {\n",
              "      background-color: #3B4455;\n",
              "      fill: #D2E3FC;\n",
              "    }\n",
              "\n",
              "    [theme=dark] .colab-df-convert:hover {\n",
              "      background-color: #434B5C;\n",
              "      box-shadow: 0px 1px 3px 1px rgba(0, 0, 0, 0.15);\n",
              "      filter: drop-shadow(0px 1px 2px rgba(0, 0, 0, 0.3));\n",
              "      fill: #FFFFFF;\n",
              "    }\n",
              "  </style>\n",
              "\n",
              "    <script>\n",
              "      const buttonEl =\n",
              "        document.querySelector('#df-97fe8a15-fcfb-492f-a58a-ea697a5725c0 button.colab-df-convert');\n",
              "      buttonEl.style.display =\n",
              "        google.colab.kernel.accessAllowed ? 'block' : 'none';\n",
              "\n",
              "      async function convertToInteractive(key) {\n",
              "        const element = document.querySelector('#df-97fe8a15-fcfb-492f-a58a-ea697a5725c0');\n",
              "        const dataTable =\n",
              "          await google.colab.kernel.invokeFunction('convertToInteractive',\n",
              "                                                    [key], {});\n",
              "        if (!dataTable) return;\n",
              "\n",
              "        const docLinkHtml = 'Like what you see? Visit the ' +\n",
              "          '<a target=\"_blank\" href=https://colab.research.google.com/notebooks/data_table.ipynb>data table notebook</a>'\n",
              "          + ' to learn more about interactive tables.';\n",
              "        element.innerHTML = '';\n",
              "        dataTable['output_type'] = 'display_data';\n",
              "        await google.colab.output.renderOutput(dataTable, element);\n",
              "        const docLink = document.createElement('div');\n",
              "        docLink.innerHTML = docLinkHtml;\n",
              "        element.appendChild(docLink);\n",
              "      }\n",
              "    </script>\n",
              "  </div>\n",
              "\n",
              "\n",
              "  <div id=\"id_1a2d69d6-1650-4366-9900-ec0d04630eb7\">\n",
              "    <style>\n",
              "      .colab-df-generate {\n",
              "        background-color: #E8F0FE;\n",
              "        border: none;\n",
              "        border-radius: 50%;\n",
              "        cursor: pointer;\n",
              "        display: none;\n",
              "        fill: #1967D2;\n",
              "        height: 32px;\n",
              "        padding: 0 0 0 0;\n",
              "        width: 32px;\n",
              "      }\n",
              "\n",
              "      .colab-df-generate:hover {\n",
              "        background-color: #E2EBFA;\n",
              "        box-shadow: 0px 1px 2px rgba(60, 64, 67, 0.3), 0px 1px 3px 1px rgba(60, 64, 67, 0.15);\n",
              "        fill: #174EA6;\n",
              "      }\n",
              "\n",
              "      [theme=dark] .colab-df-generate {\n",
              "        background-color: #3B4455;\n",
              "        fill: #D2E3FC;\n",
              "      }\n",
              "\n",
              "      [theme=dark] .colab-df-generate:hover {\n",
              "        background-color: #434B5C;\n",
              "        box-shadow: 0px 1px 3px 1px rgba(0, 0, 0, 0.15);\n",
              "        filter: drop-shadow(0px 1px 2px rgba(0, 0, 0, 0.3));\n",
              "        fill: #FFFFFF;\n",
              "      }\n",
              "    </style>\n",
              "    <button class=\"colab-df-generate\" onclick=\"generateWithVariable('run_info')\"\n",
              "            title=\"Generate code using this dataframe.\"\n",
              "            style=\"display:none;\">\n",
              "\n",
              "  <svg xmlns=\"http://www.w3.org/2000/svg\" height=\"24px\"viewBox=\"0 0 24 24\"\n",
              "       width=\"24px\">\n",
              "    <path d=\"M7,19H8.4L18.45,9,17,7.55,7,17.6ZM5,21V16.75L18.45,3.32a2,2,0,0,1,2.83,0l1.4,1.43a1.91,1.91,0,0,1,.58,1.4,1.91,1.91,0,0,1-.58,1.4L9.25,21ZM18.45,9,17,7.55Zm-12,3A5.31,5.31,0,0,0,4.9,8.1,5.31,5.31,0,0,0,1,6.5,5.31,5.31,0,0,0,4.9,4.9,5.31,5.31,0,0,0,6.5,1,5.31,5.31,0,0,0,8.1,4.9,5.31,5.31,0,0,0,12,6.5,5.46,5.46,0,0,0,6.5,12Z\"/>\n",
              "  </svg>\n",
              "    </button>\n",
              "    <script>\n",
              "      (() => {\n",
              "      const buttonEl =\n",
              "        document.querySelector('#id_1a2d69d6-1650-4366-9900-ec0d04630eb7 button.colab-df-generate');\n",
              "      buttonEl.style.display =\n",
              "        google.colab.kernel.accessAllowed ? 'block' : 'none';\n",
              "\n",
              "      buttonEl.onclick = () => {\n",
              "        google.colab.notebook.generateWithVariable('run_info');\n",
              "      }\n",
              "      })();\n",
              "    </script>\n",
              "  </div>\n",
              "\n",
              "    </div>\n",
              "  </div>\n"
            ],
            "application/vnd.google.colaboratory.intrinsic+json": {
              "type": "dataframe",
              "variable_name": "run_info"
            }
          },
          "metadata": {},
          "execution_count": 8
        }
      ]
    },
    {
      "cell_type": "code",
      "source": [
        "run_info.columns"
      ],
      "metadata": {
        "colab": {
          "base_uri": "https://localhost:8080/"
        },
        "id": "QMuSXLF9DgP_",
        "outputId": "efa0c742-a7ef-4957-dc68-deb41827802a"
      },
      "execution_count": 9,
      "outputs": [
        {
          "output_type": "execute_result",
          "data": {
            "text/plain": [
              "Index(['Run', 'ReleaseDate', 'LoadDate', 'spots', 'bases', 'spots_with_mates',\n",
              "       'avgLength', 'size_MB', 'AssemblyName', 'download_path', 'Experiment',\n",
              "       'LibraryName', 'LibraryStrategy', 'LibrarySelection', 'LibrarySource',\n",
              "       'LibraryLayout', 'InsertSize', 'InsertDev', 'Platform', 'Model',\n",
              "       'SRAStudy', 'BioProject', 'Study_Pubmed_id', 'ProjectID', 'Sample',\n",
              "       'BioSample', 'SampleType', 'TaxID', 'ScientificName', 'SampleName',\n",
              "       'g1k_pop_code', 'source', 'g1k_analysis_group', 'Subject_ID', 'Sex',\n",
              "       'Disease', 'Tumor', 'Affection_Status', 'Analyte_Type',\n",
              "       'Histological_Type', 'Body_Site', 'CenterName', 'Submission',\n",
              "       'dbgap_study_accession', 'Consent', 'RunHash', 'ReadHash'],\n",
              "      dtype='object')"
            ]
          },
          "metadata": {},
          "execution_count": 9
        }
      ]
    },
    {
      "cell_type": "code",
      "source": [
        "run_info.info()"
      ],
      "metadata": {
        "colab": {
          "base_uri": "https://localhost:8080/"
        },
        "id": "KXL8SixlDvF6",
        "outputId": "0efcea1f-523d-45c4-d0cf-090555cfee12"
      },
      "execution_count": 10,
      "outputs": [
        {
          "output_type": "stream",
          "name": "stdout",
          "text": [
            "<class 'pandas.core.frame.DataFrame'>\n",
            "RangeIndex: 1 entries, 0 to 0\n",
            "Data columns (total 47 columns):\n",
            " #   Column                 Non-Null Count  Dtype  \n",
            "---  ------                 --------------  -----  \n",
            " 0   Run                    1 non-null      object \n",
            " 1   ReleaseDate            1 non-null      object \n",
            " 2   LoadDate               1 non-null      object \n",
            " 3   spots                  1 non-null      int64  \n",
            " 4   bases                  1 non-null      int64  \n",
            " 5   spots_with_mates       1 non-null      int64  \n",
            " 6   avgLength              1 non-null      int64  \n",
            " 7   size_MB                1 non-null      int64  \n",
            " 8   AssemblyName           0 non-null      float64\n",
            " 9   download_path          1 non-null      object \n",
            " 10  Experiment             1 non-null      object \n",
            " 11  LibraryName            1 non-null      object \n",
            " 12  LibraryStrategy        1 non-null      object \n",
            " 13  LibrarySelection       1 non-null      object \n",
            " 14  LibrarySource          1 non-null      object \n",
            " 15  LibraryLayout          1 non-null      object \n",
            " 16  InsertSize             1 non-null      int64  \n",
            " 17  InsertDev              1 non-null      int64  \n",
            " 18  Platform               1 non-null      object \n",
            " 19  Model                  1 non-null      object \n",
            " 20  SRAStudy               1 non-null      object \n",
            " 21  BioProject             1 non-null      object \n",
            " 22  Study_Pubmed_id        0 non-null      float64\n",
            " 23  ProjectID              1 non-null      int64  \n",
            " 24  Sample                 1 non-null      object \n",
            " 25  BioSample              1 non-null      object \n",
            " 26  SampleType             1 non-null      object \n",
            " 27  TaxID                  1 non-null      int64  \n",
            " 28  ScientificName         1 non-null      object \n",
            " 29  SampleName             1 non-null      object \n",
            " 30  g1k_pop_code           0 non-null      float64\n",
            " 31  source                 0 non-null      float64\n",
            " 32  g1k_analysis_group     0 non-null      float64\n",
            " 33  Subject_ID             0 non-null      float64\n",
            " 34  Sex                    0 non-null      float64\n",
            " 35  Disease                0 non-null      float64\n",
            " 36  Tumor                  1 non-null      object \n",
            " 37  Affection_Status       0 non-null      float64\n",
            " 38  Analyte_Type           0 non-null      float64\n",
            " 39  Histological_Type      0 non-null      float64\n",
            " 40  Body_Site              0 non-null      float64\n",
            " 41  CenterName             1 non-null      object \n",
            " 42  Submission             1 non-null      object \n",
            " 43  dbgap_study_accession  0 non-null      float64\n",
            " 44  Consent                1 non-null      object \n",
            " 45  RunHash                1 non-null      object \n",
            " 46  ReadHash               1 non-null      object \n",
            "dtypes: float64(13), int64(9), object(25)\n",
            "memory usage: 504.0+ bytes\n"
          ]
        }
      ]
    },
    {
      "cell_type": "markdown",
      "metadata": {
        "id": "3CDJHQCIIlba"
      },
      "source": [
        "# Understanding the Taxonomic ID (TaxID)\n",
        "## Question\n",
        "Research and briefly explain:\n",
        "- What is a Taxonomic ID (TaxID)?\n",
        "- How is it used in bioinformatics or scientific research?\n",
        "\n",
        "**Your Answer:**\n",
        "\n",
        "> *A Taxonomic ID (TaxID) is a unique numerical identifier assigned to organisms by the NCBI(National Center for Biotechnology Information) Taxonomy Database. It is used to organize and retrieve information about organisms, enabling researchers to cross-reference data across various databases.*\n",
        "In other words,\n",
        "- A Taxonomic ID (TaxID) is a unique numeric identifier assigned by the National Center for Biotechnology Information (NCBI) to each distinct taxonomic group in their taxonomy database.\n",
        "- In bioinformatics and scientific research, TaxID is crucial for:\n",
        "    - Standardizing organism classification\n",
        "    - Facilitating precise identification of species\n",
        "    - Enabling accurate cross-referencing between different biological databases\n",
        "    - Helping in phylogenetic studies and taxonomic research\n",
        "\n"
      ]
    },
    {
      "cell_type": "markdown",
      "metadata": {
        "id": "9ZSteI8WJOTs"
      },
      "source": [
        "# Downloading the Sequencing Run Data\n",
        "\n",
        "In this part, you will download the sequencing data for **SRR12506197** using two commands:\n",
        "\n",
        "1. **prefetch**: This command retrieves the sequencing data from the SRA (Sequence Read Archive), a public repository for storing raw sequencing data.\n",
        "2. **fastq-dump**: After downloading, this command extracts the data into **FASTQ** files, a common format for storing raw sequence reads along with quality scores.\n",
        "\n",
        "## Questions\n",
        "To better understand the data formats, briefly answer the following:\n",
        "\n",
        "1. **What is the SRA format, and how is it used in bioinformatics?**\n",
        "   \n",
        "   > The SRA format is a binary format used by the Sequence Read Archive to store raw sequencing reads and metadata. It is compact and optimized for storage and retrieval of large datasets. In other words, The Sequence Read Archive (SRA) format is a standardized file format for storing raw sequencing data. It is used in bioinformatics to:\n",
        "    - Preserve the original, unprocessed sequencing reads\n",
        "    - Provide a uniform storage method for high-throughput sequencing data\n",
        "    - Allow researchers to share and access raw sequencing data from various platforms\n",
        "    - Enable reproducibility of sequencing experiments\n",
        "\n",
        "2. **What information does a FASTQ file contain, and why is it important in sequencing data analysis?**\n",
        "\n",
        "   > What Information Does a FASTQ File Contain?\n",
        "   A FASTQ file is a widely used format for storing high-throughput sequencing data. Each entry in a FASTQ file represents a sequencing read and contains the following four lines:\n",
        "\n",
        "    1. **Read Identifier (Header Line)**:\n",
        "        - Begins with an `@` symbol, followed by a unique identifier for the read.\n",
        "        - Often includes metadata such as the sequencing instrument, flow cell ID, lane number, and read number.\n",
        "\n",
        "    2. **Raw Nucleotide Sequence**:\n",
        "        - Contains the DNA or RNA bases (e.g., `A`, `T`, `C`, `G`, or `N`).\n",
        "        - Represents the actual sequence read from the sample.\n",
        "\n",
        "    3. **Separator Line**:\n",
        "        - A line that starts with a `+`.\n",
        "        - This line may repeat the read identifier or simply serve as a placeholder.\n",
        "\n",
        "    4. **Quality Scores**:\n",
        "        - Encoded as ASCII characters, each representing the quality score of the corresponding nucleotide in the sequence.\n",
        "        - The score is a Phred-scaled probability of a base being called incorrectly, with higher scores indicating better confidence.\n",
        "\n",
        "  Why Is It Important in Sequencing Data Analysis?\n",
        "\n",
        "      1. **Raw Data Storage**:\n",
        "        - FASTQ files serve as the raw output from sequencing platforms, containing the fundamental information required for downstream analysis.\n",
        "\n",
        "      2. **Quality Assessment**:\n",
        "        - The quality scores help identify regions of low-confidence bases, enabling filtering or trimming of unreliable reads.\n",
        "\n",
        "      3. **Alignment and Variant Calling**:\n",
        "        - The sequences are used to align reads to a reference genome or to assemble genomes de novo.\n",
        "        - Reliable sequences improve the accuracy of variant detection (e.g., SNPs, indels).\n",
        "\n",
        "      4. **Read Filtering and Preprocessing**:\n",
        "        - Quality scores guide preprocessing steps such as adapter trimming, quality filtering, and error correction, which are essential for clean, analyzable data.\n",
        "\n",
        "      5. **Downstream Applications**:\n",
        "        - FASTQ files are the starting point for various bioinformatics analyses, including gene expression profiling, metagenomics, and single-cell RNA sequencing.\n",
        "\n",
        "    In summary, FASTQ files are crucial because they encapsulate both the sequencing results and their quality, forming the basis of accurate, reproducible bioinformatics workflows.\n",
        "\n",
        "\n",
        "\n",
        "\n"
      ]
    },
    {
      "cell_type": "code",
      "execution_count": 11,
      "metadata": {
        "id": "Ch-1mNmXCumR",
        "colab": {
          "base_uri": "https://localhost:8080/"
        },
        "outputId": "710ff856-f4cc-4f03-f986-a606633cfcdc"
      },
      "outputs": [
        {
          "output_type": "stream",
          "name": "stdout",
          "text": [
            "\n",
            "2024-11-27T19:32:20 prefetch.2.11.3: Current preference is set to retrieve SRA Normalized Format files with full base quality scores.\n",
            "2024-11-27T19:32:20 prefetch.2.11.3: 1) Downloading 'SRR12506197'...\n",
            "2024-11-27T19:32:20 prefetch.2.11.3: SRA Normalized Format file is being retrieved, if this is different from your preference, it may be due to current file availability.\n",
            "2024-11-27T19:32:20 prefetch.2.11.3:  Downloading via HTTPS...\n",
            "2024-11-27T19:33:25 prefetch.2.11.3:  HTTPS download succeed\n",
            "2024-11-27T19:33:39 prefetch.2.11.3:  'SRR12506197' is valid\n",
            "2024-11-27T19:33:39 prefetch.2.11.3: 1) 'SRR12506197' was downloaded successfully\n",
            "2024-11-27T19:33:39 prefetch.2.11.3: 'SRR12506197' has 0 unresolved dependencies\n",
            "Read 275897 spots for SRR12506197\n",
            "Written 275897 spots for SRR12506197\n"
          ]
        }
      ],
      "source": [
        "#your code\n",
        "# Downloading the sequencing data using SRA Toolkit\n",
        "!prefetch SRR12506197\n",
        "!fastq-dump SRR12506197 --split-files"
      ]
    },
    {
      "cell_type": "code",
      "source": [
        "!ls -lh"
      ],
      "metadata": {
        "colab": {
          "base_uri": "https://localhost:8080/"
        },
        "id": "xOki3oBYH0Rd",
        "outputId": "33a34b57-9cba-409f-9544-b0c72084fa69"
      },
      "execution_count": 16,
      "outputs": [
        {
          "output_type": "stream",
          "name": "stdout",
          "text": [
            "total 4.8G\n",
            "-rw-r--r-- 1 root root  999 Nov 27 19:11 runinfo.csv\n",
            "drwxr-xr-x 1 root root 4.0K Nov 25 19:13 sample_data\n",
            "drwxr-xr-x 2 root root 4.0K Nov 27 19:33 SRR12506197\n",
            "-rw-r--r-- 1 root root 4.8G Nov 27 19:35 SRR12506197_1.fastq\n"
          ]
        }
      ]
    },
    {
      "cell_type": "code",
      "source": [
        "!ls \\SRR12506197 -lh"
      ],
      "metadata": {
        "colab": {
          "base_uri": "https://localhost:8080/"
        },
        "id": "AS5CZTGTH-vP",
        "outputId": "e5802636-eb5e-4acf-b1dc-c0873e8b8e7e"
      },
      "execution_count": 19,
      "outputs": [
        {
          "output_type": "stream",
          "name": "stdout",
          "text": [
            "total 2.2G\n",
            "-rw-r--r-- 1 root root 2.2G Nov 27 19:33 SRR12506197.sra\n"
          ]
        }
      ]
    },
    {
      "cell_type": "markdown",
      "metadata": {
        "id": "B8cFGYR-Kq5z"
      },
      "source": [
        "# Creating a Smaller Sample of the FASTQ File for Testing\n",
        "\n",
        "In this step, we reduce the computational load by working with a smaller subset of the data. Here, we select the first 1000 reads from the original FASTQ file, creating a smaller file for testing purposes.\n",
        "\n",
        "## Question\n",
        "1. **What information is stored in a FASTQ file, and how is it organized?** Describe the structure of each read in terms of its four lines, including what each line represents.\n",
        "\n",
        "    > A FASTQ file contains sequencing reads with four lines per read:\n",
        "    - Line 1: Sequence (Read) identifier (starts with '@')\n",
        "    - Line 2: Raw sequence of nucleotides (DNA sequence).\n",
        "    - Line 3: A separator line (starts with '+').\n",
        "    - Line 4: Quality scores for each nucleotide\n",
        "\n",
        "    Below I also ran a code to show these for lines for some reads\n",
        "   \n",
        "2. **Given this structure, why do we need to select 4000 lines to get 1000 reads?**\n",
        "\n",
        "> *4000 lines are selected because each read requires 4 lines in the FASTQ format.*\n",
        "\n"
      ]
    },
    {
      "cell_type": "code",
      "source": [
        "with open(\"SRR12506197_1_sample.fastq\") as file:\n",
        "    for idx, line in enumerate(file):\n",
        "        if idx % 4 == 0:\n",
        "            print(\"--------------------------------------------\\n\")\n",
        "            print(f\"read {int(idx / 4)}\\n\")\n",
        "        print(\"line \",(idx % 4 + 1) , \": \", line)\n",
        "        if idx == 19:\n",
        "            break"
      ],
      "metadata": {
        "colab": {
          "base_uri": "https://localhost:8080/"
        },
        "id": "9fOwcRydP1td",
        "outputId": "b91f4587-e504-4644-8805-0cf8d98a37fe"
      },
      "execution_count": 36,
      "outputs": [
        {
          "output_type": "stream",
          "name": "stdout",
          "text": [
            "--------------------------------------------\n",
            "\n",
            "read 0\n",
            "\n",
            "line  1 :  @SRR12506197.1 1 length=4164\n",
            "\n",
            "line  2 :  TATGGTGGCTTCAATCTTGCTCAGTTTTAGTGGTTCCAGCTTCGGCTGACGTTTCCTTTCCAGTCGAGGTCGCCGTTAATGGCACGGCGTAAAACCGCCTTTGCGCCTTCAACCAGTTTTTCTGTGCTTTGACTACGCCATCCACCAGACCGATTTTCAGCGCCTGATCCGCGCCGACATCTTTACCGGCGGCAATGATTTCCAGCGCACTGTCAGCGCCCAGCATACGTGGCATACGTACAGAACCGCCAAAGCGGGCATGATGCGGATTTGGTTTCCGGCAGACCGATGCGCAGATCCGGCGTCGCCAGACGATAATCCCGGTCGCCAGCACGCATTCGCAATACCGCCCAGCGCATAGCCATTGACGGCAGCAATGGTCGGCACCGGCAGATCTTCCAGGCGATTAAACGCTATTGGCAAAGTGCAGCCACTGACAACTGTTCTTCAGGAACCAGGGAACGGGGACAAAAATTCGGTGATAGCACCGACGGTAAGCTGCTTTGTTCGAACGCAGCAGCAGCCCTTTACCCAGATCTGATTGCTGTTCCAGCACGCCGATGGCCTCGCCGAGGCTGGCGACAGTCGCAGTGTCGAGTTTATTAACTGAACTGGGGCATCAAATACCAGTTCGGCAATGCCATCTTCCAGCCAGTCAGGTACAGGGTGTCGCCTTTGTAAAGCATGTCAGTCTCCTGAATCCGCAAGGTGATCTGGTCGTACCAGATGAGTCGAAGTGTGTATTTTGTGTTAAAAATATGCAAACAAAGATTAAAGAAATGCCGATCTGATCACGCTCGGCAGAAATCACGCTCTGGATGAACGATGTGCTAAGATGCGGAGACTTAAGGTCAAAAAAAAAACAGAAGGGTAAAAATGGAATCACGGCCTCGCTCTATAAAAATCATATAGCTACCTTACAAGAACGGACTCGCGATGCGCTGGCGCGCTTCAAGCTGGATGCGTTACTTATTCCTCCGGCGAGCTGTTCAATGTTTTTCTCGACGATCATCCCTATCCGTTTAAAAGTGAACCCGCAATTCAAAGCGTGGGTGCCGGTAACTCAGGTGCCAAACTGCTGGTTGCTGGTGGATGGCGTGAACAAGCCGAAACTGTGGTTCTATCTGCCGGTTGATTACTGGCACAACGTCGAACCGCTGCCGACCTCTTTCTGGACTGAAGATGTGGAAGTGATCGCGCTGCCGAAGAAAATGATGGCATTGGTAGCCTGCTGCCTGCTGCGCGCGGCAATATCGGTTATATCGGTCGGTGCCGGAACGTGCGCTGCAACTGGGTATTGAGGCCAGCAACATCAACCGAAAGGGTTATCGACTACCTGCATTACTATCGCTCCTTCAAACTGAGTACGAACTGGCCTGTATGCGTGAAGCGCAGAAAATGGCGGTCAACGGTCACCGCGCGGCAGAAGAAGCGTTCCGTTCTGGCATGAGCGAGTTCGATATCAACATTGCCTATCTGACCGCGACCGGTCATCGTGATACCGACGTACCTTACAGCAACATTGTGGCGCTTAACGGAACACGCTGCGGTACTGCATTACACCAAACTGGACCATCAGGCTGGAAGAGATGCGCAGCTTCCTGCTGGATGCCGGGGCAGAATATAACGGCTATGCGGCTGACCTGGCCCGTACACGGTCGGCAAAAGTGACAACGACTACGCGCAGCTGGTGAAGGACGTTAATGATGAACAACTGGCGCTGATCGCCACCATGAAAGCAGGCGTCAGCTATGTAGTTACCACATCAGTTCCATCAGCGCATCCTTAAACTGCTGCATGCTTATCAAATCATCACCGATATGAGTGAAGAAGCGATGGTCGAAAACGATCTTACCGGGCCGTTTATGCCGCATGGTATCGGCCATCCGCTGGGCCTGCAGGTGCATGACGTCGCTGGTTTTATGCAGGATGATAGCGGTACGCACCTCGCGGCACCGGCAAAATATCCGTACCTGCGCTGCGCCAGTATTCTCCAGCCGGGCGTGGTGTTAACCATCGAACCGGGTATCTACTTCATCGAATCGCTACTGGCACCGTGGCGTGAAGGGCAGTTCAGCAAGCACTTCAACTGGCAGAAAGAATTGAAGCACTGAAACCGTTCGGCGGCATTCGTATCGAAGACAACGTGACGATCCACGAAAACAACGTGGAAAAACATGACCCGGGATCTGAAACTGGCGTGATGGAAGCTGGTTAATTCCTGCGGCACCGGTCACGGTCGTTGAGATCAAAGAGCCGCTTCATAACGATGTTGGCGCATACCGATGGCGTTGAGGCGGCGAAAGCGTTGTTGAATCGGTGCGGAGCAGAACACCCCAATTACGGCACCATTGCGTGGCGTGGGTCGCGGGTGCGCCGGATGATTCTCAACAGCTGGGTTTCTCTGACGACGGGAGCCGGCGGGAACGGCAGGTAAACCGATGCTCGCCCAGCTAATGGGCAGCGGCGTCGGGAAATTACCGCTGTGGTAGTGCGCTACTACGGCGGCATATTGCTAACTTTCGGTAGGTTAGTGAAAGCGTATGGCGGCGGCGTGAGATCAGGCGCTGCGCCAGCTAACGACCCAACGCAAGACGCCATTAACCGAATATACTTTGCAATGTGAATATCATCAGTTAACCGGCATTGAAGCGTTGCTGGGGCAGTGTGACGGCAAAATTATCAACAGTGATTATCAGGCATTCGTTCTGCTGCGGGTGGCGCTTCCGGCGGCGAAAGTGGCTGAATTTTCCGCAAAACTGGCAGTTTTTAGCCGTGGTTCATTGCAATTGTTAGCGATTGAAGAATAATCCCACTTCGTTTTGCAGAACTAAGGAAGCGGCAGAGATGCATTTTTCGCGCCATTACCCGAATCGTTGGTTCTGGTCATCTTATTTTCCGGGACCATGATTATCCACCTGGGCTGGTAGCACTCATCTACCGGGATGGAGCAGGCCGCGCTTTTACCTGGGCCTTTTTGTCGCCCTCGCCATTGGCTCTATGCTGTGGTGGCCGAACCGCAAAGAGAAAGGCGAACCATCCGTGAGGGGTTTCTGATAGTGGTGCTGTTCTGGACCGTGCTGGGTAGCGTCGGTGCGCTCCTTTTTATCTTCTCGGAAAGCGGTTTCTCACGATTACCGATGCGTTTTGAATCTTTCTCGGCTGGCCACTACAGGAGCCACTACGCTGGTGGGGCTGGATTCGCTCCCTCACGCCATCCTCTTTTATCGCCAGATGCTGCAATGGTTTGGCGGGATGGGGATCATCGTGTTGGCGGTTGCGATACTGCCTATCCTCGGCGTGGGTGGGATGCAGCTCTATCGCGCAGAAATGCCCGGCCCGCTGAAAGATAACAAAATGCGCCCGCGAATTGCGGAAACGGCGAAAACCCTGTGGTTGATTTATGTCTTGCTGACCGTCGCCTGTGCGCTGGCGTTGTGGTTTGCCGGAATGGATGCCTTTGATGCCATCGTATAGCTTTGCGACTATCGCTATTGGCGGCTTCTCGACACATGATGCCAGTATCGGTTATTTCGATGGCCCGACTATTAACACTATCATTGCTATCTTCCTGCTGATCTCCGGCTGTAACTGATCTGCTTTCACTGTTAAGTGGGCGTAGTCTGAAGGTTTTGTGGCGCGATCCGGAATTTCGCATGTTTATCGGCGTACAGTTACGCTGGTGGTTATTTGTACCTCGTACTGTGGTTTCATAATGTCTACAGTTCGGCGCTGATGACAATTAACCAGGCGTTTTTCAGTGGTGTCGATGGCGACAACCGCCGGGTTTACAACTGACAGCATTGCCCGCTGGCCGCTCTTTTTGCCGGTACTGCTTTTATGTTCAGCCTTTATCGGCGGTTGCGCCGGGTCAACGGGCGGTGGCCTGGTGATCCGCATCCTGCTGCTGTTTAAGCAGGGAACCGTGAGCTGAAACGACTGGTGCATCGAACGCCGTCTATAGCAGCGCAAACTGGGAATCGCGCACTGCCGGGAACGTATCCTCGAAGCCGTTTGGGGATTTTTCTCCGCCTATGCATTGGTGTTTATTGTCAGTATGCTGGCGATTATCGCCACAGGCGTGGATGACTTTTCTGCCTTTGCGTCGGTTGTTGCGACATTGAATAACCTGGGGCGAGGCTTGGCGTGGTTGCTGATAACTTT\n",
            "\n",
            "line  3 :  +SRR12506197.1 1 length=4164\n",
            "\n",
            "line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n",
            "\n",
            "--------------------------------------------\n",
            "\n",
            "read 1\n",
            "\n",
            "line  1 :  @SRR12506197.2 2 length=3345\n",
            "\n",
            "line  2 :  ATTAACATTAGTCACAATGACTATGCAGGATCACGCAACATTAAAAGAAATAAAAGATTTAGCAAAGAACATAACACAGCAATACGGTGCCTTGGATCTTTGCATTGAGGGGATGCGTAAAAAAGAACCTGAAAACGATGTTATTTATCAGTCAGTTGAAAGCAAAAACGAATTTTCCAGGTTGTTGGTATAACCATGGTGCTTCTCCCCTTTGTGCAAGAACGCGTCCAGTATGGATCGAAACTCCGGGCTCGTACCTATGACATGGGCATTTATGATGCGTGGGCGGTTTTCCAGCGCAGTCGAGCCAATATATGAATTGCCACTAAGTGAGGATGTACTCGATGAGGTGCGCAGAAATGCGATCGTTAGGATCTTACATTGCGCGTTCAATTTAGAAGGTAGCTCACAGGAACGTACATTTTCATTATCGATTGCAGAAATCTAATAGCAAAATTTAAAGTGAAACAGATATACCAATAGTGATCGTTCATGGACCCAAAGGTGAAGATAAAGCGGGCATTGAGTGGATTGTTATAATAATGTCTACCGTTTATCATACCACCCTCGATTAAACGTTCAGCAGCAATCATAAAAGATGCTTATATCGCAATAACTCCTGACACCTCAATATTACATATGGCAAGTGCCTATAATACCCCTGTTGTTGCAATTTATGCTGTTACAAAACGCGATGGCCCGCAATGGCCGATGTCTCGGAGTCAGTCTCGTCGTTGGGCAAAAATTGACAATATAAGTCTGGATAATTCGCAAAGGCATTAAAGAGTGTTTTGGCGAGAATATGAGACAGTACTTATGCATAGTAATGCCGATCTGTTATGAACGGTGGTGTCATCAATACTCTGAGGCTGGTCAATCATCTGAAAACTAGCCTTTGAATCAAGCAGTACTCACCGAAAATGATCATAGTCACATCGAACGCGATTCTGGCGGTGCCGCATTTTATTTATTCATTTCTGTGAGAAAATTTAGTTCTGTAGAGGGAATGTAAAGAGAGTGCCCCGAATGGAACACTCTTTAAGTATAACGGAAAATCTGGGTTTTTATAACATGTCGCATAAGCAAACCCAAGCTTTTCAAATACGCTTTACGATCACTATTTGCGGGAAACTACATTATTGTTCTTAGTTTGCGGGACTAGATGACCAGCCATATTTGATTGAAAAACCAGCATCCAGTCGTGTAATACTTTATATCTCCCAATTCACTGTACAGTGACCCGTGCCTCAGGAACTACAGTGGTTTTAAATGGTTTGCTCTAGGGCGTGTAGCCATTGCACTGCAAGAATTTTCAACAAGGCTGTATATCATGAAAGCCTCGCCGGCGTTCACTTACCAACTCTTCACGGATTTCGTATACGTAGCTAGGGCCTCCTGATTTTGGCGTCATATAATCCTTTCCGAATTGCTGCCGTGTTTTTAAATGTACTTTACGGCTATCAACATCCTGACCGGGAGGCAGGCTTGAAAACTCATAATCAGCCGCCGTTCACGGGGCAAGTTGTCGTATTCCGGCTGATAATACGCCCCGGTGAACCCCTGCCGAAGAGTCTGGTTGTCGGTAGGTCAGTACCATTGACTGATACTGTACCGCTCATTATTTTGTCTTCTGCGCGAGTGAATTGTATTGTGGTACTCAGACCAACGATGAGACACATTCAATACAGGGATCAGCGTTTGCGATGCCTCCATTTCCTGTAACAGTGGCTTTGTAATCACCGTTGATATTTAGACTGTAATCAATTGCGCTAATTTTTATATAGGGCACGTTAGTACCTGATTGCACAAATTCCATCCCTTCAAGAAACTTTGATCGGATTGCCTGATATATCGTGCGAATAAGACGTAATTCAGCACTATCGGTATGGTCACTTTCAGTGATGACGTTGCTCTTAGGGACGAGACTTCAAGAGGTATGCACCGGGCCAGCCACCAGCGTTATATCTACTGTTTGCATTCCACCAGCGGTGTTCACGCCTGTGACGCCACGTCATCAGCTCCTTTCACGCTTGTTGTCGCGATTCCGTTTTGATCGGTCACCGCTGTTAATGACGTTAATGTGTGACGCTTTTTAAGGCGAAGTACACAGTGAGACGGGTTACCACTGCCATCCTCAACCGTTGCCTTTAAGGTACCCAAATCAGTGTTAATTGGCGGCGATAGTCGATGGATCAGCGATAAAGCTAGCAACATGGGCGGTGCTTGAGTTGCCAGTGACTTTCACGGTTGTCTGTGTCTGTATTGTTACGCCGTTATGGAAAGATGCAGTCACCGTATATGCCGACTTTATTGCTGGTCAAAACGACTGGAGCTGACCTGAAGAGTTAGTTCTCCGCGCCGCCATAACGTCGCCCCTTCTGGCGTTACGCTAAAGTTGATGACCTGACCCTCCACTGGAGTGCCATTTGCAGAGGTTAAGCGTTGCCGTCTGAGTAGCGCCTGTAGAGCATAGAACACCAGTAGCGGACTGGACGCCGTGGTGTCAGTTTTTTCATCAATAACCTCCGGTGGATTGTTTCTCAAGTGAGGCTCATTCGGCAGGGATGCTTTCACCAGCGCCACGAACCGTTTCTTTCGGGCGTCATGGTGACCTCGGCTACACCCTGCGTATTAGTGAGAACCGTATTCTGGCTGATGATCATTTTGCGGATGGCTCTGCACTGAATGTCACGGGTTGATGCGCAACCGGGTTGCAAACTGGTCGTTAACGTGAGCTTTAACTGCTACGTCTTGTGCGACCATTACCTGACCTTCTAGGCATCTCAGACTGGTAATCGTCGCAGAATTAACATCTGCACTGGCATTCAGTAATCGCGAGATGACTTCAGTAGGTTTATCTGCCAGAGGCTGAAACTGTTTTCAGTCCGACCTCGGTGCTTGTCACAAGAATTTCAGCGAAACCCCGATCATCCGTTTCAACGCTGGTGCTGCTTAGCGTGACGGAGGTTCCGCGGAAATTAACTTTTATACTTCTACCGGGGTTGCCGTTAGCGTCAGTGACGCTTGCCGTCATAGTTGCGCCTCGGTCGTGCTGACGACGAATGAGTATACAGAGGTTAAGGAATTTAGTTTTGCGGTACCAGCATCGGCAATCAAAGTCACCTGTTTGTATCACTGACACCATAATTGTTCACGCTAACTGTCACGGGGTAGTGCAGTTTGTACCGCTCAGTGTAACTTCAGCCTTGCCGTTGATATCAGTAATGGCGGAACCGCCTTGTCCGAGTAAAGCTGCGCTCACATCTGCCGAGTAGCGTCGTGAATGTCCACCGCCTCATTGGCTAACGGGTTTGCCGTTTCCATCAGTCACTGTTGCCTGCAGCT\n",
            "\n",
            "line  3 :  +SRR12506197.2 2 length=3345\n",
            "\n",
            "line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n",
            "\n",
            "--------------------------------------------\n",
            "\n",
            "read 2\n",
            "\n",
            "line  1 :  @SRR12506197.3 3 length=11376\n",
            "\n",
            "line  2 :  CTATCTGTCCCTGGCGATTATCGTCTGCGGCTATGGCCTGTTTAAATCTAACGTAAGCTGTCTGCTCGGCGAGCTGTATGAGCCAACCGATCCGCGTCGTGATGGCGGTTTCTCGCTGATGTATGCGGCGGGTAACGTGGGGTCTATTATCGCACCTATCGCCTGTGGTTACGCCAGGAAGAGTACAGCTGGGCGATGGGCTTTGGCACGGCGGCAGTTGGCATGATCGCGGGTCTGGTCATTTTCTTATGTGGCAATCGTCATTTCACTCATACCCGCGGCGTTAACAAAAAAGTACTGCGTGCGACAAACTTTCTCCTGCCGAACTGGGGATGGCTGCTGTGGTTCTGCTGGTGGCAACGCCTGCACTGATTACCATACTGTTCTGGAAAGAGTGGTCGGTATACGCCTTAATTGTCGCGACTATTATTGGCACGGGTGTACTGGCAAAAATTTATCGCAAAGCAGAAAACCAGAAACAGCGGAAGGAGCTGGGGCTGATTGTGACGCTCACCTTCTTCAGTATGTTGTTCTGGGCCTTCGCACAACAGGGCGGTAGCTCGATTAGCCTTTATATCGACCGCTTCGTTAACCGCGATATGTTTGGTTATACCGTTCCGACCGCGATGTTCCAGTCGATTAATGCCTTCACCCAGTTATGCTGTGCGGTGTGTTCTGGCGTGGGTGGTAAAGAGAGTGTCGCGGGTAATCGTACCGTGCGCATCAGGGAAATTTGCTCTTGGCCTTATTTACGATGAGCGCCGGATTCTGCATTCTGACCTTAAGCGCCCGCTGGTCCGCAATGTATGGTCACTCTTCTCTGCCACTGATGGTATTAGGCAGCGGTGATGGAACTGCGGAACTGTTTATCGACCCGGTTGCCATGTCGCAAATTACGCGCATTGGAAATCCCCGGTGTGACCGGCGTATTAACCGGCATCTACATGCTGCTTTCTGGCGCGATCGCGAACTATCTGGCGGGCGTGATTGCCGATCCAGACATCGCAGGCTTCGTTGATGCTTCCGGGGCGATCAACTACTCCATCAATGCATATATTGAAGTATTTGATCAAATTACGGGGCGCACTGGCGTGTGTAGGACTGGTACTGATGATTTGGCTGTATCGGGCGCTGAAATTCAGAAACCGCGCTGGCGCTGGGTCTTAATAGGCCAGCACCGATGCCTGATGCGACGCTTGACGCGTCTTATCAGGCCTACGTATTCCTGCAATTTATTGAATTTGCACAAATTTGTAGGCTGGATACAAGGCGTTCACGCCGCATCCGGCATCTGGGCTCGATTGCCTGACGCGTCTGTTATTTCCCCTTCCGCGCCGCCTCATACGCTGCCAACGTTTGTACTCTCGCTTCTTTGTGCTCGACTATCGGTTGCGGATAATCCAGCGTCACACCTGCTTTCTGCGCCCACTTCCACGGCTCATGCACCACTTTCACAGCATCGCGCCAGTTCCGGTAGCCACTGGCGGATAAACTCGCCCTCATGATCAAATTTCTCGCCTTTGGGTTGTCGGGTTGAAAATACGAAAATACGGCGCTGCATCGGTTCGGTTGAAGCGGCCTGCCAGCCACCGTTATTGGCTGCCAAATCACCATCAATCAGCTGCGACGCGAAATATCGCTCGCCTTCGCACCAGTCGATCAATAAATCTTTCACCAGAAAACTGGCTGTAATCATCCGTAGCCTGTTATGCATCCAGCCAGTGCTGTTAAGCGACACTATAGCGGCATCAACAATCAGGTATCCCGTTTTGCCTTCCTGCAGACCTGTAAATGTGCGGGATTGCTCTGCCACTGTACACGATCCGTCCAGGGCAATAAATGGACGATGTTTACACAACGAGGGTGATACGTTATCAGGTGACGGTAAAACTCGCGCCAGATCAGCTCATTAAGCCAGACACTACCGGCCCCACCGTCCAGCGCCTGCGGCTGTTCCAGCCAACAAGCGATGCAAGCACTGGCGAGGCGATAACCCGCCCGTTGCCGGAGCTGGCCGACAAACGGCTGGTGCCTTCCACTGCCGGAAAATCTCGTTGTTGCTCATATTCTCCGGCACCGTTCTGGCAAAACTGGCATGTGCGCAATCGCCGCTTTTTCTTCCACCGGAAAATGCGCAGTATCGAAAGACTGACGAGGATAATTCAGTAATGGATGGCGAGGGCTCTATCCGATCCGCTACTACGAACTTTGGCGCAGCGACGCACTCCGGCATCCCTTCCCGCAGCCGTTTCAGCCGAGGGCATTCTTAAAAGGCGTAAAGACTTTGTACATCTCGTGATTACCGGTCATCACCCGCGCCAGGCAGCAGGATCACGCTGTCATCAAATCCTTCACACACCGTTACGCAGCGCTCTTTCAACTTCCACATCCCGCGCCCGCTCATTCACTTCATACTGATAGTTATAAAACAGGTGGGTAACGCTGTTTTCCGCGCACACCTGTTTAACTATTTCGACACAGCGACAAAATTCATCCACTTCACGAACAATAAAGGGAATACCTTTTTCCGCAAGCGCTATTTGTAGCCCATTCAGTTGAGCATTGATAAGTTCAGCCTGACGCGGCGACATGTTATGCGTCGCCCACTGGCGTGGTGTAGCGATATACAACGCCAGCACGCGTGCAGACAATTGCGGCAGGCGGCAGCCAGTGCGAGATTATCGTGCAGACGTAAATCTGGCGAAACCAGACCAGATGGGTAGTCATAAAACTCTGAATGGCTGGATTAATCACACGCGGCGGGTTCGAAATAACGCTGCCCTGAAAGCCAGGCGTCAGGATAAAGCGCCATATGGTGTTTGATACCATCAGCGGCGCAAGAAGTGGTTATCGCCACGGCGATAACTGTCGATAAGCGCAGCCAGCTGCTGGCGTTCTGTGGAATCAATATGCGGGCGAAAATAACCCTGAACGTGCATCAAAACATTGGTGTGATCGCGGGTTGGCGGGGTGAAAGCAAAACAGCTACGCGTTGGCGGTACTGGTTGTAATAGTCATCCAGATTTTGCCACTGGTGAATATCGGCCACGAACGGGCCAAGTTTGCGGTACTCCGGCTGAGAATGCGCCAGAAAGACGAGTTTATAGCGGCTGTGATAATCGAGAAGCGCCCCGCGCGTTAAGCCATGTTCTTTCAGTCGATGTAACTCATGAAGGGCAAAGATACGGATTAGGGTGCTGTCATCCGTGTTGTAGATTCATTACTGCTCTGAGCGGTTTACAGGTAAGTGTAGACGTTGAGAAATGATATTTGTGAAGTTAATCCTGTTGTAGCAGGACAAATTTACAGCCTGCTCCCCGCAAGGACTGACGTCAGGTAGTTTCTAACCATAGCTGCCCTTTCTATTCAAACATTAAATCAATAAGCTCATCAGGGACATCGCAAACAATATGAAGACGGGTTTCTTCTCTGCCGTGACTCTTTTCACTAATTGCGTAACTGTCATGCTTGGGATTATTTAATTCTTTCAGCGGAAATTTTTCCTCGAAGGCTTTATTTAGCGCCGGTTTCCTTTTACAGCGAATAAATAATCACCTCCTGTTTTTGTATCTTCTCTGCAATATCTTTCTGGCAACCCATCGCATCGGTTTTGATGATTTTCCTTTAATATCCAGCATGTTAAGGATTCAGGGATAGCTGTGATCTCATTGGATTTCTTATCCGTCTTGATCTGTCCGATGACCAGACTGTGCATTGTTGAGAACACTAATGACATGAATCGCTCCTTACGGCGACTCTTGTCGCCAGAATGCCAGTGTATTTTCCATCAATTGCGATGACGTCTTTATCATCTGAAGAATGGTAGTCAAGCATCCAGTTAATAAAGCTCCTCATGAAATTTCGCAGGACAGATACAGGATACAACTCTGGCAATGGTATCGTGAACAGGAATACCATTTCAAAATCACCATATTGCTTCAAAAAATCGGGATGTGTTTCCCCAAAATCCTCTATATCTTCCCAGCCTTCTGCACCAGAAATAACGGCACAAATAGTCAACAGTAGAATGTCCGATAATTTATGTTCCACTTTCCGAGCTTGTCTGTAATCGGGGATAATAGAAATATGTTCCATCAATTTTTAGTTCCATTTTGTTCTCCTTAATTATGTAGAGAAGTATTTGATCATGTATAAGCAATAAAAAACAGCTTCAGGTAATAAGGAATATCTCAATTTTTAAACATAAAATGCAGATTATTTAGTACAAAAAGCAGGGAAAGATTACGAAAGCCCGCTCCCCGCAGGACTGGACGCGAGATAGTTTCTATCCATGGCTGCTTTTCGCATCTTACGTCTTAACCCTGCCTTGAATACCTTATCATTCGTTAAAATATTAATAGCGATGTGCCGTATCCCTGAAAATAATTCTGCGGCGTTTCCTCTTCTTATTTTGCAGTCGTCTTCATTCATTACCACGTCCAGACGCCAGTGCAGCTTATTCTCCACGTGCCAGTGGTTTCGGATTGCTGTGGCGAACTTTTCTGCGGTTAAATCAGCAGAACTGATATAATATTGACCATCATTTCTGGCTCTTTCTTTTGTTCTGCTATTATTATTGACCGAAAGGAGACTGCCACGCATAATTTCTTCAGTCCTTTCCATTCAAACGTGAAATCAATAAGTTCATCAGGGACATCGCAAACAATATGAAGACGGATTTCTTCTCTGCCATTGACTCTTTTCACTCATTTGCGTAACTGTCATGCTCTGGATTATTTAATTCTTCAGCGGAAATTTTTCCTCAAAGGCTTTATTAAGCCGCCTGGTTCCTTTTACAGCGAATAAATAATCACCTCCCTGTTTTTGTATCTTCTCCTGCAATATCTTTCTGGCAACCCATCGCATCAGTTGTGATGATTTTCCTTTAATATCCAGCATGTTAAGGGTTCAGGGATAGCTGTGATCTCATTGGATTTCTTATCCGTCTTGATCTGCCCGATGACCAGACTGTGCATTGTTGAGAACGCACTAATGACATGAATCGCTCCCCTGCGGCGACTCTTGTCATAAGAGTGCCCGGAGCGTTTTTCCATCAATTGCAATGACGTCTTTATCATTTGATGAATGGCAATCACGCATCCAGTTAATAAAGCACTCGTGAAATTTTGCAGGACTGATACAGGATACAACTCTGGCAATAGTATCGTGAACAGAGATACCATTTTCAAAATCACCATATTGCTTCAAGAAATCGAGATGTGTTTCCCCGAAATCCTCTATATCTTCCCAACTTTCTACCAGAAATAACGGCAAAAATAGTCAATGATAGGATGCCTGACAATTTATGCTCTACTTTCGAGCTTATCTGTAATCGGGAATAATAGAAATATGTTCCATCAATTTTTTAAATTTCCATTTGTTCACCTTATTTATGTAGAGGTATTTGATCATGTATAAGCTATGAAAAACAGCTTTAGGTAATAAGGAATATCTCAATTTTTAAACATAAAATGCGAATTATTTAGTACAAAAATGCGTTACGTGATCTTTCTGGGATACAACTCTGGCAATGGTATCGTGAACAGGAATACCATTTTCAAAATCACCATATTATTCAAAAAATCGAGATGTGTTTCCCCGAAATCCTCATATCTTCCCAACCTTCTGCACCAGAAATAACGGCGCAAATAGTCAACAGTAGAATATCTGACAATTTATGCACCACTTTCGAGGCTTGTCTGTAATCGGGTGTAATAAATATGTTCCATCAATTTTTTAAGTTCCATTTGTTCACCTTATTTATGTAAGGAGTATTTGATCATGTATAAGCTATGAAAAACAGCTTTAGACAATAAGTAGTATCTCAATTGTTGAACTTAAAATTCAGAATTATTTAGTACAAAAAAGTAGCGTTACGTGATGCTTTCCCTGCAAATGGAACGCAAAATAAACACCTATTCCATGAGTTATATAATTTTCACAATGATTAATTTGTTTTCTCAGGAAGAGATTTTATTTCTCTTCACTACGAATTAGTTCATGCTGTATCTTTATTAAACATTCGTAAGACTCATTTTTTGTTCGGGAGATATTGCTGTCATTCGAGCATAAGTTGGTTTTCTCATCTTTTAAAATATTTTACCATGATTGAATTATCAAGGACTGCCAACAACTGAACTGGATCACTGCTCTTTTTTTGATAGATACCCGCTCTTATATAACTTCTAAACCGATCGCGAGAAGCATACTGCTGTATTTATCAACTCCTGCAACGTTCGCTGATGGCATGATTTTCATTAAGGCGTAGTGACCCGACGCGAATTAAGAGTCGCCCCGCTTGGTGTGAATTTATTATTTTTACATGTACCCAGTTCTGTTTGCCAATAATACTCACCGATGTCCTCATTCTGATACCATCTCACATGGCTTTATTATTTAAGACAGGAAACATGAAAAAATAGTACCCTTAGCGAAAATAGTAAAACAATCGATCTTTAGCTTGTATTTCGCAATCAGCTATAACACCAAAACTAACAAATATCATCAGCAAAAAGAACAAAACTCTTTTCATTTCTTATTCCCTCTGATGTTCTCTGTTTCATCATAGCTAAAATTTCACCCAAATCATCTATCCCTGCTGTTGCTGGCCCATCGGGTTTATTAATGTCTGGGAATAAATAGGGTTCTGCACAAGTATATCCTGGTGGTAATTGAGTTGTTGGCCGTTGTCTGTGGGTAATCACTTGCTGTCTTTGTATATCCTGGCTTTGGATCGTCACAACGGTATAGTCAGTTTGCTTTGCCCTTTTCCTGCGAAATACAGTGTTGTCAGTCAAGGCTTTAATGCTCTGAAAATGTACACAAGAAAACATTAGGCGCTTTCTAAAAAGCTGCAGTCAATAGTCATGTCACAGTGTTCCGCCGCGACATTACTGAGGATCAGCAGGCGACACGATGAACGCTTCATATCCAGCATTATTTGAGTCAATAACGCCATTCATGATATATATGCCTAGTTGCAGCCTGCCTTATAAATTCCATCCACGCCAATCAATCAGATCTGGTGATAATACCTCCTGTCGTCGAGATCTTATTGTGAGATAGCGGCGCAATACAGGCCGACCTCATCATCACCTTTGCCGGCAAAGTGCTGGATAAATGCTGCAGCGTGCGGGTTCTCTTCATTCAGCAGGTTGCCCCATTCATCGTATTCTGCACTTTCATTCTGTTGCCCCTTCCGTGCTGATGAAAGCGCCAGCGCGAACCGCGATGGTCGCAGTGGTACAGGTGGATTTTCGCGCCAGCGTGTACACCGGGTCCATCTGGTTTTCCATCTGCTCCACCGTCAGGCCGCACGATGCCAGCCAGCGGCGGCTTCCTCACTCACCCGGTCAGCCAGGATTTCACTTTCCAGCCGGTCGAGCATCTGCACCAGCACCGGCGGGAACACCGCACCACCGTCTTCGCCGCCGGACTGCTGAAGGGTATCCGCCGGGCTGCGGCGCTGCGTTTTCGCCAGCTCACCGGTGGCGGTTTCAGCGCCCTGATGAGTGGCGTGAAGCTCCCCGGCTGATAAATCGTCTGGATGCGGGTTCTGTCGTTCTGTATCGTGGTCAGGCGGTGCGTCCCAGCCGTACCCGGGTCACTTGCGGTTTCCGTGACAGCGACATCCAGCCCGTCAGGTCCCGTTCACGTCGCCGCACCCGTTTTGCCACCCTGCGGCCCAGCGGGTCGTAAAGATAGCGGCTTTCGACCAGCGGCTCTGCATATTGTGTCCGCGTGTGTTGCACCAGCCGGTGCTGACTGTCATGGTACCGGTGGGTGCGCTCATCATCCGATGCGGATAACCCCTTCCGGGATAAGAGGTCGGTTTCTCCGTCAGCCTGCCGTGACGGTCATACCATTATAGTGCGCGTCACGGGCGATACGGTTATCCGGCCACATGCTGGGTGCTGTCCGGGTGCAGCTCCGGGTCGGGCGGAGGCGGTTACCTGCCGGGTCTGTGGCATACGGGATATCAATGCCAGGTTACATATAATAATAAGAGCAATTAACTTAATTTATTTGTTTATAATGCGCTTACTTAAAGCTACAAACCATTGAATATACCCTCCTGACAGAAAATAAGCCATATTATTATCGCCATAATATACTTACTATCCAATCCTTACGCCAATAATGTCTGATACAGTCCCTATAAATATTAGAGCAATAAAGAATACTATGCCTGTTGGAAAACATATTACCATCATTCCATAAGACATGAGACTAATTAACTCGCTCACATCACGGTGGAGTCTAATAGTGAAAATCTATGCATGGAAAAGAATATTAAAAGCGATAAAGCCAACATATAATCTCTGAATAAAAAAATAATATATTTCATTACATCACTCCGGTGAATACAAATCCTAATAAAACGTCAATGTTATTTCGGAGCACTTCATCTTACATGTTTTCTAAAGAATCATTAGACCAGTCTTAGCGGTTTTAAATAGCCCTAAATTTATAGGTGTGAATATATCAGGCAATACAGAATAGCCTCTTTAAACTTCCCTTTTAAGTAGTTCTCCACACAACTATTATCGGTTTCAACGAGGTCACAACAAGCCAGCAGCTTCTTTTGTATCATTACTTGCTTTGGCCCCCATAGACCATCTCCTTTTGATTCTCCCCGTTGGTCTTGGCCACCACAAGTATAGTCCCAGCACCATCTGGGACACAAAGATATTGATGATAGAACGGATTCCCCATATATCTGGACCGCTTCTTTCACCAGTTCCGTTACCATTTCACGATGGTGACCCGGTGTTTTAGTGTTTCTAATCCTAATGGATCGTATCGGTAGGATCAGTTCAACGGATACTGGACAAAAATTCCATCGCGCTGACCCAATCGGATCCTGGTGATATATCGCCCCTGCAGCGGGTCATAATAGCGGTGGCGGTTGTAATACAGGCCGGACTCCTCATCATACTGCTGCCCCGGCGAGTGGATAAGCTGCTGCAGCTGATGCGGGTTCTCTTCATTCAGCAGGTTACCCCATTCATCGTATTCTGCGTACCACTGTGTCCCTTCCGTGCTGATAAGGGCCGGCAGGCCACCCGATGGTCGCAGTGGTACAGGTGAATTTTTCGCGCCGGCGTGTATACCGGGTCCATCTGGCTTTGCATCTGCGCCACCGTCAGGCCGCACGATGCGCCAGCCAGCGGCTTTCCTCACTCACCCGGTCAGCGAGGTTTCACTTTCCAGCCGGTCCGAGCATCTGCACCAGCACCGGCGGGAACACCACACTGCCACCGTCTTCGCCACCGGACTGCTGAAGGGTATCCACCCGAGCTGCGGCGCTGCGTTTTCGCCAGCTCACCGGTGGCGGTTTCAACCCTGATGAGTGGCGTGAAGCTCCCGGCTGATAATCGTCTGGGATGCAGGTTCTGTCGTTCTGTATCGTGGTCAGGCGGTCGCCGTCCCAGCCGTACCAGGTCACTTGCGGTTTCCGTGACAGCGACATCCAGCCCGTCAGGTCCCGTTTTTGCCGCCATACCCGTTTTGCCACCCCTGCGGCCCAGCGGGTCGTAAAGATAGCGACTTTCGACCAGCGCGGCTCTGCATATTGTGTCCGCGTGTGAATTGCACCAGCCGGTGCTGACTGTCATGTAATGGTACCGGTGGGTGCGCTCATCATCCGTGCGGATAACCCCTTCCGGGATGAGGTCGGTTTTCTCTGTCAGCCTGCCGTGACGGTCATACCGGTAAAGATAGTGCGCGTCACGGGCGATACGGTTATCCGGCCACATGCTGGGGGCGCTGTCCGGGTGCAGCTCGGGTCGGGCAGGCGGTTACCTGCAGGTCTGTGGTATACCGGGATGCGGATATCCAGATTCGCTGCGGTGGTGTGAACGCCGGTCAGCCTGCCGGTGGTGCTGTAGCTGTAACTCCGGGTCTGGCGCGGGCTGCTGATGCCGGATGAGTTCGCCGTTGTCGTTCCGAGGTGTAATCGCGGTCAGACAGCAGGCTGTTCAGGTGCCAGCTCTGTAACTGCCCGGCAGGGGTATAAGCGGTGGTGAGTTCATAACGGCCGAAGCTGCGCAGCGTTTCCAGTACGGCGGTCGCGGGTGTACTCCACCAGCGGTGTCGCCGAGTTTCATGCCTGACAGCCAGCGCACTGCCATGATCCAGCTCTTCCACGGCGGGCAGGCTGTCGGTACCCAGCGGTTCGCCAGTCCTGTCGTTGTACGCATGTCTGGTCTCATGCTGCCAGAGCAGTTCATTCGTCTGCGGATGATGCACCGTCAGGTGTTCACTGGCAGGCGGCCTTTACTGTCATAACCATAGTGCACCGTCACGGTGCCCTTCGCTGATATGGCTGATGTCTGTCCAGCCAGCCGCGTTCGTCATACTGCCACCGCTCTGCGGTTTCGCCATTCACGGTGCGGTGCGTGAGGCGGTCTGCTTCGATCATAGTGCCAGTGGGTGACCAGCCCTCATCCTCGCTGCGGATAAGTTTGCCGGTCAGGTCGTGGTGATAACATGTGCGGCCGTCAAAGCCGGTTTCCTGTATCAGCCGGTCGAGTACATCGTAACGGAAGGTGGTGTGGCTGCCGTTTTCACTGGTCAGGCGGATGACCCGTCCGGCAGCATCGTATTCCATACTGCGCGTCAGACCGCCCTGCGTGGTACAGATGGCTTTTCCCCACGCATCGTACTGTGTCCCGTTTCTGCTGCCGTCCGGGGCAATGACGGGTGGTCAGGTCACCGGCGGCGTTGTATTCATACCGCGTTTCATGGCCCTGCGTGTCTTTCACGGCCTTTAACTGTCCACGGCTGTCGTGGCTAGCGGTACTGACTCAGCCCTTCCTCGCGGTGCACCGCCGTCACCTGACCAAAACGGTCATGGTCATAGCGGGTTACATAACCGGAACAGTCAGTGAAGCTCAGCAACTGACCGTAACGGCTCCACGTCATGGTTTTCCGGCTGCCGGTGGCATCTTCCGTTGCGCAGGGTAAAGTCGCAACAACGGATTATCATAACGGTAGCGGGTGATATCTTGTCAGGGGCAGTTTCTGAATCAGACGGCCCCATTCATCATATTCCCGGCATTATTTCCAGCCCGTCAGGCTGTGGCTGACGTTAGCAACTGTGGTGGTTATAGTAAAACGCCGATGCCCTGCCATCCGGCGTGGTGATGCGCGTGATGAGGCCGTCACCATCCGGACTGTATTCTGTTGTCCTGCCTGCGGCATCCGTCTGTGCCCTGGTACCGCCCACCGCGTCAAACTGACTCTGCGTGACGCTGCCGTCCGCGTGTTCCTTTTTCACCGCCGCTTCAACCCGCCTTCACCCTGCGTGTGCAGGACTTCACGGCGGTTCAGGCTGCATCGGTGATGGTGATGCAGTCCTTCTCATACTGATAC\n",
            "\n",
            "line  3 :  +SRR12506197.3 3 length=11376\n",
            "\n",
            "line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n",
            "\n",
            "--------------------------------------------\n",
            "\n",
            "read 3\n",
            "\n",
            "line  1 :  @SRR12506197.4 4 length=323\n",
            "\n",
            "line  2 :  CATCCTACCGGCAGCACCCGACTGCGCGAAGGCGATGTGTTGTGTGTAGTGGTCGGGAACGCGATCCTTCCGGCGCTCGATGACTGTTCAGCCAGTCGCCGCCGGTCGCGCTGGATCAACGCTTCTTTGGTGACTTCATTCTCGAAGCCAGCGCCAAATATGCTGATGTTGCGCTGATATATGGCCTGGAAGACGGGCGAGAATATCGTGATAAGCAGCAAACGCTAGGTGAAATTGTCCAGCAGTTGTTAGGCGCGGCACCAGTTGTCAGTGACAGGTAGAGAGTTTGCCGGGATGATCTGGACGGTGGCCGAGAAGAAGAA\n",
            "\n",
            "line  3 :  +SRR12506197.4 4 length=323\n",
            "\n",
            "line  4 :  9788<;8,6',6<9>=HD;<AGHH89''+1<>7.-'',+44323&3.23>7/'A00495---11..8:93??A6699++#$$&//*802*)+5;?HIHFFIKC@EAFA-:EJEA70+%&)*1596668;7;==@HH@AGA@8=7@H?B@CE?CEB?BA?D@C@BEC55D:?5@A@DC?=697??CFGLI7>>B457824<@;C@A?@A@CE???+132>=C5++&''0;9978///1''1*+//3?;673&&('%$&/--01%6&1=<D*?@B0%%';2;5/(-77EE5B>56GA88<<>@=<F67ACCC<>;3+G=253%)4\n",
            "\n",
            "--------------------------------------------\n",
            "\n",
            "read 4\n",
            "\n",
            "line  1 :  @SRR12506197.5 5 length=1417\n",
            "\n",
            "line  2 :  CAAAGCTTCGCTGCCACCGACAACTTTCTTCAGCACCTCCCTCGCGCCTGAAAATTACGGTGCTAAGCGGGTAACGTTTAGCACCGCCTTTAACGGAGGGTAGTATGGTGGGCCGTTATCGCTTTGAGTTCATTCCTGATCATCCTTATTTTATGCGCACTGATTACCGCCCGTTTTTATCTTTCCTGATTGTAGTTATCTGATTTACTCCACTTTCATCCCGTCCGTCTATAGTATTTATGAGGTTTGCTTTTAATAATCATAATTACCCACCAGAGTGTGATATGCATACAACATTGCTGTAGTGTTGGAGTGCAATTAGTTTGACGTCTGCTTTGTGTTCTGAATGCAGACGTTACCAGATCGGCAAACGATGAGGTCACTTCCCTGTTTTTGGTCATGATGATCGTGTGCCAGTGAATGACTGACAATCACCGTGGGATGCGGTTGGGCAACTGGAAACGGCCAGCGGCAGTTATGTACGGCGACGCTGATTGCGCAATCTGGCATTGCTGGCAGGACTGCTGTTTATTGACACCTCCAAGGTAAAGCCGATAAAGCAGTGGCGCTGCGTTTTAATTGTCAAATAAAGGTCTTGGCGCTATGAATCCACGACATAGAAGGCCGCGTTGATCCGACACTGGGAAAGCGGTTAAAAGCAGATGGGGATGGTTGGATTGTACCTCCGCAGCCGCGCCAGGTGGGACTTCGGATTGATTGTGCTACGTAATCCCCTTCTGGCATTACGCCGTTGCCGTTATTTGAGGGAGATAAAGCCGCGCTTACCGCCGCATTAAAAGCGGCAGGTCGTAAGTGACTCCAGGCAGGCTACCCTGAAGATCATCTCGATACGTTGTACGTCAAAACTGTGAAGTGACTGGCTGGGCGCAAGCGTCGGTGTCACATCAGTGCGATACCTTGCCGGGTGACAGCAGTTCACTCTGATGTTGCATACCGATGACGGCTGACAATTAATTACGGGGTGCAAAGAAGTTCGTACTGCCGCGAAGATCGCTGGCGCGCCGATAACCGGGCCATTTCTGTTACCGGTTTTCGCGACAAGCTGGATCAACTGTCGCAAAGCATAATCGTTCCAAACGCCGACAGCGCGGGCAGCGTCTTCATCGAGCAAGTTTCACCACCGATCGATTCAGCCAACAGCAGACCGGGCCAATCCAGCCTTTACGATTTAACCGTTGACCAAACAAGATCCAACCTGCGGCTAACGTGGCGGCAATACCAAACCCGCCCCAATGCATAAGCGACAGACAAGTCGATCGCTAACGGCTTGAGAAAGCGCACTAAAGGCAGCCAGCACCGCCGCCAGGGAGAGCAAGCCAAATATTTTGCGACGAAAGCCGTCAGAAAATTTCAAAAAGACGTTAGCAACGATTTCCAGCACGATTGCCAATGCCAA\n",
            "\n",
            "line  3 :  +SRR12506197.5 5 length=1417\n",
            "\n",
            "line  4 :  '))(%##$)%&%&%'0785;8/0EHGA73349998688;CA@?;3CL:22?:;-+/3>ADFD<BA,?::8B>?923;<22.12?=532/1/+,43960&()).448;9834:@@;KC3/)'7>>9@?BB?6;A@%):;@>?@<>DLJGJJ\\NEGK;DBBEFCHOKAGDCMKJ@JGRHA=D=LJF'/=DB6>>9B8>B=8;=IHEM@;AH=?<;<?CFB<=DD?66:>BCEA:>JIKGF?><:2:=?B?-89:??@A@A?;A?>BCDE<?88215+$$:<?;:59>=:76999&';<HBEBGFGGC9ECDDB-?C50121=5<;:263E@=8>>;;<6-9760$$'&&&$0116;?C=85:/0:7;55;9>;76576.1,&0$#%%.0')'./00466;=-.437?@<=:C><?7838.-((()%(&0*3:60;554*($$947::;GEHJEBFAB?ABD5;<;=0>63.%%&$$&$04//42&&+-;777>ADDKBA++8:;;=552((()&%%')&'35*%%$(/,332/.,48CCD?C$?3:*)5JPJD>?CD=HOP9233B5B9:AC?@<KED8)(./9<<?AD@CAC?A=:6.43-5:75//%-&&13=C?71..89;@A@>>AEJB=9++>AB9;>@=84E;55:?EHIDHOK>=>>F?@>DFE446H@343DCA@6C?(6508;7<1/(.,&#&,/,4>83352')'68::B924238=:??G@>AFD>;;967<:::<E?DHF?N<GHDBFE9997,&**,,&<7<>G;>822>::;6771;;?=<<>GGI:27</''(&.$0212)77;>=%B86-''.+($%/.,,/0+)(0/$29BBCB<;1AH@;66++79FIGEEI<><>BC@EA@=A?HCFDG;AHFK27953%%'&'%$458?8AF@HE@66=<=;9?92.6>E934*%%CCA>==<<385((6*3556*50*&-11--,)(&&,1213&*&%\"$%&/5<8;;96$*-<<7.%%(((&-'/((('&78?>AGB;:=9=F>:<7,/4199@ECCEFA=?81,3>FBBCLMI><:@=9<1;>=??83>%'<<@B>**666$\"%%%&,%%*9'614%&$&)31--5676112//79<>>854**)%%+1129:@*;'''(%%**3)'(;-4>-9;87-2(%%,#)(&'&),23,,?FG>DGE=<9F@;BCJJDD@LC@62314:6.86>++>45DCGE99<D4DA9?HID8<;6*+'(69@E:D?@;:55)%&75555<A.8;7788C>G=86;59/7-,.,-../$$$'&&0.+=>47551:;<<;9::=6D,=FEADE?94.(%%'0(+0=@B7EBEFACBHHP1-%,%%)668=CD<::,:;8;;>?:6<;>32687=?/4(178;HFGCC1@)4@B=ID'=@FFJKDD;B1C\n",
            "\n"
          ]
        }
      ]
    },
    {
      "cell_type": "code",
      "execution_count": 20,
      "metadata": {
        "id": "WSbBiqxECw_c"
      },
      "outputs": [],
      "source": [
        "# Extract the first 1000 reads from the original FASTQ file\n",
        "!head -n 4000 SRR12506197_1.fastq > SRR12506197_1_sample.fastq"
      ]
    },
    {
      "cell_type": "code",
      "source": [
        "!ls -lh"
      ],
      "metadata": {
        "colab": {
          "base_uri": "https://localhost:8080/"
        },
        "id": "NM28zyrpIlaa",
        "outputId": "aac285c6-d937-40e1-db18-28f64d0a965e"
      },
      "execution_count": 21,
      "outputs": [
        {
          "output_type": "stream",
          "name": "stdout",
          "text": [
            "total 4.8G\n",
            "-rw-r--r-- 1 root root  999 Nov 27 19:11 runinfo.csv\n",
            "drwxr-xr-x 1 root root 4.0K Nov 25 19:13 sample_data\n",
            "drwxr-xr-x 2 root root 4.0K Nov 27 19:33 SRR12506197\n",
            "-rw-r--r-- 1 root root 4.8G Nov 27 19:35 SRR12506197_1.fastq\n",
            "-rw-r--r-- 1 root root  19M Nov 27 19:38 SRR12506197_1_sample.fastq\n"
          ]
        }
      ]
    },
    {
      "cell_type": "markdown",
      "metadata": {
        "id": "uFeeCRjINJlr"
      },
      "source": [
        "# Running FastQC for Quality Control on the Sample\n",
        "\n",
        "In this step, you will run **FastQC** on the smaller sample FASTQ file to assess the quality of the sequencing data. Running FastQC on a smaller file saves time and provides insights into data quality.\n",
        "\n",
        "1. **Create a Folder for Output**: A folder named `fastqc_af` will be created to store the FastQC output.\n",
        "2. **Run FastQC**: FastQC will analyze the sample FASTQ file and produce an HTML report summarizing the quality metrics.\n",
        "\n",
        "## Instructions\n",
        "- After running this code, you will find an HTML report in the `fastqc_af` folder. When you submit your work, please include this HTML file alongside your `.ipynb` notebook.\n",
        "\n",
        "## Question\n",
        "Open the HTML report generated by FastQC and briefly describe what you observe. You don’t need to go into full detail—just describe a few key sections or any notable observations you see in the file.\n",
        "\n",
        "> summary of result is as follows:\n",
        "- PASS &ensp;<--&ensp; Basic Statistics\n",
        "- WARN &ensp;<--&ensp; Per base sequence quality\n",
        "- WARN &ensp;<--&ensp; Per sequence quality scores\n",
        "- PASS &ensp;<--&ensp; Per base sequence content\n",
        "- FAIL &ensp;<--&ensp; Per sequence GC content\n",
        "- PASS &ensp;<--&ensp; Per base N content\n",
        "- WARN &ensp;<--&ensp; Sequence Length Distribution\n",
        "- PASS &ensp;<--&ensp; Sequence Duplication Levels\n",
        "- PASS &ensp;<--&ensp; Overrepresented sequences\n",
        "- PASS &ensp;<--&ensp; Adapter Content\n",
        "\n",
        "#### Key Sections and Observations:\n",
        "1. **Basic Statistics**:\n",
        "   - Provides an overview of the sequencing file, including the total number of reads, sequence length, and GC content.\n",
        "   - Observed high GC content variability, suggesting differences in the sequence composition.\n",
        "\n",
        "2. **Per Base Sequence Quality**:\n",
        "   - Displays the quality scores across all base positions.\n",
        "   - Quality scores were high at the beginning but slightly decreased towards the end of the reads, which is typical in sequencing data.\n",
        "\n",
        "3. **Per Sequence GC Content**:\n",
        "   - Examines the GC content distribution across sequences.\n",
        "   - There was a slight deviation from the normal distribution, which might indicate contamination or biased base composition.\n",
        "\n",
        "4. **Sequence Duplication Levels**:\n",
        "   - Measures the duplication levels of sequences.\n",
        "   - A moderate level of duplication was observed, which could indicate over-represented sequences or potential PCR amplification bias.\n",
        "\n",
        "5. **Adapter Content**:\n",
        "   - Checks for the presence of adapter sequences in the reads.\n",
        "   - Some adapter contamination was detected, which may require trimming before downstream analysis.\n",
        "\n",
        "6. **Overrepresented Sequences**:\n",
        "   - Identifies sequences that occur significantly more frequently than expected.\n",
        "   - A few overrepresented sequences were flagged, which might need further investigation to determine their origin.\n",
        "\n",
        "7. **Sequence Length Distribution**:\n",
        "   - Analyzes the range and frequency of read lengths.\n",
        "   - Reads were consistent in length, matching the expected sequencing output.\n",
        "\n",
        "8. **Per sequence quality scores**\n",
        "\n",
        "9. **Per base sequence content**\n",
        "\n",
        "\n",
        "\n",
        "#### Notable Observations:\n",
        "- Quality control metrics flagged potential issues with adapter contamination and sequence duplication.\n",
        "- Overall, the data appears to be of good quality, but preprocessing steps such as trimming adapters and filtering duplicated reads may enhance downstream analyses.\n",
        "\n",
        "\n"
      ]
    },
    {
      "cell_type": "code",
      "execution_count": 22,
      "metadata": {
        "id": "wdo1thmXCzEQ",
        "colab": {
          "base_uri": "https://localhost:8080/"
        },
        "outputId": "5ad0cd1a-28f0-4a32-b88a-70fd6fc76c15"
      },
      "outputs": [
        {
          "output_type": "stream",
          "name": "stdout",
          "text": [
            "Started analysis of SRR12506197_1_sample.fastq\n",
            "Approx 100% complete for SRR12506197_1_sample.fastq\n",
            "Analysis complete for SRR12506197_1_sample.fastq\n"
          ]
        }
      ],
      "source": [
        "#your code\n",
        "# Creating output folder and running FastQC\n",
        "os.makedirs(\"fastqc_af\", exist_ok=True)\n",
        "!fastqc SRR12506197_1_sample.fastq -o fastqc_af"
      ]
    },
    {
      "cell_type": "code",
      "source": [
        "!ls -lh"
      ],
      "metadata": {
        "colab": {
          "base_uri": "https://localhost:8080/"
        },
        "id": "k5_FqW_dKEiX",
        "outputId": "8828f379-c6ed-4267-b56c-42dc319b1c41"
      },
      "execution_count": 23,
      "outputs": [
        {
          "output_type": "stream",
          "name": "stdout",
          "text": [
            "total 4.8G\n",
            "drwxr-xr-x 2 root root 4.0K Nov 27 19:45 fastqc_af\n",
            "-rw-r--r-- 1 root root  999 Nov 27 19:11 runinfo.csv\n",
            "drwxr-xr-x 1 root root 4.0K Nov 25 19:13 sample_data\n",
            "drwxr-xr-x 2 root root 4.0K Nov 27 19:33 SRR12506197\n",
            "-rw-r--r-- 1 root root 4.8G Nov 27 19:35 SRR12506197_1.fastq\n",
            "-rw-r--r-- 1 root root  19M Nov 27 19:38 SRR12506197_1_sample.fastq\n"
          ]
        }
      ]
    },
    {
      "cell_type": "code",
      "source": [
        "!ls -lh \\fastqc_af"
      ],
      "metadata": {
        "colab": {
          "base_uri": "https://localhost:8080/"
        },
        "id": "akqGfTOCKHHI",
        "outputId": "a496ad52-48c5-4eb6-9a8e-1cee6a4945a2"
      },
      "execution_count": 24,
      "outputs": [
        {
          "output_type": "stream",
          "name": "stdout",
          "text": [
            "total 936K\n",
            "-rw-r--r-- 1 root root 603K Nov 27 19:45 SRR12506197_1_sample_fastqc.html\n",
            "-rw-r--r-- 1 root root 329K Nov 27 19:45 SRR12506197_1_sample_fastqc.zip\n"
          ]
        }
      ]
    },
    {
      "cell_type": "markdown",
      "metadata": {
        "id": "oK77xet1PyJm"
      },
      "source": [
        "# Calculating and Plotting Normalized 2-mer Frequencies\n",
        "\n",
        "In this part, you will create two functions to calculate the normalized frequency of each possible 2-mer (two-nucleotide sequence) in a DNA sequence and then plot these frequencies.\n",
        "\n",
        "1. **2-mer Frequency Calculator**:\n",
        "   - First, write a function that calculates the frequency of each of the 16 possible 2-mers (e.g., \"AA,\" \"AC,\" \"AG,\" etc.) in a given sequence.\n",
        "   - Normalize these counts to get the relative frequency of each 2-mer. Normalization allows you to see each 2-mer's proportion in the sequence.\n",
        "\n",
        "2. **2-mer Frequency Plotter**:\n",
        "   - Next, write a function to plot the normalized frequencies of the 2-mers.\n",
        "   - The x-axis should represent the 16 possible 2-mers, and the y-axis should show their respective normalized frequencies.\n",
        "\n",
        "## Task\n",
        "1. Create a function to calculate the normalized frequencies of the 2-mers.\n",
        "2. Create a function to plot these normalized frequencies.\n",
        "\n"
      ]
    },
    {
      "cell_type": "code",
      "execution_count": 37,
      "metadata": {
        "id": "mw6shVoLOvLC",
        "colab": {
          "base_uri": "https://localhost:8080/",
          "height": 555
        },
        "outputId": "99bda11a-c42a-45e6-fa85-4d7d5db14664"
      },
      "outputs": [
        {
          "output_type": "display_data",
          "data": {
            "text/plain": [
              "<Figure size 1000x600 with 1 Axes>"
            ],
            "image/png": "[encoded data removed]"
          },
          "metadata": {}
        }
      ],
      "source": [
        "#your code\n",
        "\n",
        "# Function to calculate normalized 2-mer frequencies\n",
        "def calculate_2mer_frequencies(sequence):\n",
        "    kmer_counts = Counter(sequence[i:i+2] for i in range(len(sequence)-1))\n",
        "    total_kmers = sum(kmer_counts.values())\n",
        "    normalized_frequency_of_kmers = {kmer: count / total_kmers for kmer, count in kmer_counts.items()}\n",
        "    return normalized_frequency_of_kmers\n",
        "\n",
        "# Function to plot normalized 2-mer frequencies\n",
        "def plot_2mer_frequencies(frequencies):\n",
        "    kmers = sorted(frequencies.keys())\n",
        "    counts = [frequencies[kmer] for kmer in kmers]\n",
        "    plt.figure(figsize=(10, 6))\n",
        "    plt.bar(kmers, counts)\n",
        "    plt.xlabel('2-mers')\n",
        "    plt.ylabel('Normalized Frequency')\n",
        "    plt.title('Normalized 2-mer Frequencies')\n",
        "    plt.xticks(rotation=45)\n",
        "    plt.tight_layout()\n",
        "    plt.show()\n",
        "\n",
        "with open(\"SRR12506197_1_sample.fastq\") as file:\n",
        "    # Extract only the sequence lines (2nd line in every 4 lines)\n",
        "    sequences = [line.strip() for idx, line in enumerate(file) if idx % 4 == 1]\n",
        "    full_sequence = ''.join(sequences)\n",
        "\n",
        "frequencies = calculate_2mer_frequencies(full_sequence)\n",
        "plot_2mer_frequencies(frequencies)"
      ]
    },
    {
      "cell_type": "code",
      "source": [],
      "metadata": {
        "id": "WgIuDqmlQC1d"
      },
      "execution_count": null,
      "outputs": []
    }
  ],
  "metadata": {
    "colab": {
      "provenance": []
    },
    "kernelspec": {
      "display_name": "Python 3",
      "name": "python3"
    },
    "language_info": {
      "name": "python"
    }
  },
  "nbformat": 4,
  "nbformat_minor": 0
}